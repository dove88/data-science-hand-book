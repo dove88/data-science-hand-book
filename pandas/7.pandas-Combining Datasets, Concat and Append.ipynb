{
 "cells": [
  {
   "cell_type": "code",
   "execution_count": 1,
   "id": "d0c08f85",
   "metadata": {},
   "outputs": [],
   "source": [
    "import pandas as pd\n",
    "import numpy as np"
   ]
  },
  {
   "cell_type": "code",
   "execution_count": 2,
   "id": "3c0a763a",
   "metadata": {},
   "outputs": [
    {
     "name": "stdout",
     "output_type": "stream",
     "text": [
      "1.4.3\n",
      "1.21.2\n"
     ]
    }
   ],
   "source": [
    "print(pd.__version__)\n",
    "print(np.__version__)"
   ]
  },
  {
   "cell_type": "markdown",
   "id": "cf852fa0",
   "metadata": {},
   "source": [
    "##### points to notify\n",
    "\n",
    "\n",
    "\n",
    "- pd.concat()\n",
    "- duplicate indicies\n",
    "- ignoring index\n",
    "- adding multi-index keys\n",
    "- append()"
   ]
  },
  {
   "cell_type": "markdown",
   "id": "752f853f",
   "metadata": {},
   "source": [
    "##### Combining Datasets: Concat and Append"
   ]
  },
  {
   "cell_type": "markdown",
   "id": "0114f586",
   "metadata": {},
   "source": [
    "Some of the most interesting studies of data come from combining different data\n",
    "sources. These operations can involve anything from very straightforward concatena‐\n",
    "tion of two different datasets, to more complicated database-style joins and merges\n",
    "that correctly handle any overlaps between the datasets. Series and DataFrames are\n",
    "built with this type of operation in mind, and Pandas includes functions and methods\n",
    "that make this sort of data wrangling fast and straightforward."
   ]
  },
  {
   "cell_type": "markdown",
   "id": "83b7fd77",
   "metadata": {},
   "source": [
    "Here we’ll take a look at simple concatenation of Series and DataFrames with the\n",
    "pd.concat function; later we’ll dive into more sophisticated in-memory merges and\n",
    "joins implemented in Pandas."
   ]
  },
  {
   "cell_type": "markdown",
   "id": "f58bba2d",
   "metadata": {},
   "source": [
    "##### Simple Concatenation with pd.concat"
   ]
  },
  {
   "cell_type": "markdown",
   "id": "18067c0c",
   "metadata": {},
   "source": [
    "Pandas has a function, pd.concat(), which has a similar syntax to np.concatenate\n",
    "but contains a number of options that we’ll discuss momentarily:"
   ]
  },
  {
   "cell_type": "markdown",
   "id": "b4cbc5dc",
   "metadata": {},
   "source": [
    "pd.concat() can be used for a simple concatenation of Series or DataFrame objects,\n",
    "just as np.concatenate() can be used for simple concatenations of arrays:"
   ]
  },
  {
   "cell_type": "code",
   "execution_count": 3,
   "id": "310b8b0a",
   "metadata": {},
   "outputs": [
    {
     "data": {
      "text/plain": [
       "1    A\n",
       "2    B\n",
       "3    C\n",
       "4    D\n",
       "5    E\n",
       "6    F\n",
       "dtype: object"
      ]
     },
     "execution_count": 3,
     "metadata": {},
     "output_type": "execute_result"
    }
   ],
   "source": [
    "ser1 = pd.Series(['A', 'B', 'C'], index=[1, 2, 3])\n",
    "ser2 = pd.Series(['D', 'E', 'F'], index=[4, 5, 6])\n",
    "pd.concat([ser1, ser2])"
   ]
  },
  {
   "cell_type": "markdown",
   "id": "46de0bec",
   "metadata": {},
   "source": [
    "It also works to concatenate higher-dimensional objects, such as DataFrames:"
   ]
  },
  {
   "cell_type": "code",
   "execution_count": 6,
   "id": "6a008803",
   "metadata": {},
   "outputs": [],
   "source": [
    "def make_df(cols, ind):\n",
    "    \"\"\"Quickly make a DataFrame\"\"\"\n",
    "    data = {c: [str(c) + str(i) for i in ind]\n",
    "    for c in cols}\n",
    "    return pd.DataFrame(data, ind)"
   ]
  },
  {
   "cell_type": "code",
   "execution_count": 7,
   "id": "c571762e",
   "metadata": {},
   "outputs": [
    {
     "name": "stdout",
     "output_type": "stream",
     "text": [
      "    A   B\n",
      "1  A1  B1\n",
      "2  A2  B2\n",
      "    A   B\n",
      "3  A3  B3\n",
      "4  A4  B4\n",
      "    A   B\n",
      "1  A1  B1\n",
      "2  A2  B2\n",
      "3  A3  B3\n",
      "4  A4  B4\n"
     ]
    }
   ],
   "source": [
    "df1 = make_df('AB', [1, 2])\n",
    "df2 = make_df('AB', [3, 4])\n",
    "print(df1); print(df2); print(pd.concat([df1, df2]))"
   ]
  },
  {
   "cell_type": "markdown",
   "id": "86574a77",
   "metadata": {},
   "source": [
    "By default, the concatenation takes place row-wise within the DataFrame (i.e.,\n",
    "axis=0). Like np.concatenate, pd.concat allows specification of an axis along which\n",
    "concatenation will take place. Consider the following example:"
   ]
  },
  {
   "cell_type": "code",
   "execution_count": 9,
   "id": "2121b640",
   "metadata": {},
   "outputs": [
    {
     "name": "stdout",
     "output_type": "stream",
     "text": [
      "    A   B\n",
      "0  A0  B0\n",
      "1  A1  B1\n",
      "    C   D\n",
      "0  C0  D0\n",
      "1  C1  D1\n",
      "    A   B   C   D\n",
      "0  A0  B0  C0  D0\n",
      "1  A1  B1  C1  D1\n"
     ]
    }
   ],
   "source": [
    "df3 = make_df('AB', [0, 1])\n",
    "df4 = make_df('CD', [0, 1])\n",
    "print(df3); print(df4); print(pd.concat([df3, df4], axis=1))"
   ]
  },
  {
   "cell_type": "markdown",
   "id": "34853203",
   "metadata": {},
   "source": [
    "##### Duplicate indices"
   ]
  },
  {
   "cell_type": "markdown",
   "id": "459f22ef",
   "metadata": {},
   "source": [
    "One important difference between np.concatenate and pd.concat is that Pandas\n",
    "concatenation preserves indices, even if the result will have duplicate indices! Consider\n",
    "this simple example:"
   ]
  },
  {
   "cell_type": "code",
   "execution_count": 10,
   "id": "3796716e",
   "metadata": {},
   "outputs": [
    {
     "name": "stdout",
     "output_type": "stream",
     "text": [
      "    A   B\n",
      "0  A0  B0\n",
      "1  A1  B1\n",
      "    A   B\n",
      "0  A2  B2\n",
      "1  A3  B3\n",
      "    A   B\n",
      "0  A0  B0\n",
      "1  A1  B1\n",
      "0  A2  B2\n",
      "1  A3  B3\n"
     ]
    }
   ],
   "source": [
    "x = make_df('AB', [0, 1])\n",
    "y = make_df('AB', [2, 3])\n",
    "y.index = x.index  # make duplicate indices!\n",
    "print(x); print(y); print(pd.concat([x, y]))"
   ]
  },
  {
   "cell_type": "markdown",
   "id": "ff1d1869",
   "metadata": {},
   "source": [
    "Notice the repeated indices in the result. While this is valid within DataFrames, the\n",
    "outcome is often undesirable. pd.concat() gives us a few ways to handle it."
   ]
  },
  {
   "cell_type": "markdown",
   "id": "6ea92de1",
   "metadata": {},
   "source": [
    "**Catching the repeats as an error.**    If you’d like to simply verify that the indices in the\n",
    "result of pd.concat() do not overlap, you can specify the verify_integrity flag.\n",
    "With this set to True, the concatenation will raise an exception if there are duplicate\n",
    "indices. Here is an example, where for clarity we’ll catch and print the error message:"
   ]
  },
  {
   "cell_type": "code",
   "execution_count": 11,
   "id": "143870d2",
   "metadata": {},
   "outputs": [
    {
     "name": "stdout",
     "output_type": "stream",
     "text": [
      "ValueError: Indexes have overlapping values: Int64Index([0, 1], dtype='int64')\n"
     ]
    }
   ],
   "source": [
    "try:\n",
    "    pd.concat([x, y], verify_integrity=True)\n",
    "except ValueError as e:\n",
    "    print(\"ValueError:\", e)"
   ]
  },
  {
   "cell_type": "markdown",
   "id": "d44db58d",
   "metadata": {},
   "source": [
    "**Ignoring the index.**    Sometimes the index itself does not matter, and you would prefer\n",
    "it to simply be ignored. You can specify this option using the ignore_index flag. With\n",
    "this set to True, the concatenation will create a new integer index for the resulting\n",
    "Series:"
   ]
  },
  {
   "cell_type": "code",
   "execution_count": 12,
   "id": "00d315ce",
   "metadata": {},
   "outputs": [
    {
     "name": "stdout",
     "output_type": "stream",
     "text": [
      "    A   B\n",
      "0  A0  B0\n",
      "1  A1  B1\n",
      "    A   B\n",
      "0  A2  B2\n",
      "1  A3  B3\n",
      "    A   B\n",
      "0  A0  B0\n",
      "1  A1  B1\n",
      "2  A2  B2\n",
      "3  A3  B3\n"
     ]
    }
   ],
   "source": [
    "print(x); print(y); print(pd.concat([x, y], ignore_index=True))"
   ]
  },
  {
   "cell_type": "markdown",
   "id": "79698e16",
   "metadata": {},
   "source": [
    "**Adding MultiIndex keys.**    Another alternative is to use the keys option to specify a label\n",
    "for the data sources; the result will be a hierarchically indexed series containing the\n",
    "data:"
   ]
  },
  {
   "cell_type": "code",
   "execution_count": 13,
   "id": "988fdedc",
   "metadata": {},
   "outputs": [
    {
     "name": "stdout",
     "output_type": "stream",
     "text": [
      "    A   B\n",
      "0  A0  B0\n",
      "1  A1  B1\n",
      "    A   B\n",
      "0  A2  B2\n",
      "1  A3  B3\n",
      "      A   B\n",
      "x 0  A0  B0\n",
      "  1  A1  B1\n",
      "y 0  A2  B2\n",
      "  1  A3  B3\n"
     ]
    }
   ],
   "source": [
    "print(x); print(y); print(pd.concat([x, y], keys=['x', 'y']))"
   ]
  },
  {
   "cell_type": "markdown",
   "id": "d199472d",
   "metadata": {},
   "source": [
    "##### Concatenation with joins"
   ]
  },
  {
   "cell_type": "markdown",
   "id": "13f8ad91",
   "metadata": {},
   "source": [
    "In the simple examples we just looked at, we were mainly concatenating DataFrames\n",
    "with shared column names. In practice, data from different sources might have differ‐\n",
    "ent sets of column names, and pd.concat offers several options in this case. Consider\n",
    "the concatenation of the following two DataFrames, which have some (but not all!)\n",
    "columns in common:"
   ]
  },
  {
   "cell_type": "code",
   "execution_count": 18,
   "id": "7acd4eb9",
   "metadata": {},
   "outputs": [
    {
     "name": "stdout",
     "output_type": "stream",
     "text": [
      "    A   B   C\n",
      "1  A1  B1  C1\n",
      "2  A2  B2  C2\n",
      "    B   C   D\n",
      "3  B3  C3  D3\n",
      "4  B4  C4  D4\n",
      "     A   B   C    D\n",
      "1   A1  B1  C1  NaN\n",
      "2   A2  B2  C2  NaN\n",
      "3  NaN  B3  C3   D3\n",
      "4  NaN  B4  C4   D4\n"
     ]
    },
    {
     "data": {
      "text/plain": [
       "(None, None)"
      ]
     },
     "execution_count": 18,
     "metadata": {},
     "output_type": "execute_result"
    }
   ],
   "source": [
    "df5 = make_df('ABC', [1, 2])\n",
    "df6 = make_df('BCD', [3, 4])\n",
    "print(df5);print(df6),print(pd.concat([df5,df6]))"
   ]
  },
  {
   "cell_type": "markdown",
   "id": "dfb6c6ee",
   "metadata": {},
   "source": [
    "By default, the entries for which no data is available are filled with NA values. To\n",
    "change this, we can specify one of several options for the join and join_axes param‐\n",
    "eters of the concatenate function. By default, the join is a union of the input columns\n",
    "(join='outer'), but we can change this to an intersection of the columns using\n",
    "join='inner':"
   ]
  },
  {
   "cell_type": "code",
   "execution_count": 19,
   "id": "1b0ebd7c",
   "metadata": {},
   "outputs": [
    {
     "name": "stdout",
     "output_type": "stream",
     "text": [
      "    A   B   C\n",
      "1  A1  B1  C1\n",
      "2  A2  B2  C2\n",
      "    B   C   D\n",
      "3  B3  C3  D3\n",
      "4  B4  C4  D4\n",
      "    B   C\n",
      "1  B1  C1\n",
      "2  B2  C2\n",
      "3  B3  C3\n",
      "4  B4  C4\n"
     ]
    }
   ],
   "source": [
    "print(df5); print(df6);\n",
    "print(pd.concat([df5, df6], join='inner'))"
   ]
  },
  {
   "cell_type": "markdown",
   "id": "cc3ed0d4",
   "metadata": {},
   "source": [
    "##### The append() method"
   ]
  },
  {
   "cell_type": "markdown",
   "id": "93906aed",
   "metadata": {},
   "source": [
    "Because direct array concatenation is so common, Series and DataFrame objects\n",
    "have an append method that can accomplish the same thing in fewer keystrokes. For\n",
    "example, rather than calling pd.concat([df1, df2]), you can simply call\n",
    "df1.append(df2):"
   ]
  },
  {
   "cell_type": "code",
   "execution_count": 22,
   "id": "7b44096d",
   "metadata": {},
   "outputs": [
    {
     "name": "stdout",
     "output_type": "stream",
     "text": [
      "    A   B\n",
      "1  A1  B1\n",
      "2  A2  B2\n",
      "    A   B\n",
      "3  A3  B3\n",
      "4  A4  B4\n",
      "    A   B\n",
      "1  A1  B1\n",
      "2  A2  B2\n",
      "3  A3  B3\n",
      "4  A4  B4\n"
     ]
    },
    {
     "name": "stderr",
     "output_type": "stream",
     "text": [
      "C:\\Users\\Prigith\\AppData\\Local\\Temp\\ipykernel_4396\\1561387783.py:1: FutureWarning: The frame.append method is deprecated and will be removed from pandas in a future version. Use pandas.concat instead.\n",
      "  print(df1); print(df2); print(df1.append(df2))\n"
     ]
    }
   ],
   "source": [
    "print(df1); print(df2); print(df1.append(df2))"
   ]
  },
  {
   "cell_type": "code",
   "execution_count": null,
   "id": "9a3183fb",
   "metadata": {},
   "outputs": [],
   "source": []
  }
 ],
 "metadata": {
  "kernelspec": {
   "display_name": "Python 3 (ipykernel)",
   "language": "python",
   "name": "python3"
  },
  "language_info": {
   "codemirror_mode": {
    "name": "ipython",
    "version": 3
   },
   "file_extension": ".py",
   "mimetype": "text/x-python",
   "name": "python",
   "nbconvert_exporter": "python",
   "pygments_lexer": "ipython3",
   "version": "3.9.7"
  }
 },
 "nbformat": 4,
 "nbformat_minor": 5
}
