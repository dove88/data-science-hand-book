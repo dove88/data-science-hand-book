{
 "cells": [
  {
   "cell_type": "code",
   "execution_count": 2,
   "id": "40b7bc7a",
   "metadata": {},
   "outputs": [],
   "source": [
    "import numpy as np"
   ]
  },
  {
   "cell_type": "code",
   "execution_count": 3,
   "id": "e4c41a46",
   "metadata": {},
   "outputs": [
    {
     "data": {
      "text/plain": [
       "'1.21.2'"
      ]
     },
     "execution_count": 3,
     "metadata": {},
     "output_type": "execute_result"
    }
   ],
   "source": [
    "np.__version__"
   ]
  },
  {
   "cell_type": "markdown",
   "id": "a861df8e",
   "metadata": {},
   "source": [
    "##### Points to notify\n",
    "\n",
    "\n",
    "- comparison operators\n",
    "- counting entries\n",
    "- boolean arrays as mask\n",
    "- fancy indexing\n",
    "- combined indexing\n",
    "- selecting random points\n",
    "- binning data"
   ]
  },
  {
   "cell_type": "markdown",
   "id": "6c804014",
   "metadata": {},
   "source": [
    "This section covers the use of Boolean masks to examine and manipulate values\n",
    "within NumPy arrays. Masking comes up when you want to extract, modify, count, or\n",
    "otherwise manipulate values in an array based on some criterion: for example, you\n",
    "might wish to count all values greater than a certain value, or perhaps remove all out‐\n",
    "liers that are above some threshold. In NumPy, Boolean masking is often the most\n",
    "efficient way to accomplish these types of tasks."
   ]
  },
  {
   "cell_type": "markdown",
   "id": "bd11bec2",
   "metadata": {},
   "source": [
    "##### Comparison Operators as ufuncs"
   ]
  },
  {
   "cell_type": "markdown",
   "id": "d7e1da0c",
   "metadata": {},
   "source": [
    "In “Computation on NumPy Arrays: Universal Functions” on page 50 we introduced\n",
    "ufuncs, and focused in particular on arithmetic operators. We saw that using +, -, *, /, and others on arrays leads to element-wise operations. NumPy also implements com‐\n",
    "parison operators such as < (less than) and > (greater than) as element-wise ufuncs.\n",
    "The result of these comparison operators is always an array with a Boolean data type.\n",
    "All six of the standard comparison operations are available:"
   ]
  },
  {
   "cell_type": "code",
   "execution_count": 6,
   "id": "b8e4c205",
   "metadata": {},
   "outputs": [
    {
     "data": {
      "text/plain": [
       "array([ True,  True, False, False, False])"
      ]
     },
     "execution_count": 6,
     "metadata": {},
     "output_type": "execute_result"
    }
   ],
   "source": [
    "x = np.array([1, 2, 3, 4, 5])\n",
    "x < 3"
   ]
  },
  {
   "cell_type": "markdown",
   "id": "fb70d006",
   "metadata": {},
   "source": [
    "It is also possible to do an element-by-element comparison of two arrays, and to\n",
    "include compound expressions:"
   ]
  },
  {
   "cell_type": "code",
   "execution_count": 9,
   "id": "ccc83594",
   "metadata": {},
   "outputs": [
    {
     "data": {
      "text/plain": [
       "array([False,  True, False, False, False])"
      ]
     },
     "execution_count": 9,
     "metadata": {},
     "output_type": "execute_result"
    }
   ],
   "source": [
    "(2 * x) == (x ** 2)"
   ]
  },
  {
   "cell_type": "markdown",
   "id": "93a6c53e",
   "metadata": {},
   "source": [
    "##### Counting entries"
   ]
  },
  {
   "cell_type": "markdown",
   "id": "49534481",
   "metadata": {},
   "source": [
    "To count the number of True entries in a Boolean array, np.count_nonzero is useful:"
   ]
  },
  {
   "cell_type": "code",
   "execution_count": 13,
   "id": "0ce58e1f",
   "metadata": {},
   "outputs": [
    {
     "data": {
      "text/plain": [
       "5"
      ]
     },
     "execution_count": 13,
     "metadata": {},
     "output_type": "execute_result"
    }
   ],
   "source": [
    "np.count_nonzero(x < 6) # how many values less than 6?"
   ]
  },
  {
   "cell_type": "code",
   "execution_count": 14,
   "id": "e69414fa",
   "metadata": {},
   "outputs": [
    {
     "data": {
      "text/plain": [
       "5"
      ]
     },
     "execution_count": 14,
     "metadata": {},
     "output_type": "execute_result"
    }
   ],
   "source": [
    "np.sum(x < 6)"
   ]
  },
  {
   "cell_type": "code",
   "execution_count": 15,
   "id": "b2725ba7",
   "metadata": {},
   "outputs": [
    {
     "data": {
      "text/plain": [
       "array([[5, 0, 3, 3],\n",
       "       [7, 9, 3, 5],\n",
       "       [2, 4, 7, 6]])"
      ]
     },
     "execution_count": 15,
     "metadata": {},
     "output_type": "execute_result"
    }
   ],
   "source": [
    "rng = np.random.RandomState(0)\n",
    "x = rng.randint(10, size=(3, 4))\n",
    "x"
   ]
  },
  {
   "cell_type": "code",
   "execution_count": 16,
   "id": "ef466d4b",
   "metadata": {},
   "outputs": [
    {
     "data": {
      "text/plain": [
       "True"
      ]
     },
     "execution_count": 16,
     "metadata": {},
     "output_type": "execute_result"
    }
   ],
   "source": [
    "# are there any values greater than 8?\n",
    "np.any(x > 8)"
   ]
  },
  {
   "cell_type": "code",
   "execution_count": 17,
   "id": "7c3134fa",
   "metadata": {},
   "outputs": [
    {
     "data": {
      "text/plain": [
       "False"
      ]
     },
     "execution_count": 17,
     "metadata": {},
     "output_type": "execute_result"
    }
   ],
   "source": [
    "# are there any values less than zero?\n",
    "np.any(x < 0)"
   ]
  },
  {
   "cell_type": "code",
   "execution_count": 18,
   "id": "f55478e0",
   "metadata": {},
   "outputs": [
    {
     "data": {
      "text/plain": [
       "True"
      ]
     },
     "execution_count": 18,
     "metadata": {},
     "output_type": "execute_result"
    }
   ],
   "source": [
    "# are all values less than 10?\n",
    "np.all(x < 10)"
   ]
  },
  {
   "cell_type": "code",
   "execution_count": 19,
   "id": "182f6060",
   "metadata": {},
   "outputs": [
    {
     "data": {
      "text/plain": [
       "False"
      ]
     },
     "execution_count": 19,
     "metadata": {},
     "output_type": "execute_result"
    }
   ],
   "source": [
    "# are all values equal to 6?\n",
    "np.all(x == 6)"
   ]
  },
  {
   "cell_type": "code",
   "execution_count": 20,
   "id": "ba0e0063",
   "metadata": {},
   "outputs": [
    {
     "data": {
      "text/plain": [
       "array([ True, False,  True])"
      ]
     },
     "execution_count": 20,
     "metadata": {},
     "output_type": "execute_result"
    }
   ],
   "source": [
    "# are all values in each row less than 8?\n",
    "np.all(x < 8, axis=1)"
   ]
  },
  {
   "cell_type": "markdown",
   "id": "bca6769f",
   "metadata": {},
   "source": [
    "##### Boolean Arrays as Masks"
   ]
  },
  {
   "cell_type": "markdown",
   "id": "fb828a06",
   "metadata": {},
   "source": [
    "In the preceding section, we looked at aggregates computed directly on Boolean\n",
    "arrays. A more powerful pattern is to use Boolean arrays as masks, to select particular\n",
    "subsets of the data themselves. Returning to our x array from before, suppose we\n",
    "want an array of all values in the array that are less than, say, 5:"
   ]
  },
  {
   "cell_type": "code",
   "execution_count": 21,
   "id": "2bd47309",
   "metadata": {},
   "outputs": [
    {
     "data": {
      "text/plain": [
       "array([[5, 0, 3, 3],\n",
       "       [7, 9, 3, 5],\n",
       "       [2, 4, 7, 6]])"
      ]
     },
     "execution_count": 21,
     "metadata": {},
     "output_type": "execute_result"
    }
   ],
   "source": [
    "x"
   ]
  },
  {
   "cell_type": "markdown",
   "id": "0bc56f4a",
   "metadata": {},
   "source": [
    "We can obtain a Boolean array for this condition easily, as we’ve already seen:"
   ]
  },
  {
   "cell_type": "code",
   "execution_count": 22,
   "id": "8d3f5715",
   "metadata": {},
   "outputs": [
    {
     "data": {
      "text/plain": [
       "array([[False,  True,  True,  True],\n",
       "       [False, False,  True, False],\n",
       "       [ True,  True, False, False]])"
      ]
     },
     "execution_count": 22,
     "metadata": {},
     "output_type": "execute_result"
    }
   ],
   "source": [
    "x < 5"
   ]
  },
  {
   "cell_type": "markdown",
   "id": "c101730e",
   "metadata": {},
   "source": [
    "Now to select these values from the array, we can simply index on this Boolean array;\n",
    "this is known as a masking operation:"
   ]
  },
  {
   "cell_type": "code",
   "execution_count": 24,
   "id": "f2a5330d",
   "metadata": {},
   "outputs": [
    {
     "data": {
      "text/plain": [
       "array([0, 3, 3, 3, 2, 4])"
      ]
     },
     "execution_count": 24,
     "metadata": {},
     "output_type": "execute_result"
    }
   ],
   "source": [
    "x[x < 5]"
   ]
  },
  {
   "cell_type": "markdown",
   "id": "0e049f5e",
   "metadata": {},
   "source": [
    "What is returned is a one-dimensional array filled with all the values that meet this\n",
    "condition; in other words, all the values in positions at which the mask array is True."
   ]
  },
  {
   "cell_type": "markdown",
   "id": "4faf5e21",
   "metadata": {},
   "source": [
    "##### Fancy Indexing"
   ]
  },
  {
   "cell_type": "markdown",
   "id": "135f9f3b",
   "metadata": {},
   "source": [
    "In the previous sections, we saw how to access and modify portions of arrays using\n",
    "simple indices (e.g., `arr[0]`), slices (e.g., `arr[:5]`), and Boolean masks (e.g., `arr[arr > 0])` "
   ]
  },
  {
   "cell_type": "markdown",
   "id": "db6850c4",
   "metadata": {},
   "source": [
    "In this section, we’ll look at another style of array indexing, known as fancy\n",
    "indexing. Fancy indexing is like the simple indexing we’ve already seen, but we pass\n",
    "arrays of indices in place of single scalars. This allows us to very quickly access and\n",
    "modify complicated subsets of an array’s values."
   ]
  },
  {
   "cell_type": "markdown",
   "id": "feb2b24b",
   "metadata": {},
   "source": [
    "##### Exploring Fancy Indexing"
   ]
  },
  {
   "cell_type": "code",
   "execution_count": 25,
   "id": "d1aeeab6",
   "metadata": {},
   "outputs": [
    {
     "data": {
      "text/plain": [
       "array([51, 92, 14, 71, 60, 20, 82, 86, 74, 74])"
      ]
     },
     "execution_count": 25,
     "metadata": {},
     "output_type": "execute_result"
    }
   ],
   "source": [
    "rand = np.random.RandomState(42)\n",
    "x = rand.randint(100, size=10)\n",
    "x"
   ]
  },
  {
   "cell_type": "markdown",
   "id": "237b4935",
   "metadata": {},
   "source": [
    "Suppose we want to access three different elements. We could do it like this:"
   ]
  },
  {
   "cell_type": "code",
   "execution_count": 26,
   "id": "64a9b2be",
   "metadata": {},
   "outputs": [
    {
     "data": {
      "text/plain": [
       "[71, 86, 14]"
      ]
     },
     "execution_count": 26,
     "metadata": {},
     "output_type": "execute_result"
    }
   ],
   "source": [
    "[x[3], x[7], x[2]]\n"
   ]
  },
  {
   "cell_type": "markdown",
   "id": "779a7890",
   "metadata": {},
   "source": [
    "Alternatively, we can pass a single list or array of indices to obtain the same result:"
   ]
  },
  {
   "cell_type": "code",
   "execution_count": 27,
   "id": "3e732c35",
   "metadata": {},
   "outputs": [
    {
     "data": {
      "text/plain": [
       "array([92, 14, 71])"
      ]
     },
     "execution_count": 27,
     "metadata": {},
     "output_type": "execute_result"
    }
   ],
   "source": [
    "ind = [1,2,3]\n",
    "x[ind]"
   ]
  },
  {
   "cell_type": "markdown",
   "id": "c722428c",
   "metadata": {},
   "source": [
    "With fancy indexing, the shape of the result reflects the shape of the index arrays\n",
    "rather than the shape of the array being indexed:"
   ]
  },
  {
   "cell_type": "code",
   "execution_count": 28,
   "id": "8d0269b0",
   "metadata": {},
   "outputs": [
    {
     "data": {
      "text/plain": [
       "array([[71, 86],\n",
       "       [60, 20]])"
      ]
     },
     "execution_count": 28,
     "metadata": {},
     "output_type": "execute_result"
    }
   ],
   "source": [
    "ind = np.array([[3, 7],\n",
    "    [4, 5]])\n",
    "x[ind]"
   ]
  },
  {
   "cell_type": "markdown",
   "id": "c69584ee",
   "metadata": {},
   "source": [
    "Fancy indexing also works in multiple dimensions. Consider the following array:"
   ]
  },
  {
   "cell_type": "code",
   "execution_count": 31,
   "id": "70bcd786",
   "metadata": {},
   "outputs": [
    {
     "data": {
      "text/plain": [
       "array([[ 0,  1,  2,  3],\n",
       "       [ 4,  5,  6,  7],\n",
       "       [ 8,  9, 10, 11]])"
      ]
     },
     "execution_count": 31,
     "metadata": {},
     "output_type": "execute_result"
    }
   ],
   "source": [
    "X = np.arange(12).reshape((3, 4))\n",
    "X"
   ]
  },
  {
   "cell_type": "markdown",
   "id": "11d23dbd",
   "metadata": {},
   "source": [
    "Like with standard indexing, the first index refers to the row, and the second to the\n",
    "column:"
   ]
  },
  {
   "cell_type": "code",
   "execution_count": 32,
   "id": "c764751c",
   "metadata": {},
   "outputs": [
    {
     "data": {
      "text/plain": [
       "array([ 2,  5, 11])"
      ]
     },
     "execution_count": 32,
     "metadata": {},
     "output_type": "execute_result"
    }
   ],
   "source": [
    "row = np.array([0, 1, 2])\n",
    "col = np.array([2, 1, 3])\n",
    "X[row, col]"
   ]
  },
  {
   "cell_type": "markdown",
   "id": "e6e52bfe",
   "metadata": {},
   "source": [
    "##### Combined Indexing"
   ]
  },
  {
   "cell_type": "markdown",
   "id": "19cee124",
   "metadata": {},
   "source": [
    "For even more powerful operations, fancy indexing can be combined with the other\n",
    "indexing schemes we’ve seen:"
   ]
  },
  {
   "cell_type": "markdown",
   "id": "e17e0fb7",
   "metadata": {},
   "source": [
    "We can combine fancy and simple indices:"
   ]
  },
  {
   "cell_type": "code",
   "execution_count": 33,
   "id": "7dc3551c",
   "metadata": {},
   "outputs": [
    {
     "data": {
      "text/plain": [
       "array([10,  8,  9])"
      ]
     },
     "execution_count": 33,
     "metadata": {},
     "output_type": "execute_result"
    }
   ],
   "source": [
    " X[2, [2, 0, 1]]"
   ]
  },
  {
   "cell_type": "markdown",
   "id": "25193d0f",
   "metadata": {},
   "source": [
    "We can also combine fancy indexing with slicing:"
   ]
  },
  {
   "cell_type": "code",
   "execution_count": 34,
   "id": "1fe8853b",
   "metadata": {},
   "outputs": [
    {
     "data": {
      "text/plain": [
       "array([[ 6,  4,  5],\n",
       "       [10,  8,  9]])"
      ]
     },
     "execution_count": 34,
     "metadata": {},
     "output_type": "execute_result"
    }
   ],
   "source": [
    "X[1:, [2, 0, 1]]"
   ]
  },
  {
   "cell_type": "markdown",
   "id": "ea0e9a71",
   "metadata": {},
   "source": [
    "And we can combine fancy indexing with masking:"
   ]
  },
  {
   "cell_type": "code",
   "execution_count": 35,
   "id": "0cd6a596",
   "metadata": {},
   "outputs": [
    {
     "data": {
      "text/plain": [
       "array([[ 0,  2],\n",
       "       [ 4,  6],\n",
       "       [ 8, 10]])"
      ]
     },
     "execution_count": 35,
     "metadata": {},
     "output_type": "execute_result"
    }
   ],
   "source": [
    "mask = np.array([1, 0, 1, 0], dtype=bool)\n",
    "X[row[:, np.newaxis], mask]"
   ]
  },
  {
   "cell_type": "markdown",
   "id": "5b57bafb",
   "metadata": {},
   "source": [
    "All of these indexing options combined lead to a very flexible set of operations for\n",
    "accessing and modifying array values."
   ]
  },
  {
   "cell_type": "markdown",
   "id": "e627413d",
   "metadata": {},
   "source": [
    "##### Example: Selecting Random Points"
   ]
  },
  {
   "cell_type": "markdown",
   "id": "977a43ca",
   "metadata": {},
   "source": [
    "One common use of fancy indexing is the selection of subsets of rows from a matrix.\n",
    "For example, we might have an N by D matrix representing N points in D dimen‐\n",
    "sions, such as the following points drawn from a two-dimensional normal distribu‐\n",
    "tion:"
   ]
  },
  {
   "cell_type": "code",
   "execution_count": 36,
   "id": "479a9962",
   "metadata": {},
   "outputs": [
    {
     "data": {
      "text/plain": [
       "(100, 2)"
      ]
     },
     "execution_count": 36,
     "metadata": {},
     "output_type": "execute_result"
    }
   ],
   "source": [
    "mean = [0, 0]\n",
    "cov = [[1, 2],\n",
    "    [2, 5]]\n",
    "X = rand.multivariate_normal(mean, cov, 100)\n",
    "X.shape\n"
   ]
  },
  {
   "cell_type": "markdown",
   "id": "61382a91",
   "metadata": {},
   "source": [
    "Using the plotting tools we will discuss in Chapter 4, we can visualize these points as a scatter plot."
   ]
  },
  {
   "cell_type": "code",
   "execution_count": 37,
   "id": "285c623d",
   "metadata": {},
   "outputs": [],
   "source": [
    "import matplotlib.pyplot as plt"
   ]
  },
  {
   "cell_type": "code",
   "execution_count": 38,
   "id": "c1666ee2",
   "metadata": {},
   "outputs": [
    {
     "data": {
      "text/plain": [
       "<matplotlib.collections.PathCollection at 0x165f4efc400>"
      ]
     },
     "execution_count": 38,
     "metadata": {},
     "output_type": "execute_result"
    },
    {
     "data": {
      "image/png": "[encoded data removed]",
      "text/plain": [
       "<Figure size 432x288 with 1 Axes>"
      ]
     },
     "metadata": {
      "needs_background": "light"
     },
     "output_type": "display_data"
    }
   ],
   "source": [
    "plt.scatter(X[:,0], X[:,1])"
   ]
  },
  {
   "cell_type": "markdown",
   "id": "8528023a",
   "metadata": {},
   "source": [
    "Let’s use fancy indexing to select 20 random points. We’ll do this by first choosing 20\n",
    "random indices with no repeats, and use these indices to select a portion of the origi‐\n",
    "nal array:"
   ]
  },
  {
   "cell_type": "code",
   "execution_count": 39,
   "id": "c41e52cd",
   "metadata": {},
   "outputs": [
    {
     "data": {
      "text/plain": [
       "array([67,  6, 93,  2, 65,  8, 80, 19, 71, 57, 53,  0, 47, 24, 77, 79, 32,\n",
       "       89, 37, 25])"
      ]
     },
     "execution_count": 39,
     "metadata": {},
     "output_type": "execute_result"
    }
   ],
   "source": [
    "indices = np.random.choice(X.shape[0], 20, replace=False)\n",
    "indices"
   ]
  },
  {
   "cell_type": "code",
   "execution_count": 40,
   "id": "c3e9aa72",
   "metadata": {},
   "outputs": [
    {
     "data": {
      "text/plain": [
       "(20, 2)"
      ]
     },
     "execution_count": 40,
     "metadata": {},
     "output_type": "execute_result"
    }
   ],
   "source": [
    "selection = X[indices]  # fancy indexing here\n",
    "selection.shape"
   ]
  },
  {
   "cell_type": "markdown",
   "id": "c06862d6",
   "metadata": {},
   "source": [
    "Now to see which points were selected, let’s over-plot large circles at the locations of the selected points."
   ]
  },
  {
   "cell_type": "code",
   "execution_count": 47,
   "id": "ab9cf6cf",
   "metadata": {},
   "outputs": [
    {
     "data": {
      "image/png": "[encoded data removed]",
      "text/plain": [
       "<Figure size 432x288 with 1 Axes>"
      ]
     },
     "metadata": {
      "needs_background": "light"
     },
     "output_type": "display_data"
    }
   ],
   "source": [
    "plt.scatter(X[:, 0], X[:, 1], alpha=0.3)\n",
    "plt.scatter(selection[:, 0], selection[:, 1],facecolor='red', s=200, alpha=0.3);"
   ]
  },
  {
   "cell_type": "markdown",
   "id": "05d03caa",
   "metadata": {},
   "source": [
    "###### Modifying Values with Fancy Indexing"
   ]
  },
  {
   "cell_type": "markdown",
   "id": "d9eda208",
   "metadata": {},
   "source": [
    "Just as fancy indexing can be used to access parts of an array, it can also be used to\n",
    "modify parts of an array. For example, imagine we have an array of indices and we’d\n",
    "like to set the corresponding items in an array to some value:"
   ]
  },
  {
   "cell_type": "code",
   "execution_count": 48,
   "id": "1983bbb1",
   "metadata": {},
   "outputs": [
    {
     "name": "stdout",
     "output_type": "stream",
     "text": [
      "[ 0 99 99  3 99  5  6  7 99  9]\n"
     ]
    }
   ],
   "source": [
    "x = np.arange(10)\n",
    "i = np.array([2, 1, 8, 4])\n",
    "x[i] = 99\n",
    "print(x)"
   ]
  },
  {
   "cell_type": "markdown",
   "id": "168f0f98",
   "metadata": {},
   "source": [
    "We can use any assignment-type operator for this. For example:"
   ]
  },
  {
   "cell_type": "code",
   "execution_count": 49,
   "id": "25d4b791",
   "metadata": {},
   "outputs": [
    {
     "name": "stdout",
     "output_type": "stream",
     "text": [
      "[ 0 89 89  3 89  5  6  7 89  9]\n"
     ]
    }
   ],
   "source": [
    "x[i] -= 10\n",
    "print(x)"
   ]
  },
  {
   "cell_type": "markdown",
   "id": "ed4979a2",
   "metadata": {},
   "source": [
    "Notice, though, that repeated indices with these operations can cause some potentially unexpected results. Consider the following:"
   ]
  },
  {
   "cell_type": "code",
   "execution_count": 50,
   "id": "64c16975",
   "metadata": {},
   "outputs": [
    {
     "name": "stdout",
     "output_type": "stream",
     "text": [
      "[0. 0. 0. 0. 0. 0. 0. 0. 0. 0.]\n"
     ]
    }
   ],
   "source": [
    "x = np.zeros(10)\n",
    "x = np.zeros(10)\n",
    "print(x)"
   ]
  },
  {
   "cell_type": "markdown",
   "id": "bc428f12",
   "metadata": {},
   "source": [
    "Where did the 4 go? The result of this operation is to first assign x[0] = 4, followed\n",
    "by x[0] = 6. The result, of course, is that x[0] contains the value 6.<br>\n",
    "\n",
    "Fair enough, but consider this operation:"
   ]
  },
  {
   "cell_type": "code",
   "execution_count": 52,
   "id": "f54e5c08",
   "metadata": {},
   "outputs": [
    {
     "data": {
      "text/plain": [
       "array([0., 0., 1., 1., 1., 0., 0., 0., 0., 0.])"
      ]
     },
     "execution_count": 52,
     "metadata": {},
     "output_type": "execute_result"
    }
   ],
   "source": [
    "i = [2, 3, 3, 4, 4, 4]\n",
    "x[i] += 1\n",
    "x"
   ]
  },
  {
   "cell_type": "markdown",
   "id": "0e2c5b2d",
   "metadata": {},
   "source": [
    "You might expect that x[3] would contain the value 2, and x[4] would contain the\n",
    "value 3, as this is how many times each index is repeated. Why is this not the case?\n",
    "Conceptually, this is because x[i] += 1 is meant as a shorthand of x[i] = x[i] + 1.\n",
    "x[i] + 1 is evaluated, and then the result is assigned to the indices in x. With this in\n",
    "mind, it is not the augmentation that happens multiple times, but the assignment,\n",
    "which leads to the rather nonintuitive results."
   ]
  },
  {
   "cell_type": "markdown",
   "id": "0bc6b51b",
   "metadata": {},
   "source": [
    "So what if you want the other behavior where the operation is repeated? For this, you\n",
    "can use the at() method of ufuncs (available since NumPy 1.8), and do the following:"
   ]
  },
  {
   "cell_type": "code",
   "execution_count": 53,
   "id": "fee81b99",
   "metadata": {},
   "outputs": [
    {
     "name": "stdout",
     "output_type": "stream",
     "text": [
      "[0. 0. 1. 2. 3. 0. 0. 0. 0. 0.]\n"
     ]
    }
   ],
   "source": [
    "x = np.zeros(10)\n",
    "np.add.at(x, i, 1)\n",
    "print(x)"
   ]
  },
  {
   "cell_type": "markdown",
   "id": "9eb37bd8",
   "metadata": {},
   "source": [
    "The at() method does an in-place application of the given operator at the specified\n",
    "indices (here, i) with the specified value (here, 1). Another method that is similar in\n",
    "spirit is the reduceat() method of ufuncs, which you can read about in the NumPy\n",
    "documentation."
   ]
  },
  {
   "cell_type": "markdown",
   "id": "d88b4aa7",
   "metadata": {},
   "source": [
    "##### Example: Binning Data"
   ]
  },
  {
   "cell_type": "markdown",
   "id": "962873a2",
   "metadata": {},
   "source": [
    "You can use these ideas to efficiently bin data to create a histogram by hand. For\n",
    "example, imagine we have 1,000 values and would like to quickly find where they fall\n",
    "within an array of bins. We could compute it using ufunc.at like this:"
   ]
  },
  {
   "cell_type": "code",
   "execution_count": 61,
   "id": "a647df94",
   "metadata": {},
   "outputs": [],
   "source": [
    "np.random.seed(42)\n",
    "x = np.random.randn(100)\n",
    "\n",
    "\n",
    "# compute a histogram by hand\n",
    "bins = np.linspace(-5, 5, 20)\n",
    "counts = np.zeros_like(bins)\n",
    "\n",
    "\n",
    "# find the appropriate bin for each x\n",
    "i = np.searchsorted(bins, x)\n",
    "\n",
    "# add 1 to each of these bins\n",
    "np.add.at(counts, i, 1)"
   ]
  },
  {
   "cell_type": "markdown",
   "id": "34332a22",
   "metadata": {},
   "source": [
    "The counts now reflect the number of points within each bin—in other words, a histogram"
   ]
  },
  {
   "cell_type": "code",
   "execution_count": 70,
   "id": "831e7387",
   "metadata": {},
   "outputs": [
    {
     "data": {
      "text/plain": [
       "[<matplotlib.lines.Line2D at 0x165f6538280>]"
      ]
     },
     "execution_count": 70,
     "metadata": {},
     "output_type": "execute_result"
    },
    {
     "data": {
      "image/png": "[encoded data removed]",
      "text/plain": [
       "<Figure size 432x288 with 1 Axes>"
      ]
     },
     "metadata": {
      "needs_background": "light"
     },
     "output_type": "display_data"
    }
   ],
   "source": [
    "# plot the results\n",
    "plt.step(bins, counts, linestyle='solid')"
   ]
  },
  {
   "cell_type": "markdown",
   "id": "f2eeb6ce",
   "metadata": {},
   "source": [
    "Of course, it would be silly to have to do this each time you want to plot a histogram.\n",
    "This is why Matplotlib provides the plt.hist() routine, which does the same in a\n",
    "single line:"
   ]
  },
  {
   "cell_type": "code",
   "execution_count": 73,
   "id": "981da561",
   "metadata": {},
   "outputs": [
    {
     "data": {
      "image/png": "[encoded data removed]",
      "text/plain": [
       "<Figure size 432x288 with 1 Axes>"
      ]
     },
     "metadata": {
      "needs_background": "light"
     },
     "output_type": "display_data"
    }
   ],
   "source": [
    "plt.hist(x, bins, histtype='step');"
   ]
  },
  {
   "cell_type": "code",
   "execution_count": null,
   "id": "f2e0960a",
   "metadata": {},
   "outputs": [],
   "source": []
  }
 ],
 "metadata": {
  "kernelspec": {
   "display_name": "Python 3 (ipykernel)",
   "language": "python",
   "name": "python3"
  },
  "language_info": {
   "codemirror_mode": {
    "name": "ipython",
    "version": 3
   },
   "file_extension": ".py",
   "mimetype": "text/x-python",
   "name": "python",
   "nbconvert_exporter": "python",
   "pygments_lexer": "ipython3",
   "version": "3.9.7"
  }
 },
 "nbformat": 4,
 "nbformat_minor": 5
}
