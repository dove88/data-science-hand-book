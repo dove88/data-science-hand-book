{
 "cells": [
  {
   "cell_type": "code",
   "execution_count": 3,
   "id": "0bb7ec4d",
   "metadata": {},
   "outputs": [],
   "source": [
    "import pandas as pd\n",
    "import numpy as np"
   ]
  },
  {
   "cell_type": "code",
   "execution_count": 4,
   "id": "af660b9f",
   "metadata": {},
   "outputs": [
    {
     "name": "stdout",
     "output_type": "stream",
     "text": [
      "1.4.3\n",
      "1.21.2\n"
     ]
    }
   ],
   "source": [
    "print(pd.__version__)\n",
    "print(np.__version__)"
   ]
  },
  {
   "cell_type": "markdown",
   "id": "41ee6566",
   "metadata": {},
   "source": [
    "##### points to notice\n",
    "\n",
    "\n",
    "\n",
    "- dates and times in python\n",
    "- dates and times in pandas\n",
    "- pandas timeseries - indexing by time\n",
    "- pandas timeseries data structure\n",
    "- regular sequences pd.date_range()\n",
    "- frequencies andoffsets"
   ]
  },
  {
   "cell_type": "markdown",
   "id": "25787773",
   "metadata": {},
   "source": [
    "Pandas was developed in the context of financial modeling, so as you might expect, it\n",
    "contains a fairly extensive set of tools for working with dates, times, and timeindexed\n",
    "data.\n",
    "Date and time\n",
    "data comes in a few\n",
    "flavors, which we will discuss\n",
    "here:"
   ]
  },
  {
   "cell_type": "markdown",
   "id": "dccddb69",
   "metadata": {},
   "source": [
    "- `Time stamps reference particular moments in time (e.g., July 4th, 2015, at 7:00a.m.).`\n",
    "\n",
    "- `Time intervals and periods reference a length of time between a particular beginning and end point—for example, the year 2015. Periods usually reference a spe‐\n",
    "cial case of time intervals in which each interval is of uniform length and does\n",
    "not overlap (e.g., 24 hour-long periods constituting days).`\n",
    "\n",
    "- `Time deltas or durations reference an exact length of time (e.g., a duration of 22.56 seconds).`"
   ]
  },
  {
   "cell_type": "markdown",
   "id": "0f518701",
   "metadata": {},
   "source": [
    "In this section, we will introduce how to work with each of these types of date/time\n",
    "data in Pandas. This short section is by no means a complete guide to the time series\n",
    "tools available in Python or Pandas, but instead is intended as a broad overview of\n",
    "how you as a user should approach working with time series. We will start with a\n",
    "brief discussion of tools for dealing with dates and times in Python, before moving\n",
    "more specifically to a discussion of the tools provided by Pandas. After listing some\n",
    "resources that go into more depth, we will review some short examples of working\n",
    "with time series data in Pandas."
   ]
  },
  {
   "cell_type": "markdown",
   "id": "8e9b0ea9",
   "metadata": {},
   "source": [
    "##### Dates and Times in Python"
   ]
  },
  {
   "cell_type": "markdown",
   "id": "2cfa2973",
   "metadata": {},
   "source": [
    "The Python world has a number of available representations of dates, times, deltas,\n",
    "and timespans. While the time series tools provided by Pandas tend to be the most\n",
    "useful for data science applications, it is helpful to see their relationship to other\n",
    "packages used in Python."
   ]
  },
  {
   "cell_type": "markdown",
   "id": "4a490e97",
   "metadata": {},
   "source": [
    "##### Native Python dates and times: datetime and dateutil"
   ]
  },
  {
   "cell_type": "markdown",
   "id": "6a3c9675",
   "metadata": {},
   "source": [
    "Python’s basic objects for working with dates and times reside in the built-in date\n",
    "time module. Along with the third-party dateutil module, you can use it to quickly\n",
    "perform a host of useful functionalities on dates and times. For example, you can\n",
    "manually build a date using the datetime type:"
   ]
  },
  {
   "cell_type": "code",
   "execution_count": 7,
   "id": "c94b2f4a",
   "metadata": {},
   "outputs": [
    {
     "data": {
      "text/plain": [
       "datetime.datetime(2015, 7, 4, 0, 0)"
      ]
     },
     "execution_count": 7,
     "metadata": {},
     "output_type": "execute_result"
    }
   ],
   "source": [
    "from datetime import datetime\n",
    "datetime(year=2015, month=7, day=4)"
   ]
  },
  {
   "cell_type": "markdown",
   "id": "c1d5151c",
   "metadata": {},
   "source": [
    "Or, using the dateutil module, you can parse dates from a variety of string formats:"
   ]
  },
  {
   "cell_type": "code",
   "execution_count": 8,
   "id": "9decc43d",
   "metadata": {},
   "outputs": [
    {
     "data": {
      "text/plain": [
       "datetime.datetime(2015, 7, 4, 0, 0)"
      ]
     },
     "execution_count": 8,
     "metadata": {},
     "output_type": "execute_result"
    }
   ],
   "source": [
    "from dateutil import parser\n",
    "date = parser.parse(\"4th of July, 2015\")\n",
    "date"
   ]
  },
  {
   "cell_type": "markdown",
   "id": "3447e286",
   "metadata": {},
   "source": [
    "Once you have a datetime object, you can do things like printing the day of the week:"
   ]
  },
  {
   "cell_type": "code",
   "execution_count": 9,
   "id": "ae9a7c58",
   "metadata": {},
   "outputs": [
    {
     "data": {
      "text/plain": [
       "'Saturday'"
      ]
     },
     "execution_count": 9,
     "metadata": {},
     "output_type": "execute_result"
    }
   ],
   "source": [
    "date.strftime('%A')"
   ]
  },
  {
   "cell_type": "markdown",
   "id": "4ea5ed26",
   "metadata": {},
   "source": [
    "In the final line, we’ve used one of the standard string format codes for printing dates\n",
    "(\"%A\"), which you can read about in the strftime section of Python’s datetime docu‐\n",
    "mentation. Documentation of other useful date utilities can be found in dateutil’s\n",
    "online documentation. A related package to be aware of is pytz, which contains tools\n",
    "for working with the most migraine-inducing piece of time series data: time zones."
   ]
  },
  {
   "cell_type": "markdown",
   "id": "8f3556e7",
   "metadata": {},
   "source": [
    "The power of datetime and dateutil lies in their flexibility and easy syntax: you can\n",
    "use these objects and their built-in methods to easily perform nearly any operation\n",
    "you might be interested in. Where they break down is when you wish to work with\n",
    "large arrays of dates and times: just as lists of Python numerical variables are subopti‐\n",
    "mal compared to NumPy-style typed numerical arrays, lists of Python datetime\n",
    "objects are suboptimal compared to typed arrays of encoded dates."
   ]
  },
  {
   "cell_type": "markdown",
   "id": "3c622448",
   "metadata": {},
   "source": [
    "##### Typed arrays of times: NumPy’s datetime64"
   ]
  },
  {
   "cell_type": "markdown",
   "id": "84570d88",
   "metadata": {},
   "source": [
    "The weaknesses of Python’s datetime format inspired the NumPy team to add a set of\n",
    "native time series data type to NumPy. The datetime64 dtype encodes dates as 64-bit\n",
    "integers, and thus allows arrays of dates to be represented very compactly. The date\n",
    "time64 requires a very specific input format:"
   ]
  },
  {
   "cell_type": "code",
   "execution_count": 10,
   "id": "a8588dfa",
   "metadata": {},
   "outputs": [
    {
     "data": {
      "text/plain": [
       "array('2015-07-04', dtype='datetime64[D]')"
      ]
     },
     "execution_count": 10,
     "metadata": {},
     "output_type": "execute_result"
    }
   ],
   "source": [
    "date = np.array('2015-07-04', dtype=np.datetime64)\n",
    "date"
   ]
  },
  {
   "cell_type": "markdown",
   "id": "5e6fd6e0",
   "metadata": {},
   "source": [
    "Once we have this date formatted, however, we can quickly do vectorized operations\n",
    "on it:"
   ]
  },
  {
   "cell_type": "code",
   "execution_count": 11,
   "id": "51c4d8e2",
   "metadata": {},
   "outputs": [
    {
     "data": {
      "text/plain": [
       "array(['2015-07-04', '2015-07-05', '2015-07-06', '2015-07-07',\n",
       "       '2015-07-08', '2015-07-09', '2015-07-10', '2015-07-11',\n",
       "       '2015-07-12', '2015-07-13', '2015-07-14', '2015-07-15'],\n",
       "      dtype='datetime64[D]')"
      ]
     },
     "execution_count": 11,
     "metadata": {},
     "output_type": "execute_result"
    }
   ],
   "source": [
    "date + np.arange(12)"
   ]
  },
  {
   "cell_type": "markdown",
   "id": "ab586cab",
   "metadata": {},
   "source": [
    "Because of the uniform type in NumPy datetime64 arrays, this type of operation can\n",
    "be accomplished much more quickly than if we were working directly with Python’s\n",
    "datetime objects, especially as arrays get large (we introduced this type of vectoriza‐\n",
    "tion in “Computation on NumPy Arrays: Universal Functions”"
   ]
  },
  {
   "cell_type": "markdown",
   "id": "28194ecc",
   "metadata": {},
   "source": [
    "One detail of the datetime64 and timedelta64 objects is that they are built on a fun‐\n",
    "damental time unit. Because the datetime64 object is limited to 64-bit precision, the\n",
    "range of encodable times is 2^64 times this fundamental unit. In other words, date\n",
    "time64 imposes a trade-off between time resolution and maximum time span."
   ]
  },
  {
   "cell_type": "markdown",
   "id": "23fdb36b",
   "metadata": {},
   "source": [
    "For example, if you want a time resolution of one nanosecond, you only have enough\n",
    "information to encode a range of 2^64 nanoseconds, or just under 600 years. NumPy\n",
    "will infer the desired unit from the input; for example, here is a day-based datetime:"
   ]
  },
  {
   "cell_type": "code",
   "execution_count": 12,
   "id": "2041cca7",
   "metadata": {},
   "outputs": [
    {
     "data": {
      "text/plain": [
       "numpy.datetime64('2015-07-04')"
      ]
     },
     "execution_count": 12,
     "metadata": {},
     "output_type": "execute_result"
    }
   ],
   "source": [
    "np.datetime64('2015-07-04')"
   ]
  },
  {
   "cell_type": "markdown",
   "id": "33785b23",
   "metadata": {},
   "source": [
    "Here is a minute-based datetime:"
   ]
  },
  {
   "cell_type": "code",
   "execution_count": 13,
   "id": "0fd4299e",
   "metadata": {},
   "outputs": [
    {
     "data": {
      "text/plain": [
       "numpy.datetime64('2015-07-04T12:00')"
      ]
     },
     "execution_count": 13,
     "metadata": {},
     "output_type": "execute_result"
    }
   ],
   "source": [
    "np.datetime64('2015-07-04 12:00')"
   ]
  },
  {
   "cell_type": "markdown",
   "id": "27ea93b1",
   "metadata": {},
   "source": [
    "Notice that the time zone is automatically set to the local time on the computer exe‐\n",
    "cuting the code. You can force any desired fundamental unit using one of many for‐\n",
    "mat codes; for example, here we’ll force a nanosecond-based time:"
   ]
  },
  {
   "cell_type": "code",
   "execution_count": 14,
   "id": "d8b2a541",
   "metadata": {},
   "outputs": [
    {
     "data": {
      "text/plain": [
       "numpy.datetime64('2015-07-04T12:59:59.500000000')"
      ]
     },
     "execution_count": 14,
     "metadata": {},
     "output_type": "execute_result"
    }
   ],
   "source": [
    "np.datetime64('2015-07-04 12:59:59.50', 'ns')"
   ]
  },
  {
   "cell_type": "markdown",
   "id": "d0a2e218",
   "metadata": {},
   "source": [
    "For the types of data we see in the real world, a useful default is datetime64[ns], as it\n",
    "can encode a useful range of modern dates with a suitably fine precision."
   ]
  },
  {
   "cell_type": "markdown",
   "id": "5a74c194",
   "metadata": {},
   "source": [
    "Finally, we will note that while the datetime64 data type addresses some of the defi‐\n",
    "ciencies of the built-in Python datetime type, it lacks many of the convenient meth‐\n",
    "ods and functions provided by datetime and especially dateutil. More information\n",
    "can be found in NumPy’s datetime64 documentation."
   ]
  },
  {
   "cell_type": "markdown",
   "id": "48ce70c5",
   "metadata": {},
   "source": [
    "##### Dates and times in Pandas: Best of both worlds"
   ]
  },
  {
   "cell_type": "markdown",
   "id": "083b2514",
   "metadata": {},
   "source": [
    "Pandas builds upon all the tools just discussed to provide a Timestamp object, which\n",
    "combines the ease of use of datetime and dateutil with the efficient storage and\n",
    "vectorized interface of numpy.datetime64. From a group of these Timestamp objects,\n",
    "Pandas can construct a DatetimeIndex that can be used to index data in a Series or\n",
    "DataFrame; we’ll see many examples of this below."
   ]
  },
  {
   "cell_type": "markdown",
   "id": "5ee4d180",
   "metadata": {},
   "source": [
    "For example, we can use Pandas tools to repeat the demonstration from above. We\n",
    "can parse a flexibly formatted string date, and use format codes to output the day of\n",
    "the week:"
   ]
  },
  {
   "cell_type": "code",
   "execution_count": 15,
   "id": "c7c8f48a",
   "metadata": {},
   "outputs": [
    {
     "data": {
      "text/plain": [
       "Timestamp('2015-07-04 00:00:00')"
      ]
     },
     "execution_count": 15,
     "metadata": {},
     "output_type": "execute_result"
    }
   ],
   "source": [
    "date = pd.to_datetime(\"4th of July, 2015\")\n",
    "date"
   ]
  },
  {
   "cell_type": "code",
   "execution_count": 16,
   "id": "e5cac977",
   "metadata": {},
   "outputs": [
    {
     "data": {
      "text/plain": [
       "'Saturday'"
      ]
     },
     "execution_count": 16,
     "metadata": {},
     "output_type": "execute_result"
    }
   ],
   "source": [
    "date.strftime('%A')"
   ]
  },
  {
   "cell_type": "markdown",
   "id": "8eddd52a",
   "metadata": {},
   "source": [
    "Additionally, we can do NumPy-style vectorized operations directly on this same\n",
    "object:"
   ]
  },
  {
   "cell_type": "code",
   "execution_count": 17,
   "id": "19b52465",
   "metadata": {},
   "outputs": [
    {
     "data": {
      "text/plain": [
       "DatetimeIndex(['2015-07-04', '2015-07-05', '2015-07-06', '2015-07-07',\n",
       "               '2015-07-08', '2015-07-09', '2015-07-10', '2015-07-11',\n",
       "               '2015-07-12', '2015-07-13', '2015-07-14', '2015-07-15'],\n",
       "              dtype='datetime64[ns]', freq=None)"
      ]
     },
     "execution_count": 17,
     "metadata": {},
     "output_type": "execute_result"
    }
   ],
   "source": [
    "date + pd.to_timedelta(np.arange(12), 'D')"
   ]
  },
  {
   "cell_type": "markdown",
   "id": "ea51afe5",
   "metadata": {},
   "source": [
    "In the next section, we will take a closer look at manipulating time series data with\n",
    "the tools provided by Pandas."
   ]
  },
  {
   "cell_type": "markdown",
   "id": "761255f2",
   "metadata": {},
   "source": [
    "##### Pandas Time Series: Indexing by Time"
   ]
  },
  {
   "cell_type": "markdown",
   "id": "dad170d3",
   "metadata": {},
   "source": [
    "Where the Pandas time series tools really become useful is when you begin to index\n",
    "data by timestamps. For example, we can construct a Series object that has timeindexed\n",
    "data:"
   ]
  },
  {
   "cell_type": "code",
   "execution_count": 18,
   "id": "347fe68b",
   "metadata": {},
   "outputs": [
    {
     "data": {
      "text/plain": [
       "2014-07-04    0\n",
       "2014-08-04    1\n",
       "2015-07-04    2\n",
       "2015-08-04    3\n",
       "dtype: int64"
      ]
     },
     "execution_count": 18,
     "metadata": {},
     "output_type": "execute_result"
    }
   ],
   "source": [
    "index = pd.DatetimeIndex(['2014-07-04', '2014-08-04',\n",
    "                                  '2015-07-04', '2015-08-04'])\n",
    "data = pd.Series([0, 1, 2, 3], index=index)\n",
    "data"
   ]
  },
  {
   "cell_type": "markdown",
   "id": "e41fa731",
   "metadata": {},
   "source": [
    "Now that we have this data in a Series, we can make use of any of the Series index‐\n",
    "ing patterns we discussed in previous sections, passing values that can be coerced into\n",
    "dates:"
   ]
  },
  {
   "cell_type": "code",
   "execution_count": 19,
   "id": "546fe73a",
   "metadata": {},
   "outputs": [
    {
     "data": {
      "text/plain": [
       "2014-07-04    0\n",
       "2014-08-04    1\n",
       "2015-07-04    2\n",
       "dtype: int64"
      ]
     },
     "execution_count": 19,
     "metadata": {},
     "output_type": "execute_result"
    }
   ],
   "source": [
    "data['2014-07-04':'2015-07-04']"
   ]
  },
  {
   "cell_type": "markdown",
   "id": "67577456",
   "metadata": {},
   "source": [
    "There are additional special date-only indexing operations, such as passing a year to\n",
    "obtain a slice of all data from that year:"
   ]
  },
  {
   "cell_type": "code",
   "execution_count": 20,
   "id": "b7dd9d20",
   "metadata": {},
   "outputs": [
    {
     "data": {
      "text/plain": [
       "2015-07-04    2\n",
       "2015-08-04    3\n",
       "dtype: int64"
      ]
     },
     "execution_count": 20,
     "metadata": {},
     "output_type": "execute_result"
    }
   ],
   "source": [
    "data['2015']"
   ]
  },
  {
   "cell_type": "markdown",
   "id": "f7f8a59c",
   "metadata": {},
   "source": [
    "Later, we will see additional examples of the convenience of dates-as-indices. But first,\n",
    "let’s take a closer look at the available time series data structures."
   ]
  },
  {
   "cell_type": "markdown",
   "id": "9c9d05f0",
   "metadata": {},
   "source": [
    "##### Pandas Time Series Data Structures"
   ]
  },
  {
   "cell_type": "markdown",
   "id": "17554349",
   "metadata": {},
   "source": [
    "This section will introduce the fundamental Pandas data structures for working with\n",
    "time series data:"
   ]
  },
  {
   "cell_type": "markdown",
   "id": "a03cfc58",
   "metadata": {},
   "source": [
    "- For time stamps, Pandas provides the Timestamp type. As mentioned before, it is\n",
    "essentially a replacement for Python’s native datetime, but is based on the more\n",
    "efficient numpy.datetime64 data type. The associated index structure is\n",
    "DatetimeIndex.\n",
    "\n",
    "- For time periods, Pandas provides the Period type. This encodes a fixedfrequency interval based on\n",
    "numpy.datetime64. The associated index structure is PeriodIndex.\n",
    "\n",
    "- For time deltas or durations, Pandas provides the Timedelta type. Timedelta is a\n",
    "more efficient replacement for Python’s native datetime.timedelta type, and is\n",
    "based on numpy.timedelta64. The associated index structure is TimedeltaIndex."
   ]
  },
  {
   "cell_type": "markdown",
   "id": "41cba52b",
   "metadata": {},
   "source": [
    "The most fundamental of these date/time objects are the Timestamp and DatetimeIn\n",
    "dex objects. While these class objects can be invoked directly, it is more common to\n",
    "use the pd.to_datetime() function, which can parse a wide variety of formats. Pass‐\n",
    "ing a single date to pd.to_datetime() yields a Timestamp; passing a series of dates by\n",
    "default yields a DatetimeIndex:"
   ]
  },
  {
   "cell_type": "code",
   "execution_count": 21,
   "id": "3588ddf3",
   "metadata": {},
   "outputs": [
    {
     "data": {
      "text/plain": [
       "DatetimeIndex(['2015-07-03', '2015-07-04', '2015-07-06', '2015-07-07',\n",
       "               '2015-07-08'],\n",
       "              dtype='datetime64[ns]', freq=None)"
      ]
     },
     "execution_count": 21,
     "metadata": {},
     "output_type": "execute_result"
    }
   ],
   "source": [
    "dates = pd.to_datetime([datetime(2015, 7, 3), '4th of July, 2015',\n",
    "                               '2015-Jul-6', '07-07-2015', '20150708'])\n",
    "\n",
    "dates"
   ]
  },
  {
   "cell_type": "markdown",
   "id": "d0c33244",
   "metadata": {},
   "source": [
    "Any DatetimeIndex can be converted to a PeriodIndex with the to_period() func‐\n",
    "tion with the addition of a frequency code; here we’ll use 'D' to indicate daily\n",
    "frequency:"
   ]
  },
  {
   "cell_type": "code",
   "execution_count": 22,
   "id": "a9152c3c",
   "metadata": {},
   "outputs": [
    {
     "data": {
      "text/plain": [
       "PeriodIndex(['2015-07-03', '2015-07-04', '2015-07-06', '2015-07-07',\n",
       "             '2015-07-08'],\n",
       "            dtype='period[D]')"
      ]
     },
     "execution_count": 22,
     "metadata": {},
     "output_type": "execute_result"
    }
   ],
   "source": [
    "dates.to_period('D')"
   ]
  },
  {
   "cell_type": "markdown",
   "id": "9bcc14e4",
   "metadata": {},
   "source": [
    "A TimedeltaIndex is created, for example, when one date is subtracted from another:"
   ]
  },
  {
   "cell_type": "code",
   "execution_count": 23,
   "id": "e60edd69",
   "metadata": {},
   "outputs": [
    {
     "data": {
      "text/plain": [
       "TimedeltaIndex(['0 days', '1 days', '3 days', '4 days', '5 days'], dtype='timedelta64[ns]', freq=None)"
      ]
     },
     "execution_count": 23,
     "metadata": {},
     "output_type": "execute_result"
    }
   ],
   "source": [
    "dates - dates[0]"
   ]
  },
  {
   "cell_type": "markdown",
   "id": "ead14473",
   "metadata": {},
   "source": [
    "##### Regular sequences: pd.date_range()"
   ]
  },
  {
   "cell_type": "markdown",
   "id": "1e5c8205",
   "metadata": {},
   "source": [
    "To make the creation of regular date sequences more convenient, Pandas offers a few\n",
    "functions for this purpose: pd.date_range() for timestamps, pd.period_range() for\n",
    "periods, and pd.timedelta_range() for time deltas. We’ve seen that Python’s range() and NumPy’s np.arange() turn a startpoint, endpoint, and optional stepsize\n",
    "into a sequence. Similarly, pd.date_range() accepts a start date, an end date, and an\n",
    "optional frequency code to create a regular sequence of dates. By default, the fre‐\n",
    "quency is one day:"
   ]
  },
  {
   "cell_type": "code",
   "execution_count": 24,
   "id": "a050b4be",
   "metadata": {},
   "outputs": [
    {
     "data": {
      "text/plain": [
       "DatetimeIndex(['2015-07-03', '2015-07-04', '2015-07-05', '2015-07-06',\n",
       "               '2015-07-07', '2015-07-08', '2015-07-09', '2015-07-10'],\n",
       "              dtype='datetime64[ns]', freq='D')"
      ]
     },
     "execution_count": 24,
     "metadata": {},
     "output_type": "execute_result"
    }
   ],
   "source": [
    "pd.date_range('2015-07-03', '2015-07-10')"
   ]
  },
  {
   "cell_type": "markdown",
   "id": "17c3a5f2",
   "metadata": {},
   "source": [
    "Alternatively, the date range can be specified not with a start- and endpoint, but with\n",
    "a startpoint and a number of periods:"
   ]
  },
  {
   "cell_type": "code",
   "execution_count": 25,
   "id": "94dd56ec",
   "metadata": {},
   "outputs": [
    {
     "data": {
      "text/plain": [
       "DatetimeIndex(['2015-07-03', '2015-07-04', '2015-07-05', '2015-07-06',\n",
       "               '2015-07-07', '2015-07-08', '2015-07-09', '2015-07-10'],\n",
       "              dtype='datetime64[ns]', freq='D')"
      ]
     },
     "execution_count": 25,
     "metadata": {},
     "output_type": "execute_result"
    }
   ],
   "source": [
    "pd.date_range('2015-07-03', periods=8)"
   ]
  },
  {
   "cell_type": "markdown",
   "id": "13d67aad",
   "metadata": {},
   "source": [
    "You can modify the spacing by altering the freq argument, which defaults to D. For\n",
    "example, here we will construct a range of hourly timestamps:"
   ]
  },
  {
   "cell_type": "code",
   "execution_count": 26,
   "id": "2d842098",
   "metadata": {},
   "outputs": [
    {
     "data": {
      "text/plain": [
       "DatetimeIndex(['2015-07-03 00:00:00', '2015-07-03 01:00:00',\n",
       "               '2015-07-03 02:00:00', '2015-07-03 03:00:00',\n",
       "               '2015-07-03 04:00:00', '2015-07-03 05:00:00',\n",
       "               '2015-07-03 06:00:00', '2015-07-03 07:00:00'],\n",
       "              dtype='datetime64[ns]', freq='H')"
      ]
     },
     "execution_count": 26,
     "metadata": {},
     "output_type": "execute_result"
    }
   ],
   "source": [
    "pd.date_range('2015-07-03', periods=8, freq='H')"
   ]
  },
  {
   "cell_type": "markdown",
   "id": "57c7529f",
   "metadata": {},
   "source": [
    "To create regular sequences of period or time delta values, the very similar\n",
    "pd.period_range() and pd.timedelta_range() functions are useful. Here are some\n",
    "monthly periods:"
   ]
  },
  {
   "cell_type": "code",
   "execution_count": 27,
   "id": "92f10b77",
   "metadata": {},
   "outputs": [
    {
     "data": {
      "text/plain": [
       "PeriodIndex(['2015-07', '2015-08', '2015-09', '2015-10', '2015-11', '2015-12',\n",
       "             '2016-01', '2016-02'],\n",
       "            dtype='period[M]')"
      ]
     },
     "execution_count": 27,
     "metadata": {},
     "output_type": "execute_result"
    }
   ],
   "source": [
    "pd.period_range('2015-07', periods=8, freq='M')"
   ]
  },
  {
   "cell_type": "markdown",
   "id": "5fc6fb18",
   "metadata": {},
   "source": [
    "And a sequence of durations increasing by an hour:"
   ]
  },
  {
   "cell_type": "code",
   "execution_count": 28,
   "id": "17f5952c",
   "metadata": {},
   "outputs": [
    {
     "data": {
      "text/plain": [
       "TimedeltaIndex(['0 days 00:00:00', '0 days 01:00:00', '0 days 02:00:00',\n",
       "                '0 days 03:00:00', '0 days 04:00:00', '0 days 05:00:00',\n",
       "                '0 days 06:00:00', '0 days 07:00:00', '0 days 08:00:00',\n",
       "                '0 days 09:00:00'],\n",
       "               dtype='timedelta64[ns]', freq='H')"
      ]
     },
     "execution_count": 28,
     "metadata": {},
     "output_type": "execute_result"
    }
   ],
   "source": [
    "pd.timedelta_range(0, periods=10, freq='H')"
   ]
  },
  {
   "cell_type": "markdown",
   "id": "3276f55e",
   "metadata": {},
   "source": [
    "All of these require an understanding of Pandas frequency codes, which we’ll summa‐\n",
    "rize in the next section."
   ]
  },
  {
   "cell_type": "markdown",
   "id": "5f506726",
   "metadata": {},
   "source": [
    "##### Frequencies and Offsets"
   ]
  },
  {
   "cell_type": "markdown",
   "id": "15557f6e",
   "metadata": {},
   "source": [
    "Fundamental to these Pandas time series tools is the concept of a frequency or date\n",
    "offset. Just as we saw the D (day) and H (hour) codes previously, we can use such codes\n",
    "to specify any desired frequency spacing. Table summarizes the main codes\n",
    "available."
   ]
  },
  {
   "cell_type": "markdown",
   "id": "a694f968",
   "metadata": {},
   "source": [
    "`D Calendar day B Business day\n",
    "W Weekly M Month end BM Business month end\n",
    "Q Quarter end BQ Business quarter end\n",
    "A Year end  BA Business year end\n",
    "H Hours BH Business hours\n",
    "T Minutes S Seconds\n",
    "L Milliseonds U Microseconds N Nanoseconds`"
   ]
  },
  {
   "cell_type": "markdown",
   "id": "80a570be",
   "metadata": {},
   "source": [
    "The monthly, quarterly, and annual frequencies are all marked at the end of the speci‐\n",
    "fied period. Adding an S suffix to any of these marks it instead at the beginning"
   ]
  },
  {
   "cell_type": "markdown",
   "id": "ed0eeff6",
   "metadata": {},
   "source": [
    "`MS Month start\n",
    "BMS Business month start\n",
    "QS Quarter start\n",
    "BQS Business quarter start\n",
    "AS Year start\n",
    "BAS Business year start`"
   ]
  },
  {
   "cell_type": "markdown",
   "id": "dcc7ed37",
   "metadata": {},
   "source": [
    "Additionally, you can change the month used to mark any quarterly or annual code\n",
    "by adding a three-letter month code as a suffix: <br>\n",
    "\n",
    "- Q-JAN, BQ-FEB, QS-MAR, BQS-APR, etc.\n",
    "- A-JAN, BA-FEB, AS-MAR, BAS-APR, etc. \n",
    "<br>\n",
    "\n",
    "In the same way, you can modify the split-point of the weekly frequency by adding a\n",
    "three-letter weekday code:\n",
    "- W-SUN, W-MON, W-TUE, W-WED, etc.\n",
    "<br>\n",
    "\n",
    "On top of this, codes can be combined with numbers to specify other frequencies. For\n",
    "example, for a frequency of 2 hours 30 minutes, we can combine the hour (H) and\n",
    "minute (T) codes as follows:"
   ]
  },
  {
   "cell_type": "code",
   "execution_count": 29,
   "id": "79eea243",
   "metadata": {},
   "outputs": [
    {
     "data": {
      "text/plain": [
       "TimedeltaIndex(['0 days 00:00:00', '0 days 02:30:00', '0 days 05:00:00',\n",
       "                '0 days 07:30:00', '0 days 10:00:00', '0 days 12:30:00',\n",
       "                '0 days 15:00:00', '0 days 17:30:00', '0 days 20:00:00'],\n",
       "               dtype='timedelta64[ns]', freq='150T')"
      ]
     },
     "execution_count": 29,
     "metadata": {},
     "output_type": "execute_result"
    }
   ],
   "source": [
    "pd.timedelta_range(0, periods=9, freq=\"2H30T\")"
   ]
  },
  {
   "cell_type": "markdown",
   "id": "76cc1fcf",
   "metadata": {},
   "source": [
    "All of these short codes refer to specific instances of Pandas time series offsets, which\n",
    "can be found in the pd.tseries.offsets module. For example, we can create a busi‐\n",
    "ness day offset directly as follows:"
   ]
  },
  {
   "cell_type": "code",
   "execution_count": 30,
   "id": "c5ce3d9d",
   "metadata": {},
   "outputs": [
    {
     "data": {
      "text/plain": [
       "DatetimeIndex(['2015-07-01', '2015-07-02', '2015-07-03', '2015-07-06',\n",
       "               '2015-07-07'],\n",
       "              dtype='datetime64[ns]', freq='B')"
      ]
     },
     "execution_count": 30,
     "metadata": {},
     "output_type": "execute_result"
    }
   ],
   "source": [
    "from pandas.tseries.offsets import BDay\n",
    "pd.date_range('2015-07-01', periods=5, freq=BDay())"
   ]
  },
  {
   "cell_type": "markdown",
   "id": "4aba3604",
   "metadata": {},
   "source": []
  }
 ],
 "metadata": {
  "kernelspec": {
   "display_name": "Python 3 (ipykernel)",
   "language": "python",
   "name": "python3"
  },
  "language_info": {
   "codemirror_mode": {
    "name": "ipython",
    "version": 3
   },
   "file_extension": ".py",
   "mimetype": "text/x-python",
   "name": "python",
   "nbconvert_exporter": "python",
   "pygments_lexer": "ipython3",
   "version": "3.9.7"
  }
 },
 "nbformat": 4,
 "nbformat_minor": 5
}
