{
 "cells": [
  {
   "cell_type": "code",
   "execution_count": 1,
   "id": "06b6c38c",
   "metadata": {},
   "outputs": [],
   "source": [
    "import pandas as pd\n",
    "import numpy as np"
   ]
  },
  {
   "cell_type": "code",
   "execution_count": 2,
   "id": "8c29e5fc",
   "metadata": {},
   "outputs": [
    {
     "name": "stdout",
     "output_type": "stream",
     "text": [
      "1.4.3\n",
      "1.21.2\n"
     ]
    }
   ],
   "source": [
    "print(pd.__version__)\n",
    "print(np.__version__)"
   ]
  },
  {
   "cell_type": "markdown",
   "id": "700049e2",
   "metadata": {},
   "source": [
    "##### points to notice\n",
    "\n",
    "\n",
    "\n",
    "- pd.eval()\n",
    "- pd.query()\n",
    "- df.eval()\n",
    "- df.query()"
   ]
  },
  {
   "cell_type": "markdown",
   "id": "9bdc5f28",
   "metadata": {},
   "source": [
    "As we’ve already seen in previous chapters, the power of the PyData stack is built\n",
    "upon the ability of NumPy and Pandas to push basic operations into C via an intu‐\n",
    "itive syntax: examples are vectorized/broadcasted operations in NumPy, and\n",
    "grouping-type operations in Pandas. While these abstractions are efficient and effec‐ tive for many common use cases, they often rely on the creation of temporary inter‐\n",
    "mediate objects, which can cause undue overhead in computational time and\n",
    "memory use. <br>\n",
    "\n",
    "As of version 0.13 (released January 2014), Pandas includes some experimental tools\n",
    "that allow you to directly access C-speed operations without costly allocation of inter‐\n",
    "mediate arrays. These are the eval() and query() functions, which rely on the\n",
    "Numexpr package. In this notebook we will walk through their use and give some\n",
    "rules of thumb about when you might think about using them."
   ]
  },
  {
   "cell_type": "markdown",
   "id": "feb72c7a",
   "metadata": {},
   "source": [
    "##### Motivating query() and eval(): Compound Expressions"
   ]
  },
  {
   "cell_type": "markdown",
   "id": "4f707782",
   "metadata": {},
   "source": [
    "We’ve seen previously that NumPy and Pandas support fast vectorized operations; for\n",
    "example, when you are adding the elements of two arrays:"
   ]
  },
  {
   "cell_type": "code",
   "execution_count": 7,
   "id": "154e8673",
   "metadata": {},
   "outputs": [
    {
     "name": "stdout",
     "output_type": "stream",
     "text": [
      "51.4 ns ± 1.45 ns per loop (mean ± std. dev. of 7 runs, 10000000 loops each)\n"
     ]
    }
   ],
   "source": [
    "rng = np.random.RandomState(42)\n",
    "x = rng.randint(1E6)\n",
    "y = rng.randint(1E6)\n",
    "%timeit x + y"
   ]
  },
  {
   "cell_type": "markdown",
   "id": "fb1ae8bd",
   "metadata": {},
   "source": [
    "##### pandas.eval() for Efficient Operations"
   ]
  },
  {
   "cell_type": "markdown",
   "id": "8c41c735",
   "metadata": {},
   "source": [
    "The eval() function in Pandas uses string expressions to efficiently compute opera‐\n",
    "tions using DataFrames. For example, consider the following DataFrames:"
   ]
  },
  {
   "cell_type": "code",
   "execution_count": 9,
   "id": "9f7d7364",
   "metadata": {},
   "outputs": [],
   "source": [
    "nrows, ncols = 100000, 10\n",
    "rng = np.random.RandomState(42)\n",
    "df1, df2, df3, df4 = (pd.DataFrame(rng.rand(nrows, ncols))\n",
    "                             for i in range(4))"
   ]
  },
  {
   "cell_type": "markdown",
   "id": "491a8f60",
   "metadata": {},
   "source": [
    "To compute the sum of all four DataFrames using the typical Pandas approach, we can\n",
    "just write the sum:"
   ]
  },
  {
   "cell_type": "code",
   "execution_count": 10,
   "id": "5212085a",
   "metadata": {},
   "outputs": [
    {
     "name": "stdout",
     "output_type": "stream",
     "text": [
      "13.9 ms ± 26.9 µs per loop (mean ± std. dev. of 7 runs, 100 loops each)\n"
     ]
    }
   ],
   "source": [
    "%timeit df1 + df2 + df3 + df4"
   ]
  },
  {
   "cell_type": "markdown",
   "id": "debc9d0f",
   "metadata": {},
   "source": [
    "We can compute the same result via pd.eval by constructing the expression as a\n",
    "string:"
   ]
  },
  {
   "cell_type": "code",
   "execution_count": 11,
   "id": "c2c6912d",
   "metadata": {},
   "outputs": [
    {
     "name": "stdout",
     "output_type": "stream",
     "text": [
      "14.7 ms ± 218 µs per loop (mean ± std. dev. of 7 runs, 100 loops each)\n"
     ]
    }
   ],
   "source": [
    "%timeit pd.eval('df1 + df2 + df3 + df4')"
   ]
  },
  {
   "cell_type": "code",
   "execution_count": 12,
   "id": "771cc8e6",
   "metadata": {},
   "outputs": [
    {
     "data": {
      "text/plain": [
       "True"
      ]
     },
     "execution_count": 12,
     "metadata": {},
     "output_type": "execute_result"
    }
   ],
   "source": [
    "np.allclose(df1 + df2 + df3 + df4,\n",
    "                   pd.eval('df1 + df2 + df3 + df4'))"
   ]
  },
  {
   "cell_type": "markdown",
   "id": "0e9d3e1d",
   "metadata": {},
   "source": [
    "##### Operations supported by pd.eval()"
   ]
  },
  {
   "cell_type": "code",
   "execution_count": 13,
   "id": "543dbe1d",
   "metadata": {},
   "outputs": [],
   "source": [
    " df1, df2, df3, df4, df5 = (pd.DataFrame(rng.randint(0, 1000, (100, 3)))\n",
    "                                   for i in range(5))"
   ]
  },
  {
   "cell_type": "markdown",
   "id": "c45273f2",
   "metadata": {},
   "source": [
    "**Arithmetic operators.**    pd.eval() supports all arithmetic operators. For example:"
   ]
  },
  {
   "cell_type": "code",
   "execution_count": 17,
   "id": "6fdb3042",
   "metadata": {},
   "outputs": [
    {
     "data": {
      "text/plain": [
       "True"
      ]
     },
     "execution_count": 17,
     "metadata": {},
     "output_type": "execute_result"
    }
   ],
   "source": [
    "result1 = -df1 * df2 / (df3 + df4) - df5\n",
    "result2 = pd.eval('-df1 * df2 / (df3 + df4) - df5')\n",
    "np.allclose(result1, result2)"
   ]
  },
  {
   "cell_type": "markdown",
   "id": "bde70e80",
   "metadata": {},
   "source": [
    "**Comparison operators.**    pd.eval() supports all comparison operators, including\n",
    "chained expressions:"
   ]
  },
  {
   "cell_type": "code",
   "execution_count": 18,
   "id": "98a328d5",
   "metadata": {},
   "outputs": [
    {
     "data": {
      "text/plain": [
       "True"
      ]
     },
     "execution_count": 18,
     "metadata": {},
     "output_type": "execute_result"
    }
   ],
   "source": [
    "result1 = (df1 < df2) & (df2 <= df3) & (df3 != df4)\n",
    "result2 = pd.eval('df1 < df2 <= df3 != df4')\n",
    "np.allclose(result1, result2)"
   ]
  },
  {
   "cell_type": "markdown",
   "id": "4864745d",
   "metadata": {},
   "source": [
    "**Bitwise operators.**    pd.eval() supports the & and | bitwise operators:"
   ]
  },
  {
   "cell_type": "code",
   "execution_count": 20,
   "id": "8868a60c",
   "metadata": {},
   "outputs": [
    {
     "data": {
      "text/plain": [
       "True"
      ]
     },
     "execution_count": 20,
     "metadata": {},
     "output_type": "execute_result"
    }
   ],
   "source": [
    "result1 = (df1 < 0.5) & (df2 < 0.5) | (df3 < df4)\n",
    "result2 = pd.eval('(df1 < 0.5) & (df2 < 0.5) | (df3 < df4)')\n",
    "np.allclose(result1, result2)"
   ]
  },
  {
   "cell_type": "markdown",
   "id": "02657573",
   "metadata": {},
   "source": [
    "In addition, it supports the use of the literal and and or in Boolean expressions:"
   ]
  },
  {
   "cell_type": "code",
   "execution_count": 21,
   "id": "25094dfd",
   "metadata": {},
   "outputs": [
    {
     "data": {
      "text/plain": [
       "True"
      ]
     },
     "execution_count": 21,
     "metadata": {},
     "output_type": "execute_result"
    }
   ],
   "source": [
    "result3 = pd.eval('(df1 < 0.5) and (df2 < 0.5) or (df3 < df4)')\n",
    "np.allclose(result1, result3)"
   ]
  },
  {
   "cell_type": "markdown",
   "id": "99599020",
   "metadata": {},
   "source": [
    "**Object attributes and indices.**    pd.eval() supports access to object attributes via the\n",
    "obj.attr syntax, and indexes via the obj[index] syntax:"
   ]
  },
  {
   "cell_type": "code",
   "execution_count": 22,
   "id": "f174004a",
   "metadata": {},
   "outputs": [
    {
     "data": {
      "text/plain": [
       "True"
      ]
     },
     "execution_count": 22,
     "metadata": {},
     "output_type": "execute_result"
    }
   ],
   "source": [
    "result1 = df2.T[0] + df3.iloc[1]\n",
    "result2 = pd.eval('df2.T[0] + df3.iloc[1]')\n",
    "np.allclose(result1, result2)"
   ]
  },
  {
   "cell_type": "markdown",
   "id": "8f584527",
   "metadata": {},
   "source": [
    "**Other operations.**    Other operations, such as function calls, conditional statements,\n",
    "loops, and other more involved constructs, are currently not implemented in\n",
    "pd.eval(). If you’d like to execute these more complicated types of expressions, you\n",
    "can use the Numexpr library itself."
   ]
  },
  {
   "cell_type": "markdown",
   "id": "e8d2240a",
   "metadata": {},
   "source": [
    "##### DataFrame.eval() for Column-Wise Operations"
   ]
  },
  {
   "cell_type": "markdown",
   "id": "f12b59f4",
   "metadata": {},
   "source": [
    "Just as Pandas has a top-level pd.eval() function, DataFrames have an eval()\n",
    "method that works in similar ways. The benefit of the eval() method is that columns\n",
    "can be referred to by name. We’ll use this labeled array as an example:"
   ]
  },
  {
   "cell_type": "code",
   "execution_count": 23,
   "id": "6a78d062",
   "metadata": {},
   "outputs": [
    {
     "data": {
      "text/html": [
       "<div>\n",
       "<style scoped>\n",
       "    .dataframe tbody tr th:only-of-type {\n",
       "        vertical-align: middle;\n",
       "    }\n",
       "\n",
       "    .dataframe tbody tr th {\n",
       "        vertical-align: top;\n",
       "    }\n",
       "\n",
       "    .dataframe thead th {\n",
       "        text-align: right;\n",
       "    }\n",
       "</style>\n",
       "<table border=\"1\" class=\"dataframe\">\n",
       "  <thead>\n",
       "    <tr style=\"text-align: right;\">\n",
       "      <th></th>\n",
       "      <th>A</th>\n",
       "      <th>B</th>\n",
       "      <th>C</th>\n",
       "    </tr>\n",
       "  </thead>\n",
       "  <tbody>\n",
       "    <tr>\n",
       "      <th>0</th>\n",
       "      <td>0.259905</td>\n",
       "      <td>0.861337</td>\n",
       "      <td>0.232742</td>\n",
       "    </tr>\n",
       "    <tr>\n",
       "      <th>1</th>\n",
       "      <td>0.113747</td>\n",
       "      <td>0.154223</td>\n",
       "      <td>0.778527</td>\n",
       "    </tr>\n",
       "    <tr>\n",
       "      <th>2</th>\n",
       "      <td>0.460417</td>\n",
       "      <td>0.908127</td>\n",
       "      <td>0.264339</td>\n",
       "    </tr>\n",
       "    <tr>\n",
       "      <th>3</th>\n",
       "      <td>0.741817</td>\n",
       "      <td>0.243234</td>\n",
       "      <td>0.337768</td>\n",
       "    </tr>\n",
       "    <tr>\n",
       "      <th>4</th>\n",
       "      <td>0.449753</td>\n",
       "      <td>0.748700</td>\n",
       "      <td>0.057189</td>\n",
       "    </tr>\n",
       "  </tbody>\n",
       "</table>\n",
       "</div>"
      ],
      "text/plain": [
       "          A         B         C\n",
       "0  0.259905  0.861337  0.232742\n",
       "1  0.113747  0.154223  0.778527\n",
       "2  0.460417  0.908127  0.264339\n",
       "3  0.741817  0.243234  0.337768\n",
       "4  0.449753  0.748700  0.057189"
      ]
     },
     "execution_count": 23,
     "metadata": {},
     "output_type": "execute_result"
    }
   ],
   "source": [
    "df = pd.DataFrame(rng.rand(1000, 3), columns=['A', 'B', 'C'])\n",
    "df.head()"
   ]
  },
  {
   "cell_type": "markdown",
   "id": "52fe9b8b",
   "metadata": {},
   "source": [
    "Using pd.eval() as above, we can compute expressions with the three columns like\n",
    "this:"
   ]
  },
  {
   "cell_type": "code",
   "execution_count": 24,
   "id": "635862f6",
   "metadata": {},
   "outputs": [
    {
     "data": {
      "text/plain": [
       "True"
      ]
     },
     "execution_count": 24,
     "metadata": {},
     "output_type": "execute_result"
    }
   ],
   "source": [
    "result1 = (df['A'] + df['B']) / (df['C'] - 1)\n",
    "result2 = pd.eval(\"(df.A + df.B) / (df.C - 1)\")\n",
    "np.allclose(result1, result2)"
   ]
  },
  {
   "cell_type": "markdown",
   "id": "297ac5e4",
   "metadata": {},
   "source": [
    "The DataFrame.eval() method allows much more succinct evaluation of expressions\n",
    "with the columns:"
   ]
  },
  {
   "cell_type": "code",
   "execution_count": 25,
   "id": "a01ff906",
   "metadata": {},
   "outputs": [
    {
     "data": {
      "text/plain": [
       "True"
      ]
     },
     "execution_count": 25,
     "metadata": {},
     "output_type": "execute_result"
    }
   ],
   "source": [
    "result3 = df.eval('(A + B) / (C - 1)')\n",
    "np.allclose(result1, result3)"
   ]
  },
  {
   "cell_type": "markdown",
   "id": "1f7c4fc4",
   "metadata": {},
   "source": [
    "Notice here that we treat column names as variables within the evaluated expression,\n",
    "and the result is what we would wish."
   ]
  },
  {
   "cell_type": "markdown",
   "id": "739a4d24",
   "metadata": {},
   "source": [
    "##### Assignment in DataFrame.eval()"
   ]
  },
  {
   "cell_type": "markdown",
   "id": "ddc8e642",
   "metadata": {},
   "source": [
    "In addition to the options just discussed, DataFrame.eval() also allows assignment\n",
    "to any column. Let’s use the DataFrame from before, which has columns 'A', 'B', and\n",
    "'C':"
   ]
  },
  {
   "cell_type": "code",
   "execution_count": 26,
   "id": "cc05e474",
   "metadata": {},
   "outputs": [
    {
     "data": {
      "text/html": [
       "<div>\n",
       "<style scoped>\n",
       "    .dataframe tbody tr th:only-of-type {\n",
       "        vertical-align: middle;\n",
       "    }\n",
       "\n",
       "    .dataframe tbody tr th {\n",
       "        vertical-align: top;\n",
       "    }\n",
       "\n",
       "    .dataframe thead th {\n",
       "        text-align: right;\n",
       "    }\n",
       "</style>\n",
       "<table border=\"1\" class=\"dataframe\">\n",
       "  <thead>\n",
       "    <tr style=\"text-align: right;\">\n",
       "      <th></th>\n",
       "      <th>A</th>\n",
       "      <th>B</th>\n",
       "      <th>C</th>\n",
       "    </tr>\n",
       "  </thead>\n",
       "  <tbody>\n",
       "    <tr>\n",
       "      <th>0</th>\n",
       "      <td>0.259905</td>\n",
       "      <td>0.861337</td>\n",
       "      <td>0.232742</td>\n",
       "    </tr>\n",
       "    <tr>\n",
       "      <th>1</th>\n",
       "      <td>0.113747</td>\n",
       "      <td>0.154223</td>\n",
       "      <td>0.778527</td>\n",
       "    </tr>\n",
       "    <tr>\n",
       "      <th>2</th>\n",
       "      <td>0.460417</td>\n",
       "      <td>0.908127</td>\n",
       "      <td>0.264339</td>\n",
       "    </tr>\n",
       "    <tr>\n",
       "      <th>3</th>\n",
       "      <td>0.741817</td>\n",
       "      <td>0.243234</td>\n",
       "      <td>0.337768</td>\n",
       "    </tr>\n",
       "    <tr>\n",
       "      <th>4</th>\n",
       "      <td>0.449753</td>\n",
       "      <td>0.748700</td>\n",
       "      <td>0.057189</td>\n",
       "    </tr>\n",
       "  </tbody>\n",
       "</table>\n",
       "</div>"
      ],
      "text/plain": [
       "          A         B         C\n",
       "0  0.259905  0.861337  0.232742\n",
       "1  0.113747  0.154223  0.778527\n",
       "2  0.460417  0.908127  0.264339\n",
       "3  0.741817  0.243234  0.337768\n",
       "4  0.449753  0.748700  0.057189"
      ]
     },
     "execution_count": 26,
     "metadata": {},
     "output_type": "execute_result"
    }
   ],
   "source": [
    "df.head()"
   ]
  },
  {
   "cell_type": "markdown",
   "id": "e2026397",
   "metadata": {},
   "source": [
    "We can use df.eval() to create a new column 'D' and assign to it a value computed\n",
    "from the other columns:"
   ]
  },
  {
   "cell_type": "code",
   "execution_count": 28,
   "id": "1a67902f",
   "metadata": {},
   "outputs": [
    {
     "data": {
      "text/html": [
       "<div>\n",
       "<style scoped>\n",
       "    .dataframe tbody tr th:only-of-type {\n",
       "        vertical-align: middle;\n",
       "    }\n",
       "\n",
       "    .dataframe tbody tr th {\n",
       "        vertical-align: top;\n",
       "    }\n",
       "\n",
       "    .dataframe thead th {\n",
       "        text-align: right;\n",
       "    }\n",
       "</style>\n",
       "<table border=\"1\" class=\"dataframe\">\n",
       "  <thead>\n",
       "    <tr style=\"text-align: right;\">\n",
       "      <th></th>\n",
       "      <th>A</th>\n",
       "      <th>B</th>\n",
       "      <th>C</th>\n",
       "      <th>D</th>\n",
       "    </tr>\n",
       "  </thead>\n",
       "  <tbody>\n",
       "    <tr>\n",
       "      <th>0</th>\n",
       "      <td>0.259905</td>\n",
       "      <td>0.861337</td>\n",
       "      <td>0.232742</td>\n",
       "      <td>4.817534</td>\n",
       "    </tr>\n",
       "    <tr>\n",
       "      <th>1</th>\n",
       "      <td>0.113747</td>\n",
       "      <td>0.154223</td>\n",
       "      <td>0.778527</td>\n",
       "      <td>0.344202</td>\n",
       "    </tr>\n",
       "    <tr>\n",
       "      <th>2</th>\n",
       "      <td>0.460417</td>\n",
       "      <td>0.908127</td>\n",
       "      <td>0.264339</td>\n",
       "      <td>5.177240</td>\n",
       "    </tr>\n",
       "    <tr>\n",
       "      <th>3</th>\n",
       "      <td>0.741817</td>\n",
       "      <td>0.243234</td>\n",
       "      <td>0.337768</td>\n",
       "      <td>2.916348</td>\n",
       "    </tr>\n",
       "    <tr>\n",
       "      <th>4</th>\n",
       "      <td>0.449753</td>\n",
       "      <td>0.748700</td>\n",
       "      <td>0.057189</td>\n",
       "      <td>20.955826</td>\n",
       "    </tr>\n",
       "  </tbody>\n",
       "</table>\n",
       "</div>"
      ],
      "text/plain": [
       "          A         B         C          D\n",
       "0  0.259905  0.861337  0.232742   4.817534\n",
       "1  0.113747  0.154223  0.778527   0.344202\n",
       "2  0.460417  0.908127  0.264339   5.177240\n",
       "3  0.741817  0.243234  0.337768   2.916348\n",
       "4  0.449753  0.748700  0.057189  20.955826"
      ]
     },
     "execution_count": 28,
     "metadata": {},
     "output_type": "execute_result"
    }
   ],
   "source": [
    "df.eval('D = (A + B) / C', inplace=True)\n",
    "df.head()"
   ]
  },
  {
   "cell_type": "markdown",
   "id": "46dcd0d1",
   "metadata": {},
   "source": [
    "In the same way, any existing column can be modified:"
   ]
  },
  {
   "cell_type": "code",
   "execution_count": 29,
   "id": "ea9cf59f",
   "metadata": {},
   "outputs": [
    {
     "data": {
      "text/html": [
       "<div>\n",
       "<style scoped>\n",
       "    .dataframe tbody tr th:only-of-type {\n",
       "        vertical-align: middle;\n",
       "    }\n",
       "\n",
       "    .dataframe tbody tr th {\n",
       "        vertical-align: top;\n",
       "    }\n",
       "\n",
       "    .dataframe thead th {\n",
       "        text-align: right;\n",
       "    }\n",
       "</style>\n",
       "<table border=\"1\" class=\"dataframe\">\n",
       "  <thead>\n",
       "    <tr style=\"text-align: right;\">\n",
       "      <th></th>\n",
       "      <th>A</th>\n",
       "      <th>B</th>\n",
       "      <th>C</th>\n",
       "      <th>D</th>\n",
       "    </tr>\n",
       "  </thead>\n",
       "  <tbody>\n",
       "    <tr>\n",
       "      <th>0</th>\n",
       "      <td>0.259905</td>\n",
       "      <td>0.861337</td>\n",
       "      <td>0.232742</td>\n",
       "      <td>-2.584112</td>\n",
       "    </tr>\n",
       "    <tr>\n",
       "      <th>1</th>\n",
       "      <td>0.113747</td>\n",
       "      <td>0.154223</td>\n",
       "      <td>0.778527</td>\n",
       "      <td>-0.051990</td>\n",
       "    </tr>\n",
       "    <tr>\n",
       "      <th>2</th>\n",
       "      <td>0.460417</td>\n",
       "      <td>0.908127</td>\n",
       "      <td>0.264339</td>\n",
       "      <td>-1.693699</td>\n",
       "    </tr>\n",
       "    <tr>\n",
       "      <th>3</th>\n",
       "      <td>0.741817</td>\n",
       "      <td>0.243234</td>\n",
       "      <td>0.337768</td>\n",
       "      <td>1.476108</td>\n",
       "    </tr>\n",
       "    <tr>\n",
       "      <th>4</th>\n",
       "      <td>0.449753</td>\n",
       "      <td>0.748700</td>\n",
       "      <td>0.057189</td>\n",
       "      <td>-5.227312</td>\n",
       "    </tr>\n",
       "  </tbody>\n",
       "</table>\n",
       "</div>"
      ],
      "text/plain": [
       "          A         B         C         D\n",
       "0  0.259905  0.861337  0.232742 -2.584112\n",
       "1  0.113747  0.154223  0.778527 -0.051990\n",
       "2  0.460417  0.908127  0.264339 -1.693699\n",
       "3  0.741817  0.243234  0.337768  1.476108\n",
       "4  0.449753  0.748700  0.057189 -5.227312"
      ]
     },
     "execution_count": 29,
     "metadata": {},
     "output_type": "execute_result"
    }
   ],
   "source": [
    "df.eval('D = (A - B) / C', inplace=True)\n",
    "df.head()"
   ]
  },
  {
   "cell_type": "markdown",
   "id": "f92808e7",
   "metadata": {},
   "source": [
    "##### Local variables in DataFrame.eval()"
   ]
  },
  {
   "cell_type": "markdown",
   "id": "5dd2e5a4",
   "metadata": {},
   "source": [
    "The DataFrame.eval() method supports an additional syntax that lets it work with\n",
    "local Python variables. Consider the following:"
   ]
  },
  {
   "cell_type": "code",
   "execution_count": 30,
   "id": "950a8ec8",
   "metadata": {},
   "outputs": [
    {
     "data": {
      "text/plain": [
       "True"
      ]
     },
     "execution_count": 30,
     "metadata": {},
     "output_type": "execute_result"
    }
   ],
   "source": [
    "column_mean = df.mean(1)\n",
    "result1 = df['A'] + column_mean\n",
    "result2 = df.eval('A + @column_mean')\n",
    "np.allclose(result1, result2)"
   ]
  },
  {
   "cell_type": "markdown",
   "id": "3c57bc16",
   "metadata": {},
   "source": [
    "The @ character here marks a variable name rather than a column name, and lets you\n",
    "efficiently evaluate expressions involving the two “namespaces”: the namespace of\n",
    "columns, and the namespace of Python objects. Notice that this @ character is only\n",
    "supported by the DataFrame.eval() method, not by the pandas.eval() function,\n",
    "because the pandas.eval() function only has access to the one (Python) namespace."
   ]
  },
  {
   "cell_type": "markdown",
   "id": "2519d1c3",
   "metadata": {},
   "source": [
    "##### DataFrame.query() Method"
   ]
  },
  {
   "cell_type": "markdown",
   "id": "3119165b",
   "metadata": {},
   "source": [
    "The DataFrame has another method based on evaluated strings, called the query()\n",
    "method. Consider the following:"
   ]
  },
  {
   "cell_type": "code",
   "execution_count": 31,
   "id": "e6e4c0d3",
   "metadata": {},
   "outputs": [
    {
     "data": {
      "text/plain": [
       "True"
      ]
     },
     "execution_count": 31,
     "metadata": {},
     "output_type": "execute_result"
    }
   ],
   "source": [
    "result1 = df[(df.A < 0.5) & (df.B < 0.5)]\n",
    "result2 = pd.eval('df[(df.A < 0.5) & (df.B < 0.5)]')\n",
    "np.allclose(result1, result2)"
   ]
  },
  {
   "cell_type": "markdown",
   "id": "060d535b",
   "metadata": {},
   "source": [
    "As with the example used in our discussion of DataFrame.eval(), this is an expres‐\n",
    "sion involving columns of the DataFrame. It cannot be expressed using the Data\n",
    "Frame.eval() syntax, however! Instead, for this type of filtering operation, you can\n",
    "use the query() method:"
   ]
  },
  {
   "cell_type": "code",
   "execution_count": 32,
   "id": "250627b7",
   "metadata": {},
   "outputs": [
    {
     "data": {
      "text/plain": [
       "True"
      ]
     },
     "execution_count": 32,
     "metadata": {},
     "output_type": "execute_result"
    }
   ],
   "source": [
    "result2 = df.query('A < 0.5 and B < 0.5')\n",
    "np.allclose(result1, result2)"
   ]
  },
  {
   "cell_type": "markdown",
   "id": "7f3a8145",
   "metadata": {},
   "source": [
    "In addition to being a more efficient computation, compared to the masking expres‐\n",
    "sion this is much easier to read and understand. Note that the query() method also\n",
    "accepts the @ flag to mark local variables:"
   ]
  },
  {
   "cell_type": "code",
   "execution_count": 33,
   "id": "ec463766",
   "metadata": {},
   "outputs": [
    {
     "data": {
      "text/plain": [
       "True"
      ]
     },
     "execution_count": 33,
     "metadata": {},
     "output_type": "execute_result"
    }
   ],
   "source": [
    "Cmean = df['C'].mean()\n",
    "result1 = df[(df.A < Cmean) & (df.B < Cmean)]\n",
    "result2 = df.query('A < @Cmean and B < @Cmean')\n",
    "np.allclose(result1, result2)"
   ]
  },
  {
   "cell_type": "markdown",
   "id": "842924dc",
   "metadata": {},
   "source": [
    "##### Performance: When to Use These Functions"
   ]
  },
  {
   "cell_type": "markdown",
   "id": "4d9e3064",
   "metadata": {},
   "source": [
    "When considering whether to use these functions, there are two considerations: com‐\n",
    "putation time and memory use. Memory use is the most predictable aspect. As already\n",
    "mentioned, every compound expression involving NumPy arrays or Pandas Data\n",
    "Frames will result in implicit creation of temporary arrays: For example, this:"
   ]
  },
  {
   "cell_type": "code",
   "execution_count": 40,
   "id": "347f89bc",
   "metadata": {},
   "outputs": [
    {
     "data": {
      "text/html": [
       "<div>\n",
       "<style scoped>\n",
       "    .dataframe tbody tr th:only-of-type {\n",
       "        vertical-align: middle;\n",
       "    }\n",
       "\n",
       "    .dataframe tbody tr th {\n",
       "        vertical-align: top;\n",
       "    }\n",
       "\n",
       "    .dataframe thead th {\n",
       "        text-align: right;\n",
       "    }\n",
       "</style>\n",
       "<table border=\"1\" class=\"dataframe\">\n",
       "  <thead>\n",
       "    <tr style=\"text-align: right;\">\n",
       "      <th></th>\n",
       "      <th>A</th>\n",
       "      <th>B</th>\n",
       "      <th>C</th>\n",
       "      <th>D</th>\n",
       "    </tr>\n",
       "  </thead>\n",
       "  <tbody>\n",
       "    <tr>\n",
       "      <th>1</th>\n",
       "      <td>0.113747</td>\n",
       "      <td>0.154223</td>\n",
       "      <td>0.778527</td>\n",
       "      <td>-0.051990</td>\n",
       "    </tr>\n",
       "    <tr>\n",
       "      <th>6</th>\n",
       "      <td>0.115987</td>\n",
       "      <td>0.119138</td>\n",
       "      <td>0.486502</td>\n",
       "      <td>-0.006476</td>\n",
       "    </tr>\n",
       "    <tr>\n",
       "      <th>10</th>\n",
       "      <td>0.083683</td>\n",
       "      <td>0.192117</td>\n",
       "      <td>0.170891</td>\n",
       "      <td>-0.634523</td>\n",
       "    </tr>\n",
       "    <tr>\n",
       "      <th>11</th>\n",
       "      <td>0.458644</td>\n",
       "      <td>0.006565</td>\n",
       "      <td>0.850275</td>\n",
       "      <td>0.531686</td>\n",
       "    </tr>\n",
       "    <tr>\n",
       "      <th>12</th>\n",
       "      <td>0.388111</td>\n",
       "      <td>0.492187</td>\n",
       "      <td>0.421714</td>\n",
       "      <td>-0.246794</td>\n",
       "    </tr>\n",
       "  </tbody>\n",
       "</table>\n",
       "</div>"
      ],
      "text/plain": [
       "           A         B         C         D\n",
       "1   0.113747  0.154223  0.778527 -0.051990\n",
       "6   0.115987  0.119138  0.486502 -0.006476\n",
       "10  0.083683  0.192117  0.170891 -0.634523\n",
       "11  0.458644  0.006565  0.850275  0.531686\n",
       "12  0.388111  0.492187  0.421714 -0.246794"
      ]
     },
     "execution_count": 40,
     "metadata": {},
     "output_type": "execute_result"
    }
   ],
   "source": [
    "x1 = df[(df.A < 0.5) & (df.B < 0.5)]\n",
    "x1.head()"
   ]
  },
  {
   "cell_type": "markdown",
   "id": "6d24f2a0",
   "metadata": {},
   "source": [
    "is roughly equivalent to this:"
   ]
  },
  {
   "cell_type": "code",
   "execution_count": 39,
   "id": "7731b0e7",
   "metadata": {},
   "outputs": [
    {
     "data": {
      "text/html": [
       "<div>\n",
       "<style scoped>\n",
       "    .dataframe tbody tr th:only-of-type {\n",
       "        vertical-align: middle;\n",
       "    }\n",
       "\n",
       "    .dataframe tbody tr th {\n",
       "        vertical-align: top;\n",
       "    }\n",
       "\n",
       "    .dataframe thead th {\n",
       "        text-align: right;\n",
       "    }\n",
       "</style>\n",
       "<table border=\"1\" class=\"dataframe\">\n",
       "  <thead>\n",
       "    <tr style=\"text-align: right;\">\n",
       "      <th></th>\n",
       "      <th>A</th>\n",
       "      <th>B</th>\n",
       "      <th>C</th>\n",
       "      <th>D</th>\n",
       "    </tr>\n",
       "  </thead>\n",
       "  <tbody>\n",
       "    <tr>\n",
       "      <th>1</th>\n",
       "      <td>0.113747</td>\n",
       "      <td>0.154223</td>\n",
       "      <td>0.778527</td>\n",
       "      <td>-0.051990</td>\n",
       "    </tr>\n",
       "    <tr>\n",
       "      <th>6</th>\n",
       "      <td>0.115987</td>\n",
       "      <td>0.119138</td>\n",
       "      <td>0.486502</td>\n",
       "      <td>-0.006476</td>\n",
       "    </tr>\n",
       "    <tr>\n",
       "      <th>10</th>\n",
       "      <td>0.083683</td>\n",
       "      <td>0.192117</td>\n",
       "      <td>0.170891</td>\n",
       "      <td>-0.634523</td>\n",
       "    </tr>\n",
       "    <tr>\n",
       "      <th>11</th>\n",
       "      <td>0.458644</td>\n",
       "      <td>0.006565</td>\n",
       "      <td>0.850275</td>\n",
       "      <td>0.531686</td>\n",
       "    </tr>\n",
       "    <tr>\n",
       "      <th>12</th>\n",
       "      <td>0.388111</td>\n",
       "      <td>0.492187</td>\n",
       "      <td>0.421714</td>\n",
       "      <td>-0.246794</td>\n",
       "    </tr>\n",
       "  </tbody>\n",
       "</table>\n",
       "</div>"
      ],
      "text/plain": [
       "           A         B         C         D\n",
       "1   0.113747  0.154223  0.778527 -0.051990\n",
       "6   0.115987  0.119138  0.486502 -0.006476\n",
       "10  0.083683  0.192117  0.170891 -0.634523\n",
       "11  0.458644  0.006565  0.850275  0.531686\n",
       "12  0.388111  0.492187  0.421714 -0.246794"
      ]
     },
     "execution_count": 39,
     "metadata": {},
     "output_type": "execute_result"
    }
   ],
   "source": [
    "tmp1 = df.A < 0.5\n",
    "tmp2 = df.B < 0.5\n",
    "tmp3 = tmp1 & tmp2\n",
    "x = df[tmp3]\n",
    "x.head()"
   ]
  },
  {
   "cell_type": "markdown",
   "id": "db79e884",
   "metadata": {},
   "source": [
    "If the size of the temporary DataFrames is significant compared to your available sys‐\n",
    "tem memory (typically several gigabytes), then it’s a good idea to use an eval() or\n",
    "query() expression. You can check the approximate size of your array in bytes using\n",
    "this:"
   ]
  },
  {
   "cell_type": "code",
   "execution_count": 42,
   "id": "40a047d7",
   "metadata": {},
   "outputs": [
    {
     "name": "stdout",
     "output_type": "stream",
     "text": [
      "X1: 8000\n",
      "X: 8000\n",
      "df: 32000\n",
      "None\n"
     ]
    }
   ],
   "source": [
    "print(\"X1:\", x1.values.nbytes)\n",
    "print(\"X:\", x.values.nbytes)\n",
    "print(print(\"df:\", df.values.nbytes))"
   ]
  },
  {
   "cell_type": "markdown",
   "id": "591dffd1",
   "metadata": {},
   "source": [
    "On the performance side, eval() can be faster even when you are not maxing out\n",
    "your system memory. The issue is how your temporary DataFrames compare to the\n",
    "size of the L1 or L2 CPU cache on your system (typically a few megabytes in 2016); if\n",
    "they are much bigger, then eval() can avoid some potentially slow movement of val‐\n",
    "ues between the different memory caches. In practice, I find that the difference in\n",
    "computation time between the traditional methods and the eval/query method is\n",
    "usually not significant—if anything, the traditional method is faster for smaller\n",
    "arrays! The benefit of eval/query is mainly in the saved memory, and the sometimes\n",
    "cleaner syntax they offer. <br>\n",
    "\n",
    "We’ve covered most of the details of eval() and query() here; for more information\n",
    "on these, you can refer to the Pandas documentation. In particular, different parsers\n",
    "and engines can be specified for running these queries; for details on this, see the dis‐\n",
    "cussion within the “Enhancing Performance” section."
   ]
  },
  {
   "cell_type": "code",
   "execution_count": null,
   "id": "21cb5a13",
   "metadata": {},
   "outputs": [],
   "source": []
  }
 ],
 "metadata": {
  "kernelspec": {
   "display_name": "Python 3 (ipykernel)",
   "language": "python",
   "name": "python3"
  },
  "language_info": {
   "codemirror_mode": {
    "name": "ipython",
    "version": 3
   },
   "file_extension": ".py",
   "mimetype": "text/x-python",
   "name": "python",
   "nbconvert_exporter": "python",
   "pygments_lexer": "ipython3",
   "version": "3.9.7"
  }
 },
 "nbformat": 4,
 "nbformat_minor": 5
}
