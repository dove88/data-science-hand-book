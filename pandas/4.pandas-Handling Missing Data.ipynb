{
 "cells": [
  {
   "cell_type": "code",
   "execution_count": 1,
   "id": "214f210a",
   "metadata": {},
   "outputs": [],
   "source": [
    "import pandas as pd\n",
    "import numpy as np"
   ]
  },
  {
   "cell_type": "code",
   "execution_count": 2,
   "id": "212f99b7",
   "metadata": {},
   "outputs": [
    {
     "name": "stdout",
     "output_type": "stream",
     "text": [
      "1.4.3\n",
      "1.21.2\n"
     ]
    }
   ],
   "source": [
    "print(pd.__version__)\n",
    "print(np.__version__)"
   ]
  },
  {
   "cell_type": "markdown",
   "id": "528dc9d0",
   "metadata": {},
   "source": [
    "##### points to notify\n",
    "\n",
    "\n",
    "- trade-off in missing data conventions\n",
    "- none pythonic missing data\n",
    "- NaN missing numerical data\n",
    "- NaN and None in pandas"
   ]
  },
  {
   "cell_type": "markdown",
   "id": "ee7fc162",
   "metadata": {},
   "source": [
    "##### Handling Missing Data"
   ]
  },
  {
   "cell_type": "markdown",
   "id": "7ee1ab3f",
   "metadata": {},
   "source": [
    "The difference between data found in many tutorials and data in the real world is that\n",
    "real-world data is rarely clean and homogeneous. In particular, many interesting\n",
    "datasets will have some amount of data missing. To make matters even more compli‐\n",
    "cated, different data sources may indicate missing data in different ways."
   ]
  },
  {
   "cell_type": "markdown",
   "id": "53a4b860",
   "metadata": {},
   "source": [
    "##### Trade-Offs in Missing Data Conventions"
   ]
  },
  {
   "cell_type": "markdown",
   "id": "994e5fcd",
   "metadata": {},
   "source": [
    "A number of schemes have been developed to indicate the presence of missing data in\n",
    "a table or DataFrame. Generally, they revolve around one of two strategies: using a\n",
    "mask that globally indicates missing values, or choosing a sentinel value that indicates\n",
    "a missing entry. <br>\n",
    "\n",
    "In the masking approach, the mask might be an entirely separate Boolean array, or it\n",
    "may involve appropriation of one bit in the data representation to locally indicate the\n",
    "null status of a value. <br>\n",
    "\n",
    "In the sentinel approach, the sentinel value could be some data-specific convention,\n",
    "such as indicating a missing integer value with –9999 or some rare bit pattern, or it\n",
    "could be a more global convention, such as indicating a missing floating-point value\n",
    "with NaN (Not a Number), a special value which is part of the IEEE floating-poinspecification. <br>\n",
    "\n",
    "None of these approaches is without trade-offs: use of a separate mask array requires\n",
    "allocation of an additional Boolean array, which adds overhead in both storage and\n",
    "computation. A sentinel value reduces the range of valid values that can be repre‐\n",
    "sented, and may require extra (often non-optimized) logic in CPU and GPU arith‐\n",
    "metic. Common special values like NaN are not available for all data types. <br>\n",
    "\n",
    "As in most cases where no universally optimal choice exists, different languages and\n",
    "systems use different conventions. For example, the R language uses reserved bit pat‐\n",
    "terns within each data type as sentinel values indicating missing data, while the SciDB\n",
    "system uses an extra byte attached to every cell to indicate a NA state."
   ]
  },
  {
   "cell_type": "markdown",
   "id": "3c011048",
   "metadata": {},
   "source": [
    "##### Missing Data in Pandas"
   ]
  },
  {
   "cell_type": "markdown",
   "id": "44a16e9c",
   "metadata": {},
   "source": [
    "The way in which Pandas handles missing values is constrained by its reliance on the\n",
    "NumPy package, which does not have a built-in notion of NA values for nonfloating-point\n",
    "data types ikely even requiring a new fork of the NumPy package. Further, for the smaller data\n",
    "types (such as 8-bit integers), sacrificing a bit to use as a mask will significantly\n",
    "reduce the range of values it can represent. <br>\n",
    "\n",
    "NumPy does have support for masked arrays—that is, arrays that have a separate\n",
    "Boolean mask array attached for marking data as “good” or “bad.” Pandas could have\n",
    "derived from this, but the overhead in both storage, computation, and code mainte‐\n",
    "nance makes that an unattractive choice. <br>\n",
    "\n",
    "With these constraints in mind, Pandas chose to use sentinels for missing data, and\n",
    "further chose to use two already-existing Python null values: the special floatingpoint\n",
    "NaN value, and the Python\n",
    "None object. This choice has some side effects, as\n",
    "we\n",
    "will see, but in practice ends up being a good\n",
    "compromise in most cases of\n",
    "interest."
   ]
  },
  {
   "cell_type": "markdown",
   "id": "e4a55633",
   "metadata": {},
   "source": [
    "##### None: Pythonic missing data"
   ]
  },
  {
   "cell_type": "markdown",
   "id": "c4ca3fad",
   "metadata": {},
   "source": [
    "The first sentinel value used by Pandas is None, a Python singleton object that is often\n",
    "used for missing data in Python code. Because None is a Python object, it cannot be\n",
    "used in any arbitrary NumPy/Pandas array, but only in arrays with data type\n",
    "'object' (i.e., arrays of Python objects):"
   ]
  },
  {
   "cell_type": "code",
   "execution_count": 3,
   "id": "7a578fdf",
   "metadata": {},
   "outputs": [
    {
     "data": {
      "text/plain": [
       "array([1, None, 3, 4], dtype=object)"
      ]
     },
     "execution_count": 3,
     "metadata": {},
     "output_type": "execute_result"
    }
   ],
   "source": [
    "vals1 = np.array([1, None, 3, 4])\n",
    "vals1"
   ]
  },
  {
   "cell_type": "markdown",
   "id": "5cd86371",
   "metadata": {},
   "source": [
    "This dtype=object means that the best common type representation NumPy could\n",
    "infer for the contents of the array is that they are Python objects. While this kind of\n",
    "object array is useful for some purposes, any operations on the data will be done at\n",
    "the Python level, with much more overhead than the typically fast operations seen for\n",
    "arrays with native types:"
   ]
  },
  {
   "cell_type": "code",
   "execution_count": 4,
   "id": "b756bd7a",
   "metadata": {},
   "outputs": [
    {
     "name": "stdout",
     "output_type": "stream",
     "text": [
      "dtype = object\n",
      "69.4 ms ± 1.88 ms per loop (mean ± std. dev. of 7 runs, 10 loops each)\n",
      "\n",
      "dtype = int\n",
      "2.17 ms ± 15.5 µs per loop (mean ± std. dev. of 7 runs, 100 loops each)\n",
      "\n"
     ]
    }
   ],
   "source": [
    "for dtype in ['object', 'int']:\n",
    "    print(\"dtype =\", dtype)\n",
    "    %timeit np.arange(1E6, dtype=dtype).sum()\n",
    "    print()"
   ]
  },
  {
   "cell_type": "markdown",
   "id": "62b94a91",
   "metadata": {},
   "source": [
    "The use of Python objects in an array also means that if you perform aggregations\n",
    "like sum() or min() across an array with a None value, you will generally get an error:"
   ]
  },
  {
   "cell_type": "code",
   "execution_count": 5,
   "id": "5124df93",
   "metadata": {},
   "outputs": [
    {
     "ename": "TypeError",
     "evalue": "unsupported operand type(s) for +: 'int' and 'NoneType'",
     "output_type": "error",
     "traceback": [
      "\u001b[1;31m-------------------------------------------------------\u001b[0m",
      "\u001b[1;31mTypeError\u001b[0m             Traceback (most recent call last)",
      "\u001b[1;32m~\\AppData\\Local\\Temp\\ipykernel_5780\\1181914653.py\u001b[0m in \u001b[0;36m<cell line: 1>\u001b[1;34m()\u001b[0m\n\u001b[1;32m----> 1\u001b[1;33m \u001b[0mvals1\u001b[0m\u001b[1;33m.\u001b[0m\u001b[0msum\u001b[0m\u001b[1;33m(\u001b[0m\u001b[1;33m)\u001b[0m\u001b[1;33m\u001b[0m\u001b[1;33m\u001b[0m\u001b[0m\n\u001b[0m",
      "\u001b[1;32m~\\AppData\\Local\\Programs\\Python\\Python39\\lib\\site-packages\\numpy\\core\\_methods.py\u001b[0m in \u001b[0;36m_sum\u001b[1;34m(a, axis, dtype, out, keepdims, initial, where)\u001b[0m\n\u001b[0;32m     46\u001b[0m def _sum(a, axis=None, dtype=None, out=None, keepdims=False,\n\u001b[0;32m     47\u001b[0m          initial=_NoValue, where=True):\n\u001b[1;32m---> 48\u001b[1;33m     \u001b[1;32mreturn\u001b[0m \u001b[0mumr_sum\u001b[0m\u001b[1;33m(\u001b[0m\u001b[0ma\u001b[0m\u001b[1;33m,\u001b[0m \u001b[0maxis\u001b[0m\u001b[1;33m,\u001b[0m \u001b[0mdtype\u001b[0m\u001b[1;33m,\u001b[0m \u001b[0mout\u001b[0m\u001b[1;33m,\u001b[0m \u001b[0mkeepdims\u001b[0m\u001b[1;33m,\u001b[0m \u001b[0minitial\u001b[0m\u001b[1;33m,\u001b[0m \u001b[0mwhere\u001b[0m\u001b[1;33m)\u001b[0m\u001b[1;33m\u001b[0m\u001b[1;33m\u001b[0m\u001b[0m\n\u001b[0m\u001b[0;32m     49\u001b[0m \u001b[1;33m\u001b[0m\u001b[0m\n\u001b[0;32m     50\u001b[0m def _prod(a, axis=None, dtype=None, out=None, keepdims=False,\n",
      "\u001b[1;31mTypeError\u001b[0m: unsupported operand type(s) for +: 'int' and 'NoneType'"
     ]
    }
   ],
   "source": [
    "vals1.sum()"
   ]
  },
  {
   "cell_type": "markdown",
   "id": "aa4257ca",
   "metadata": {},
   "source": [
    "This reflects the fact that addition between an integer and None is undefined."
   ]
  },
  {
   "cell_type": "markdown",
   "id": "1114ea18",
   "metadata": {},
   "source": [
    "##### NaN: Missing numerical data"
   ]
  },
  {
   "cell_type": "markdown",
   "id": "3dfcfdfd",
   "metadata": {},
   "source": [
    "The other missing data representation, NaN (acronym for Not a Number), is differenit is a special floating-point value recognized by all systems that use the standard\n",
    "IEEE floating-point representation:"
   ]
  },
  {
   "cell_type": "code",
   "execution_count": 6,
   "id": "b5e578fb",
   "metadata": {},
   "outputs": [
    {
     "data": {
      "text/plain": [
       "dtype('float64')"
      ]
     },
     "execution_count": 6,
     "metadata": {},
     "output_type": "execute_result"
    }
   ],
   "source": [
    "vals2 = np.array([1, np.nan, 3, 4])\n",
    "vals2.dtype"
   ]
  },
  {
   "cell_type": "markdown",
   "id": "e31d8c14",
   "metadata": {},
   "source": [
    "Notice that NumPy chose a native floating-point type for this array: this means that\n",
    "unlike the object array from before, this array supports fast operations pushed into\n",
    "compiled code. You should be aware that NaN is a bit like a data virus—it infects any\n",
    "other object it touches. Regardless of the operation, the result of arithmetic with NaN\n",
    "will be another NaN:"
   ]
  },
  {
   "cell_type": "code",
   "execution_count": 7,
   "id": "70d6f83a",
   "metadata": {},
   "outputs": [
    {
     "data": {
      "text/plain": [
       "nan"
      ]
     },
     "execution_count": 7,
     "metadata": {},
     "output_type": "execute_result"
    }
   ],
   "source": [
    "1 + np.NaN"
   ]
  },
  {
   "cell_type": "code",
   "execution_count": 8,
   "id": "3f5bdcee",
   "metadata": {},
   "outputs": [
    {
     "data": {
      "text/plain": [
       "nan"
      ]
     },
     "execution_count": 8,
     "metadata": {},
     "output_type": "execute_result"
    }
   ],
   "source": [
    "0 * np.NaN"
   ]
  },
  {
   "cell_type": "markdown",
   "id": "b389bd55",
   "metadata": {},
   "source": [
    "Note that this means that aggregates over the values are well defined (i.e., they don’t\n",
    "result in an error) but not always useful:"
   ]
  },
  {
   "cell_type": "code",
   "execution_count": 9,
   "id": "2a6b2826",
   "metadata": {},
   "outputs": [
    {
     "data": {
      "text/plain": [
       "(nan, nan, nan)"
      ]
     },
     "execution_count": 9,
     "metadata": {},
     "output_type": "execute_result"
    }
   ],
   "source": [
    "vals2.sum(), vals2.min(), vals2.max()"
   ]
  },
  {
   "cell_type": "markdown",
   "id": "dda6c812",
   "metadata": {},
   "source": [
    "NumPy does provide some special aggregations that will ignore these missing values:"
   ]
  },
  {
   "cell_type": "code",
   "execution_count": 10,
   "id": "874ee99b",
   "metadata": {},
   "outputs": [
    {
     "data": {
      "text/plain": [
       "(8.0, 1.0, 4.0)"
      ]
     },
     "execution_count": 10,
     "metadata": {},
     "output_type": "execute_result"
    }
   ],
   "source": [
    "np.nansum(vals2), np.nanmin(vals2), np.nanmax(vals2)"
   ]
  },
  {
   "cell_type": "markdown",
   "id": "3b09c58c",
   "metadata": {},
   "source": [
    "Keep in mind that NaN is specifically a floating-point value; there is no equivalent\n",
    "NaN value for integers, strings, or other types."
   ]
  },
  {
   "cell_type": "markdown",
   "id": "c8a37f93",
   "metadata": {},
   "source": [
    "#####  NaN and None in Pandas"
   ]
  },
  {
   "cell_type": "markdown",
   "id": "ae8f58ed",
   "metadata": {},
   "source": [
    "NaN and None both have their place, and Pandas is built to handle the two of them\n",
    "nearly interchangeably, converting between them where appropriate:"
   ]
  },
  {
   "cell_type": "code",
   "execution_count": 11,
   "id": "7f23efc7",
   "metadata": {},
   "outputs": [
    {
     "data": {
      "text/plain": [
       "0    1.0\n",
       "1    NaN\n",
       "2    2.0\n",
       "3    NaN\n",
       "dtype: float64"
      ]
     },
     "execution_count": 11,
     "metadata": {},
     "output_type": "execute_result"
    }
   ],
   "source": [
    "pd.Series([1, np.nan, 2, None])"
   ]
  },
  {
   "cell_type": "markdown",
   "id": "f3c44621",
   "metadata": {},
   "source": [
    "For types that don’t have an available sentinel value, Pandas automatically type-casts\n",
    "when NA values are present. For example, if we set a value in an integer array to\n",
    "np.nan, it will automatically be upcast to a floating-point type to accommodate the\n",
    "NA:"
   ]
  },
  {
   "cell_type": "code",
   "execution_count": 12,
   "id": "8e54fb27",
   "metadata": {},
   "outputs": [
    {
     "data": {
      "text/plain": [
       "0    0\n",
       "1    1\n",
       "dtype: int32"
      ]
     },
     "execution_count": 12,
     "metadata": {},
     "output_type": "execute_result"
    }
   ],
   "source": [
    "x = pd.Series(range(2), dtype=int)\n",
    "x"
   ]
  },
  {
   "cell_type": "code",
   "execution_count": 13,
   "id": "63888b43",
   "metadata": {},
   "outputs": [
    {
     "data": {
      "text/plain": [
       "0    NaN\n",
       "1    1.0\n",
       "dtype: float64"
      ]
     },
     "execution_count": 13,
     "metadata": {},
     "output_type": "execute_result"
    }
   ],
   "source": [
    "x[0] = None\n",
    "x"
   ]
  },
  {
   "cell_type": "markdown",
   "id": "088a9c4f",
   "metadata": {},
   "source": [
    "Notice that in addition to casting the integer array to floating point, Pandas automati‐\n",
    "cally converts the None to a NaN value. (Be aware that there is a proposal to add a\n",
    "native integer NA to Pandas in the future; as of this writing, it has not been included.) <br>\n",
    "\n",
    "While this type of magic may feel a bit hackish compared to the more unified\n",
    "approach to NA values in domain-specific languages like R, the Pandas sentinel/cast‐\n",
    "ing approach works quite well in practice and in my experience only rarely causes\n",
    "issues."
   ]
  },
  {
   "cell_type": "code",
   "execution_count": null,
   "id": "b063285c",
   "metadata": {},
   "outputs": [],
   "source": []
  }
 ],
 "metadata": {
  "kernelspec": {
   "display_name": "Python 3 (ipykernel)",
   "language": "python",
   "name": "python3"
  },
  "language_info": {
   "codemirror_mode": {
    "name": "ipython",
    "version": 3
   },
   "file_extension": ".py",
   "mimetype": "text/x-python",
   "name": "python",
   "nbconvert_exporter": "python",
   "pygments_lexer": "ipython3",
   "version": "3.9.7"
  }
 },
 "nbformat": 4,
 "nbformat_minor": 5
}
