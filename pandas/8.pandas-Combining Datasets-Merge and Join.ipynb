{
 "cells": [
  {
   "cell_type": "code",
   "execution_count": 1,
   "id": "355b3d6e",
   "metadata": {},
   "outputs": [],
   "source": [
    "import pandas as pd\n",
    "import numpy as np"
   ]
  },
  {
   "cell_type": "code",
   "execution_count": 2,
   "id": "05370a71",
   "metadata": {},
   "outputs": [
    {
     "name": "stdout",
     "output_type": "stream",
     "text": [
      "1.4.3\n",
      "1.21.2\n"
     ]
    }
   ],
   "source": [
    "print(pd.__version__)\n",
    "print(np.__version__)"
   ]
  },
  {
   "cell_type": "markdown",
   "id": "58789848",
   "metadata": {},
   "source": [
    "##### points to notice\n",
    "\n",
    "\n",
    "\n",
    "- categories of joins\n",
    "- one-to-one joins\n",
    "- many-to-one joins\n",
    "- many-to-many joins\n",
    "- specification of merge key\n",
    "- the on keyword\n",
    "- the left_on and right_on keywords\n",
    "- the left_index and right_index keywords\n",
    "- specifying set arithmetic joins\n",
    "- overlapping column name-set suffixes\n"
   ]
  },
  {
   "cell_type": "markdown",
   "id": "f53d50b6",
   "metadata": {},
   "source": [
    "One essential feature offered by Pandas is its high-performance, in-memory join and\n",
    "merge operations. If you have ever worked with databases, you should be familiar\n",
    "with this type of data interaction. The main interface for this is the pd.merge func‐\n",
    "tion, and we’ll see a few examples of how this can work in practice."
   ]
  },
  {
   "cell_type": "markdown",
   "id": "e5ca8252",
   "metadata": {},
   "source": [
    "##### Relational Algebra"
   ]
  },
  {
   "cell_type": "markdown",
   "id": "63391a1d",
   "metadata": {},
   "source": [
    "The behavior implemented in pd.merge() is a subset of what is known as relational\n",
    "algebra, which is a formal set of rules for manipulating relational data, and forms the\n",
    "conceptual foundation of operations available in most databases. The strength of the relational algebra approach is that it proposes several primitive operations, which\n",
    "become the building blocks of more complicated operations on any dataset. With this\n",
    "lexicon of fundamental operations implemented efficiently in a database or other pro‐\n",
    "gram, a wide range of fairly complicated composite operations can be performed. <br>\n",
    "\n",
    "Pandas implements several of these fundamental building blocks in the pd.merge()\n",
    "function and the related join() method of Series and DataFrames. As we will see,\n",
    "these let you efficiently link data from different sources."
   ]
  },
  {
   "cell_type": "markdown",
   "id": "5b774cc9",
   "metadata": {},
   "source": [
    "##### Categories of Joins"
   ]
  },
  {
   "cell_type": "markdown",
   "id": "ac162303",
   "metadata": {},
   "source": [
    "The pd.merge() function implements a number of types of joins: the one-to-one,\n",
    "many-to-one, and many-to-many joins. All three types of joins are accessed via an\n",
    "identical call to the pd.merge() interface; the type of join performed depends on the\n",
    "form of the input data. Here we will show simple examples of the three types of\n",
    "merges, and discuss detailed options further below."
   ]
  },
  {
   "cell_type": "markdown",
   "id": "a03cba5b",
   "metadata": {},
   "source": [
    "###### One-to-one joins"
   ]
  },
  {
   "cell_type": "markdown",
   "id": "40e95448",
   "metadata": {},
   "source": [
    "Perhaps the simplest type of merge expression is the one-to-one join"
   ]
  },
  {
   "cell_type": "code",
   "execution_count": 4,
   "id": "7ab87b25",
   "metadata": {},
   "outputs": [
    {
     "name": "stdout",
     "output_type": "stream",
     "text": [
      "  employee        group\n",
      "0      Bob   Accounting\n",
      "1     Jake  Engineering\n",
      "2     Lisa  Engineering\n",
      "3      Sue           HR\n",
      "  employee  hire_date\n",
      "0     Lisa       2004\n",
      "1      Bob       2008\n",
      "2     Jake       2012\n",
      "3      Sue       2014\n"
     ]
    }
   ],
   "source": [
    "df1 = pd.DataFrame({'employee': ['Bob', 'Jake', 'Lisa', 'Sue'],\n",
    "                    'group': ['Accounting', 'Engineering', 'Engineering', 'HR']})\n",
    "df2 = pd.DataFrame({'employee': ['Lisa', 'Bob', 'Jake', 'Sue'],\n",
    "                    'hire_date': [2004, 2008, 2012, 2014]})\n",
    "print(df1); print(df2)"
   ]
  },
  {
   "cell_type": "markdown",
   "id": "3a2d4d45",
   "metadata": {},
   "source": [
    "To combine this information into a single DataFrame, we can use the pd.merge()\n",
    "function:"
   ]
  },
  {
   "cell_type": "code",
   "execution_count": 5,
   "id": "f2bf064a",
   "metadata": {},
   "outputs": [
    {
     "data": {
      "text/html": [
       "<div>\n",
       "<style scoped>\n",
       "    .dataframe tbody tr th:only-of-type {\n",
       "        vertical-align: middle;\n",
       "    }\n",
       "\n",
       "    .dataframe tbody tr th {\n",
       "        vertical-align: top;\n",
       "    }\n",
       "\n",
       "    .dataframe thead th {\n",
       "        text-align: right;\n",
       "    }\n",
       "</style>\n",
       "<table border=\"1\" class=\"dataframe\">\n",
       "  <thead>\n",
       "    <tr style=\"text-align: right;\">\n",
       "      <th></th>\n",
       "      <th>employee</th>\n",
       "      <th>group</th>\n",
       "      <th>hire_date</th>\n",
       "    </tr>\n",
       "  </thead>\n",
       "  <tbody>\n",
       "    <tr>\n",
       "      <th>0</th>\n",
       "      <td>Bob</td>\n",
       "      <td>Accounting</td>\n",
       "      <td>2008</td>\n",
       "    </tr>\n",
       "    <tr>\n",
       "      <th>1</th>\n",
       "      <td>Jake</td>\n",
       "      <td>Engineering</td>\n",
       "      <td>2012</td>\n",
       "    </tr>\n",
       "    <tr>\n",
       "      <th>2</th>\n",
       "      <td>Lisa</td>\n",
       "      <td>Engineering</td>\n",
       "      <td>2004</td>\n",
       "    </tr>\n",
       "    <tr>\n",
       "      <th>3</th>\n",
       "      <td>Sue</td>\n",
       "      <td>HR</td>\n",
       "      <td>2014</td>\n",
       "    </tr>\n",
       "  </tbody>\n",
       "</table>\n",
       "</div>"
      ],
      "text/plain": [
       "  employee        group  hire_date\n",
       "0      Bob   Accounting       2008\n",
       "1     Jake  Engineering       2012\n",
       "2     Lisa  Engineering       2004\n",
       "3      Sue           HR       2014"
      ]
     },
     "execution_count": 5,
     "metadata": {},
     "output_type": "execute_result"
    }
   ],
   "source": [
    "df3 = pd.merge(df1, df2)\n",
    "df3"
   ]
  },
  {
   "cell_type": "markdown",
   "id": "d25d08e4",
   "metadata": {},
   "source": [
    "The pd.merge() function recognizes that each DataFrame has an “employee” column,\n",
    "and automatically joins using this column as a key. The result of the merge is a new\n",
    "DataFrame that combines the information from the two inputs. Notice that the order\n",
    "of entries in each column is not necessarily maintained: in this case, the order of the\n",
    "“employee” column differs between df1 and df2, and the pd.merge() function cor‐\n",
    "rectly accounts for this. Additionally, keep in mind that the merge in general discards\n",
    "the index, except in the special case of merges by index (see “The left_index and\n",
    "right_index"
   ]
  },
  {
   "cell_type": "markdown",
   "id": "cb1c58c3",
   "metadata": {},
   "source": [
    "###### Many-to-one joins"
   ]
  },
  {
   "cell_type": "markdown",
   "id": "79c40fe1",
   "metadata": {},
   "source": [
    "Many-to-one joins are joins in which one of the two key columns contains duplicate\n",
    "entries. For the many-to-one case, the resulting DataFrame will preserve those dupli‐\n",
    "cate entries as appropriate. Consider the following example of a many-to-one join:"
   ]
  },
  {
   "cell_type": "code",
   "execution_count": 6,
   "id": "08babb1c",
   "metadata": {},
   "outputs": [
    {
     "name": "stdout",
     "output_type": "stream",
     "text": [
      "  employee        group  hire_date\n",
      "0      Bob   Accounting       2008\n",
      "1     Jake  Engineering       2012\n",
      "2     Lisa  Engineering       2004\n",
      "3      Sue           HR       2014\n",
      "         group supervisor\n",
      "0   Accounting      Carly\n",
      "1  Engineering      Guido\n",
      "2           HR      Steve\n",
      "  employee        group  hire_date supervisor\n",
      "0      Bob   Accounting       2008      Carly\n",
      "1     Jake  Engineering       2012      Guido\n",
      "2     Lisa  Engineering       2004      Guido\n",
      "3      Sue           HR       2014      Steve\n"
     ]
    }
   ],
   "source": [
    "df4 = pd.DataFrame({'group': ['Accounting', 'Engineering', 'HR'],\n",
    "                           'supervisor': ['Carly', 'Guido', 'Steve']})\n",
    "print(df3); print(df4); print(pd.merge(df3, df4))"
   ]
  },
  {
   "cell_type": "markdown",
   "id": "9d1959a9",
   "metadata": {},
   "source": [
    "The resulting DataFrame has an additional column with the “supervisor” information,\n",
    "where the information is repeated in one or more locations as required by the inputs."
   ]
  },
  {
   "cell_type": "markdown",
   "id": "e25816d6",
   "metadata": {},
   "source": [
    "##### Many-to-many joins"
   ]
  },
  {
   "cell_type": "markdown",
   "id": "7a88e5d6",
   "metadata": {},
   "source": [
    "Many-to-many joins are a bit confusing conceptually, but are nevertheless well\n",
    "defined. If the key column in both the left and right array contains duplicates, then\n",
    "the result is a many-to-many merge. This will be perhaps most clear with a concrete\n",
    "example. Consider the following, where we have a DataFrame showing one or more\n",
    "skills associated with a particular group."
   ]
  },
  {
   "cell_type": "markdown",
   "id": "dee0ae21",
   "metadata": {},
   "source": [
    "By performing a many-to-many join, we can recover the skills associated with any\n",
    "individual person:"
   ]
  },
  {
   "cell_type": "code",
   "execution_count": 7,
   "id": "da48415f",
   "metadata": {},
   "outputs": [
    {
     "name": "stdout",
     "output_type": "stream",
     "text": [
      "  employee        group\n",
      "0      Bob   Accounting\n",
      "1     Jake  Engineering\n",
      "2     Lisa  Engineering\n",
      "3      Sue           HR\n",
      "         group        skills\n",
      "0   Accounting          math\n",
      "1   Accounting  spreadsheets\n",
      "2  Engineering        coding\n",
      "3  Engineering         linux\n",
      "4           HR  spreadsheets\n",
      "5           HR  organization\n",
      "  employee        group        skills\n",
      "0      Bob   Accounting          math\n",
      "1      Bob   Accounting  spreadsheets\n",
      "2     Jake  Engineering        coding\n",
      "3     Jake  Engineering         linux\n",
      "4     Lisa  Engineering        coding\n",
      "5     Lisa  Engineering         linux\n",
      "6      Sue           HR  spreadsheets\n",
      "7      Sue           HR  organization\n"
     ]
    }
   ],
   "source": [
    "df5 = pd.DataFrame({'group': ['Accounting', 'Accounting',\n",
    "                                     'Engineering', 'Engineering', 'HR', 'HR'], 'skills': ['math', 'spreadsheets', 'coding', 'linux',\n",
    "                                      'spreadsheets', 'organization']})\n",
    "print(df1); print(df5); print(pd.merge(df1, df5))"
   ]
  },
  {
   "cell_type": "markdown",
   "id": "77bbbe71",
   "metadata": {},
   "source": [
    "These three types of joins can be used with other Pandas tools to implement a wide\n",
    "array of functionality. But in practice, datasets are rarely as clean as the one we’re\n",
    "working with here. In the following section, we’ll consider some of the options pro‐\n",
    "vided by pd.merge() that enable you to tune how the join operations work."
   ]
  },
  {
   "cell_type": "markdown",
   "id": "08c5070a",
   "metadata": {},
   "source": [
    "###### Specification of the Merge Key"
   ]
  },
  {
   "cell_type": "markdown",
   "id": "edc857be",
   "metadata": {},
   "source": [
    "We’ve already seen the default behavior of pd.merge(): it looks for one or more\n",
    "matching column names between the two inputs, and uses this as the key. However,\n",
    "often the column names will not match so nicely, and pd.merge() provides a variety\n",
    "of options for handling this."
   ]
  },
  {
   "cell_type": "markdown",
   "id": "1a018d36",
   "metadata": {},
   "source": [
    "##### The on keyword"
   ]
  },
  {
   "cell_type": "markdown",
   "id": "82272296",
   "metadata": {},
   "source": [
    "Most simply, you can explicitly specify the name of the key column using the on key‐\n",
    "word, which takes a column name or a list of column names:"
   ]
  },
  {
   "cell_type": "code",
   "execution_count": 8,
   "id": "33f1287e",
   "metadata": {},
   "outputs": [
    {
     "name": "stdout",
     "output_type": "stream",
     "text": [
      "  employee        group\n",
      "0      Bob   Accounting\n",
      "1     Jake  Engineering\n",
      "2     Lisa  Engineering\n",
      "3      Sue           HR\n",
      "  employee  hire_date\n",
      "0     Lisa       2004\n",
      "1      Bob       2008\n",
      "2     Jake       2012\n",
      "3      Sue       2014\n",
      "  employee        group  hire_date\n",
      "0      Bob   Accounting       2008\n",
      "1     Jake  Engineering       2012\n",
      "2     Lisa  Engineering       2004\n",
      "3      Sue           HR       2014\n"
     ]
    }
   ],
   "source": [
    "print(df1); print(df2); print(pd.merge(df1, df2, on='employee'))"
   ]
  },
  {
   "cell_type": "markdown",
   "id": "28e5eab6",
   "metadata": {},
   "source": [
    "This option works only if both the left and right DataFrames have the specified col‐\n",
    "umn name."
   ]
  },
  {
   "cell_type": "markdown",
   "id": "e13cffab",
   "metadata": {},
   "source": [
    "##### The left_on and right_on keywords"
   ]
  },
  {
   "cell_type": "markdown",
   "id": "6e5e45af",
   "metadata": {},
   "source": [
    "At times you may wish to merge two datasets with different column names; for exam‐\n",
    "ple, we may have a dataset in which the employee name is labeled as “name” rather\n",
    "than “employee”. In this case, we can use the left_on and right_on keywords to\n",
    "specify the two column names:"
   ]
  },
  {
   "cell_type": "code",
   "execution_count": 9,
   "id": "10e53a95",
   "metadata": {},
   "outputs": [
    {
     "name": "stdout",
     "output_type": "stream",
     "text": [
      "  employee        group\n",
      "0      Bob   Accounting\n",
      "1     Jake  Engineering\n",
      "2     Lisa  Engineering\n",
      "3      Sue           HR\n",
      "   name  salary\n",
      "0   Bob   70000\n",
      "1  Jake   80000\n",
      "2  Lisa  120000\n",
      "3   Sue   90000\n",
      "  employee        group  name  salary\n",
      "0      Bob   Accounting   Bob   70000\n",
      "1     Jake  Engineering  Jake   80000\n",
      "2     Lisa  Engineering  Lisa  120000\n",
      "3      Sue           HR   Sue   90000\n"
     ]
    }
   ],
   "source": [
    "df3 = pd.DataFrame({'name': ['Bob', 'Jake', 'Lisa', 'Sue'],\n",
    "                    'salary': [70000, 80000, 120000, 90000]})\n",
    "print(df1); print(df3);\n",
    "print(pd.merge(df1, df3, left_on=\"employee\", right_on=\"name\"))"
   ]
  },
  {
   "cell_type": "markdown",
   "id": "df9ee113",
   "metadata": {},
   "source": [
    "The result has a redundant column that we can drop if desired—for example, by\n",
    "using the drop() method of DataFrames:"
   ]
  },
  {
   "cell_type": "code",
   "execution_count": 10,
   "id": "e022e642",
   "metadata": {},
   "outputs": [
    {
     "data": {
      "text/html": [
       "<div>\n",
       "<style scoped>\n",
       "    .dataframe tbody tr th:only-of-type {\n",
       "        vertical-align: middle;\n",
       "    }\n",
       "\n",
       "    .dataframe tbody tr th {\n",
       "        vertical-align: top;\n",
       "    }\n",
       "\n",
       "    .dataframe thead th {\n",
       "        text-align: right;\n",
       "    }\n",
       "</style>\n",
       "<table border=\"1\" class=\"dataframe\">\n",
       "  <thead>\n",
       "    <tr style=\"text-align: right;\">\n",
       "      <th></th>\n",
       "      <th>employee</th>\n",
       "      <th>group</th>\n",
       "      <th>salary</th>\n",
       "    </tr>\n",
       "  </thead>\n",
       "  <tbody>\n",
       "    <tr>\n",
       "      <th>0</th>\n",
       "      <td>Bob</td>\n",
       "      <td>Accounting</td>\n",
       "      <td>70000</td>\n",
       "    </tr>\n",
       "    <tr>\n",
       "      <th>1</th>\n",
       "      <td>Jake</td>\n",
       "      <td>Engineering</td>\n",
       "      <td>80000</td>\n",
       "    </tr>\n",
       "    <tr>\n",
       "      <th>2</th>\n",
       "      <td>Lisa</td>\n",
       "      <td>Engineering</td>\n",
       "      <td>120000</td>\n",
       "    </tr>\n",
       "    <tr>\n",
       "      <th>3</th>\n",
       "      <td>Sue</td>\n",
       "      <td>HR</td>\n",
       "      <td>90000</td>\n",
       "    </tr>\n",
       "  </tbody>\n",
       "</table>\n",
       "</div>"
      ],
      "text/plain": [
       "  employee        group  salary\n",
       "0      Bob   Accounting   70000\n",
       "1     Jake  Engineering   80000\n",
       "2     Lisa  Engineering  120000\n",
       "3      Sue           HR   90000"
      ]
     },
     "execution_count": 10,
     "metadata": {},
     "output_type": "execute_result"
    }
   ],
   "source": [
    "pd.merge(df1, df3, left_on=\"employee\", right_on=\"name\").drop('name', axis=1)"
   ]
  },
  {
   "cell_type": "markdown",
   "id": "de5223fc",
   "metadata": {},
   "source": [
    "##### The left_index and right_index keywords"
   ]
  },
  {
   "cell_type": "markdown",
   "id": "5b37a365",
   "metadata": {},
   "source": [
    "Sometimes, rather than merging on a column, you would instead like to merge on an\n",
    "index. For example, your data might look like this:"
   ]
  },
  {
   "cell_type": "code",
   "execution_count": 11,
   "id": "7440bdf5",
   "metadata": {},
   "outputs": [
    {
     "name": "stdout",
     "output_type": "stream",
     "text": [
      "                group\n",
      "employee             \n",
      "Bob        Accounting\n",
      "Jake      Engineering\n",
      "Lisa      Engineering\n",
      "Sue                HR\n",
      "          hire_date\n",
      "employee           \n",
      "Lisa           2004\n",
      "Bob            2008\n",
      "Jake           2012\n",
      "Sue            2014\n"
     ]
    }
   ],
   "source": [
    "df1a = df1.set_index('employee')\n",
    "df2a = df2.set_index('employee')\n",
    "print(df1a); print(df2a)"
   ]
  },
  {
   "cell_type": "markdown",
   "id": "1d40cb59",
   "metadata": {},
   "source": [
    "You can use the index as the key for merging by specifying the left_index and/or\n",
    "right_index flags in pd.merge():"
   ]
  },
  {
   "cell_type": "code",
   "execution_count": 12,
   "id": "ee144ee5",
   "metadata": {},
   "outputs": [
    {
     "name": "stdout",
     "output_type": "stream",
     "text": [
      "                group\n",
      "employee             \n",
      "Bob        Accounting\n",
      "Jake      Engineering\n",
      "Lisa      Engineering\n",
      "Sue                HR\n",
      "          hire_date\n",
      "employee           \n",
      "Lisa           2004\n",
      "Bob            2008\n",
      "Jake           2012\n",
      "Sue            2014\n",
      "                group  hire_date\n",
      "employee                        \n",
      "Bob        Accounting       2008\n",
      "Jake      Engineering       2012\n",
      "Lisa      Engineering       2004\n",
      "Sue                HR       2014\n"
     ]
    }
   ],
   "source": [
    "print(df1a); print(df2a);\n",
    "print(pd.merge(df1a, df2a, left_index=True, right_index=True))"
   ]
  },
  {
   "cell_type": "markdown",
   "id": "c3ccedcd",
   "metadata": {},
   "source": [
    "For convenience, DataFrames implement the join() method, which performs a\n",
    "merge that defaults to joining on indices:"
   ]
  },
  {
   "cell_type": "code",
   "execution_count": 13,
   "id": "51f71dbb",
   "metadata": {},
   "outputs": [
    {
     "name": "stdout",
     "output_type": "stream",
     "text": [
      "                group\n",
      "employee             \n",
      "Bob        Accounting\n",
      "Jake      Engineering\n",
      "Lisa      Engineering\n",
      "Sue                HR\n",
      "          hire_date\n",
      "employee           \n",
      "Lisa           2004\n",
      "Bob            2008\n",
      "Jake           2012\n",
      "Sue            2014\n",
      "                group  hire_date\n",
      "employee                        \n",
      "Bob        Accounting       2008\n",
      "Jake      Engineering       2012\n",
      "Lisa      Engineering       2004\n",
      "Sue                HR       2014\n"
     ]
    }
   ],
   "source": [
    "print(df1a); print(df2a); print(df1a.join(df2a))"
   ]
  },
  {
   "cell_type": "markdown",
   "id": "e305693f",
   "metadata": {},
   "source": [
    "##### Specifying Set Arithmetic for Joins"
   ]
  },
  {
   "cell_type": "markdown",
   "id": "c805f091",
   "metadata": {},
   "source": [
    "In all the preceding examples we have glossed over one important consideration in\n",
    "performing a join: the type of set arithmetic used in the join. This comes up when a\n",
    "value appears in one key column but not the other. Consider this example:"
   ]
  },
  {
   "cell_type": "code",
   "execution_count": 14,
   "id": "8fb7e3b9",
   "metadata": {},
   "outputs": [
    {
     "name": "stdout",
     "output_type": "stream",
     "text": [
      "    name   food\n",
      "0  Peter   fish\n",
      "1   Paul  beans\n",
      "2   Mary  bread\n",
      "     name drink\n",
      "0    Mary  wine\n",
      "1  Joseph  beer\n",
      "   name   food drink\n",
      "0  Mary  bread  wine\n"
     ]
    }
   ],
   "source": [
    " df6 = pd.DataFrame({'name': ['Peter', 'Paul', 'Mary'],\n",
    "                            'food': ['fish', 'beans', 'bread']},\n",
    "                           columns=['name', 'food'])\n",
    "df7 = pd.DataFrame({'name': ['Mary', 'Joseph'],\n",
    "                            'drink': ['wine', 'beer']},\n",
    "                           columns=['name', 'drink'])\n",
    "print(df6); print(df7); print(pd.merge(df6, df7))"
   ]
  },
  {
   "cell_type": "markdown",
   "id": "c2d3a69d",
   "metadata": {},
   "source": [
    "Here we have merged two datasets that have only a single “name” entry in common:\n",
    "Mary. By default, the result contains the intersection of the two sets of inputs; this is\n",
    "what is known as an inner join. We can specify this explicitly using the how keyword,\n",
    "which defaults to 'inner':"
   ]
  },
  {
   "cell_type": "code",
   "execution_count": 15,
   "id": "bf270e93",
   "metadata": {},
   "outputs": [
    {
     "data": {
      "text/html": [
       "<div>\n",
       "<style scoped>\n",
       "    .dataframe tbody tr th:only-of-type {\n",
       "        vertical-align: middle;\n",
       "    }\n",
       "\n",
       "    .dataframe tbody tr th {\n",
       "        vertical-align: top;\n",
       "    }\n",
       "\n",
       "    .dataframe thead th {\n",
       "        text-align: right;\n",
       "    }\n",
       "</style>\n",
       "<table border=\"1\" class=\"dataframe\">\n",
       "  <thead>\n",
       "    <tr style=\"text-align: right;\">\n",
       "      <th></th>\n",
       "      <th>name</th>\n",
       "      <th>food</th>\n",
       "      <th>drink</th>\n",
       "    </tr>\n",
       "  </thead>\n",
       "  <tbody>\n",
       "    <tr>\n",
       "      <th>0</th>\n",
       "      <td>Mary</td>\n",
       "      <td>bread</td>\n",
       "      <td>wine</td>\n",
       "    </tr>\n",
       "  </tbody>\n",
       "</table>\n",
       "</div>"
      ],
      "text/plain": [
       "   name   food drink\n",
       "0  Mary  bread  wine"
      ]
     },
     "execution_count": 15,
     "metadata": {},
     "output_type": "execute_result"
    }
   ],
   "source": [
    "pd.merge(df6, df7, how='inner')"
   ]
  },
  {
   "cell_type": "markdown",
   "id": "41cfcb77",
   "metadata": {},
   "source": [
    "Other options for the how keyword are 'outer', 'left', and 'right'. An outer join\n",
    "returns a join over the union of the input columns, and fills in all missing values with\n",
    "NAs:"
   ]
  },
  {
   "cell_type": "code",
   "execution_count": 16,
   "id": "41c45a06",
   "metadata": {},
   "outputs": [
    {
     "name": "stdout",
     "output_type": "stream",
     "text": [
      "    name   food\n",
      "0  Peter   fish\n",
      "1   Paul  beans\n",
      "2   Mary  bread\n",
      "     name drink\n",
      "0    Mary  wine\n",
      "1  Joseph  beer\n",
      "     name   food drink\n",
      "0   Peter   fish   NaN\n",
      "1    Paul  beans   NaN\n",
      "2    Mary  bread  wine\n",
      "3  Joseph    NaN  beer\n"
     ]
    }
   ],
   "source": [
    "print(df6); print(df7); print(pd.merge(df6, df7, how='outer'))"
   ]
  },
  {
   "cell_type": "markdown",
   "id": "87a59936",
   "metadata": {},
   "source": [
    "##### Overlapping Column Names: The suffixes Keyword"
   ]
  },
  {
   "cell_type": "markdown",
   "id": "b3eb749a",
   "metadata": {},
   "source": [
    "Finally, you may end up in a case where your two input DataFrames have conflicting\n",
    "column names. Consider this example:"
   ]
  },
  {
   "cell_type": "code",
   "execution_count": 17,
   "id": "ce41fe41",
   "metadata": {},
   "outputs": [
    {
     "name": "stdout",
     "output_type": "stream",
     "text": [
      "   name  rank\n",
      "0   Bob     1\n",
      "1  Jake     2\n",
      "2  Lisa     3\n",
      "3   Sue     4\n",
      "   name  rank\n",
      "0   Bob     3\n",
      "1  Jake     1\n",
      "2  Lisa     4\n",
      "3   Sue     2\n",
      "   name  rank_x  rank_y\n",
      "0   Bob       1       3\n",
      "1  Jake       2       1\n",
      "2  Lisa       3       4\n",
      "3   Sue       4       2\n"
     ]
    }
   ],
   "source": [
    "df8 = pd.DataFrame({'name': ['Bob', 'Jake', 'Lisa', 'Sue'],\n",
    "                            'rank': [1, 2, 3, 4]})\n",
    "df9 = pd.DataFrame({'name': ['Bob', 'Jake', 'Lisa', 'Sue'],\n",
    "                            'rank': [3, 1, 4, 2]})\n",
    "print(df8); print(df9); print(pd.merge(df8, df9, on=\"name\"))"
   ]
  },
  {
   "cell_type": "markdown",
   "id": "5c875cd2",
   "metadata": {},
   "source": [
    "Because the output would have two conflicting column names, the merge function\n",
    "automatically appends a suffix _x or _y to make the output columns unique. If these\n",
    "defaults are inappropriate, it is possible to specify a custom suffix using the suffixes\n",
    "keyword:"
   ]
  },
  {
   "cell_type": "code",
   "execution_count": 18,
   "id": "b290b6c1",
   "metadata": {},
   "outputs": [
    {
     "name": "stdout",
     "output_type": "stream",
     "text": [
      "   name  rank\n",
      "0   Bob     1\n",
      "1  Jake     2\n",
      "2  Lisa     3\n",
      "3   Sue     4\n",
      "   name  rank\n",
      "0   Bob     3\n",
      "1  Jake     1\n",
      "2  Lisa     4\n",
      "3   Sue     2\n",
      "   name  rank_L  rank_R\n",
      "0   Bob       1       3\n",
      "1  Jake       2       1\n",
      "2  Lisa       3       4\n",
      "3   Sue       4       2\n"
     ]
    }
   ],
   "source": [
    "print(df8); print(df9);\n",
    "print(pd.merge(df8, df9, on=\"name\", suffixes=[\"_L\", \"_R\"]))"
   ]
  },
  {
   "cell_type": "markdown",
   "id": "cdecba58",
   "metadata": {},
   "source": [
    "These suffixes work in any of the possible join patterns, and work also if there are\n",
    "multiple overlapping columns."
   ]
  },
  {
   "cell_type": "code",
   "execution_count": null,
   "id": "f43c6661",
   "metadata": {},
   "outputs": [],
   "source": []
  }
 ],
 "metadata": {
  "kernelspec": {
   "display_name": "Python 3 (ipykernel)",
   "language": "python",
   "name": "python3"
  },
  "language_info": {
   "codemirror_mode": {
    "name": "ipython",
    "version": 3
   },
   "file_extension": ".py",
   "mimetype": "text/x-python",
   "name": "python",
   "nbconvert_exporter": "python",
   "pygments_lexer": "ipython3",
   "version": "3.9.7"
  }
 },
 "nbformat": 4,
 "nbformat_minor": 5
}
