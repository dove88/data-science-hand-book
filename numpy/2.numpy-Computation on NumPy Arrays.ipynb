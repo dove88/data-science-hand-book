{
 "cells": [
  {
   "cell_type": "code",
   "execution_count": 1,
   "id": "c4a2124e",
   "metadata": {},
   "outputs": [],
   "source": [
    "import numpy as np"
   ]
  },
  {
   "cell_type": "code",
   "execution_count": 2,
   "id": "ffa2440d",
   "metadata": {},
   "outputs": [
    {
     "data": {
      "text/plain": [
       "'1.21.2'"
      ]
     },
     "execution_count": 2,
     "metadata": {},
     "output_type": "execute_result"
    }
   ],
   "source": [
    "np.__version__"
   ]
  },
  {
   "cell_type": "markdown",
   "id": "7e06a6fc",
   "metadata": {},
   "source": [
    "##### Points to notify\n",
    "\n",
    "\n",
    "- slowness of loops\n",
    "- exploring u functions\n",
    "    - array arithemetic\n",
    "    - trignometric functions\n",
    "    - explonents and logerithms\n",
    "- advanced u functions\n",
    "    - specifiying outputs\n",
    "    - aggregates\n",
    "    - outer products"
   ]
  },
  {
   "cell_type": "markdown",
   "id": "eaabdf8f",
   "metadata": {},
   "source": [
    "##### Computation on NumPy Arrays: Universal Functions"
   ]
  },
  {
   "cell_type": "markdown",
   "id": "2e9a6d52",
   "metadata": {},
   "source": [
    "Up until now, we have been discussing some of the basic nuts and bolts of NumPy; in\n",
    "the next few sections, we will dive into the reasons that NumPy is so important in the\n",
    "Python data science world. Namely, it provides an easy and flexible interface to opti‐\n",
    "mized computation with arrays of data. <br>\n",
    "\n",
    "Computation on NumPy arrays can be very fast, or it can be very slow. The key to\n",
    "making it fast is to use vectorized operations, generally implemented through Num‐\n",
    "Py’s universal functions (ufuncs). This section motivates the need for NumPy’s ufuncs,\n",
    "which can be used to make repeated calculations on array elements much more effi‐\n",
    "cient. It then introduces many of the most common and useful arithmetic ufuncs\n",
    "available in the NumPy package."
   ]
  },
  {
   "cell_type": "markdown",
   "id": "df7ee342",
   "metadata": {},
   "source": [
    "##### The Slowness of Loops"
   ]
  },
  {
   "cell_type": "markdown",
   "id": "17d11e9e",
   "metadata": {},
   "source": [
    "Python’s default implementation (known as CPython) does some operations very\n",
    "slowly. This is in part due to the dynamic, interpreted nature of the language: the fact\n",
    "that types are flexible, so that sequences of operations cannot be compiled down to\n",
    "efficient machine code as in languages like C and Fortran. Recently there have been\n",
    "various attempts to address this weakness: well-known examples are the PyPy project,\n",
    "a just-in-time compiled implementation of Python; the Cython project, which con‐\n",
    "verts Python code to compilable C code; and the Numba project, which converts\n",
    "snippets of Python code to fast LLVM bytecode. Each of these has its strengths and\n",
    "weaknesses, but it is safe to say that none of the three approaches has yet surpassed\n",
    "the reach and popularity of the standard CPython engine."
   ]
  },
  {
   "cell_type": "markdown",
   "id": "032cf5cb",
   "metadata": {},
   "source": [
    "The relative sluggishness of Python generally manifests itself in situations where\n",
    "many small operations are being repeated for instance, looping over arrays to oper\n",
    "ate on each element. For example, imagine we have an array of values and we’d like to\n",
    "compute the reciprocal of each. A straightforward approach might look like this:"
   ]
  },
  {
   "cell_type": "code",
   "execution_count": 3,
   "id": "0a9a6413",
   "metadata": {},
   "outputs": [
    {
     "data": {
      "text/plain": [
       "array([0.16666667, 1.        , 0.25      , 0.25      , 0.125     ])"
      ]
     },
     "execution_count": 3,
     "metadata": {},
     "output_type": "execute_result"
    }
   ],
   "source": [
    "np.random.seed(0)\n",
    "def compute_reciprocals(values):\n",
    "    output = np.empty(len(values))\n",
    "    for i in range(len(values)):\n",
    "        output[i] = 1.0 / values[i]\n",
    "    return output\n",
    "values = np.random.randint(1, 10, size=5)\n",
    "compute_reciprocals(values)"
   ]
  },
  {
   "cell_type": "markdown",
   "id": "9f7116e3",
   "metadata": {},
   "source": [
    "This implementation probably feels fairly natural to someone from, say, a C or Java\n",
    "background. But if we measure the execution time of this code for a large input, we\n",
    "see that this operation is very slow, perhaps surprisingly so! We’ll benchmark this"
   ]
  },
  {
   "cell_type": "code",
   "execution_count": 4,
   "id": "5967534f",
   "metadata": {},
   "outputs": [
    {
     "name": "stdout",
     "output_type": "stream",
     "text": [
      "2.23 s ± 65.3 ms per loop (mean ± std. dev. of 7 runs, 1 loop each)\n"
     ]
    }
   ],
   "source": [
    "big_array = np.random.randint(1, 100, size=1000000)\n",
    "%timeit compute_reciprocals(big_array)"
   ]
  },
  {
   "cell_type": "markdown",
   "id": "b385e765",
   "metadata": {},
   "source": [
    "It takes several seconds to compute these million operations and to store the result!\n",
    "When even cell phones have processing speeds measured in Giga-FLOPS (i.e., bil‐\n",
    "lions of numerical operations per second), this seems almost absurdly slow. It turns\n",
    "out that the bottleneck here is not the operations themselves, but the type-checking\n",
    "and function dispatches that CPython must do at each cycle of the loop. Each time\n",
    "the reciprocal is computed, Python first examines the object’s type and does a\n",
    "dynamic lookup of the correct function to use for that type. If we were working in\n",
    "compiled code instead, this type specification would be known before the code exe‐\n",
    "cutes and the result could be computed much more efficiently."
   ]
  },
  {
   "cell_type": "markdown",
   "id": "65b0e1a4",
   "metadata": {},
   "source": [
    "##### Introducing UFuncs"
   ]
  },
  {
   "cell_type": "markdown",
   "id": "97986801",
   "metadata": {},
   "source": [
    "For many types of operations, NumPy provides a convenient interface into just this\n",
    "kind of statically typed, compiled routine. This is known as a vectorized operation.\n",
    "You can accomplish this by simply performing an operation on the array, which will\n",
    "then be applied to each element. This vectorized approach is designed to push the\n",
    "loop into the compiled layer that underlies NumPy, leading to much faster execution."
   ]
  },
  {
   "cell_type": "code",
   "execution_count": 19,
   "id": "b50fff84",
   "metadata": {},
   "outputs": [
    {
     "data": {
      "text/plain": [
       "array([0.        , 0.5       , 0.66666667, 0.75      , 0.8       ,\n",
       "       0.83333333, 0.85714286, 0.875     , 0.88888889, 0.9       ])"
      ]
     },
     "execution_count": 19,
     "metadata": {},
     "output_type": "execute_result"
    }
   ],
   "source": [
    "np.arange(10)/np.arange(1,11) # should have same size"
   ]
  },
  {
   "cell_type": "markdown",
   "id": "0d31bcb5",
   "metadata": {},
   "source": [
    "And ufunc operations are not limited to one-dimensional arrays—they can act on\n",
    "multidimensional arrays as well:"
   ]
  },
  {
   "cell_type": "code",
   "execution_count": 20,
   "id": "1682386d",
   "metadata": {},
   "outputs": [
    {
     "data": {
      "text/plain": [
       "array([[  1,   2,   4],\n",
       "       [  8,  16,  32],\n",
       "       [ 64, 128, 256]], dtype=int32)"
      ]
     },
     "execution_count": 20,
     "metadata": {},
     "output_type": "execute_result"
    }
   ],
   "source": [
    "x = np.arange(9).reshape((3, 3))\n",
    "2 ** x"
   ]
  },
  {
   "cell_type": "markdown",
   "id": "61775314",
   "metadata": {},
   "source": [
    "Computations using vectorization through ufuncs are nearly always more efficient\n",
    "than their counterpart implemented through Python loops, especially as the arrays\n",
    "grow in size. Any time you see such a loop in a Python script, you should consider\n",
    "whether it can be replaced with a vectorized expression."
   ]
  },
  {
   "cell_type": "markdown",
   "id": "f25e29a5",
   "metadata": {},
   "source": [
    "##### Exploring NumPy’s UFuncs"
   ]
  },
  {
   "cell_type": "markdown",
   "id": "e07d143f",
   "metadata": {},
   "source": [
    "Ufuncs exist in two flavors: unary ufuncs, which operate on a single input, and binary\n",
    "ufuncs, which operate on two inputs. We’ll see examples of both these types of func‐\n",
    "tions here."
   ]
  },
  {
   "cell_type": "markdown",
   "id": "6b61e8ed",
   "metadata": {},
   "source": [
    "##### Array arithmetic"
   ]
  },
  {
   "cell_type": "markdown",
   "id": "d4415fcb",
   "metadata": {},
   "source": [
    "NumPy’s ufuncs feel very natural to use because they make use of Python’s native\n",
    "arithmetic operators. The standard addition, subtraction, multiplication, and division\n",
    "can all be used:"
   ]
  },
  {
   "cell_type": "code",
   "execution_count": 21,
   "id": "1d5368bd",
   "metadata": {},
   "outputs": [
    {
     "name": "stdout",
     "output_type": "stream",
     "text": [
      "x =  [0 1 2 3 4 5 6 7 8 9]\n",
      "x+4 =  [ 4  5  6  7  8  9 10 11 12 13]\n",
      "x-4 =  [-4 -3 -2 -1  0  1  2  3  4  5]\n",
      "x*4 =  [ 0  4  8 12 16 20 24 28 32 36]\n",
      "x/4 =  [0.   0.25 0.5  0.75 1.   1.25 1.5  1.75 2.   2.25]\n"
     ]
    }
   ],
   "source": [
    "x = np.arange(10)\n",
    "print(\"x = \", x)\n",
    "print(\"x+4 = \", x+4)\n",
    "print(\"x-4 = \", x-4)\n",
    "print(\"x*4 = \", x*4)\n",
    "print(\"x/4 = \", x/4)"
   ]
  },
  {
   "cell_type": "markdown",
   "id": "eeefcbeb",
   "metadata": {},
   "source": [
    "There is also a unary ufunc for negation, a ** operator for exponentiation, and a %\n",
    "operator for modulus:"
   ]
  },
  {
   "cell_type": "code",
   "execution_count": 23,
   "id": "d2bc0138",
   "metadata": {},
   "outputs": [
    {
     "name": "stdout",
     "output_type": "stream",
     "text": [
      "x ** 4 =  [   0    1   16   81  256  625 1296 2401 4096 6561]\n",
      "x % 4 =  [0 1 2 3 0 1 2 3 0 1]\n"
     ]
    }
   ],
   "source": [
    "print(\"x ** 4 = \", x**4)\n",
    "print(\"x % 4 = \", x%4)"
   ]
  },
  {
   "cell_type": "markdown",
   "id": "b520f402",
   "metadata": {},
   "source": [
    "All of these arithmetic operations are simply convenient wrappers around specific\n",
    "functions built into NumPy; for example, the + operator is a wrapper for the add\n",
    "function:"
   ]
  },
  {
   "cell_type": "code",
   "execution_count": 24,
   "id": "fa3f5165",
   "metadata": {},
   "outputs": [
    {
     "data": {
      "text/plain": [
       "array([ 4,  5,  6,  7,  8,  9, 10, 11, 12, 13])"
      ]
     },
     "execution_count": 24,
     "metadata": {},
     "output_type": "execute_result"
    }
   ],
   "source": [
    "np.add(x,4)"
   ]
  },
  {
   "cell_type": "markdown",
   "id": "f6d1a16f",
   "metadata": {},
   "source": [
    "+ \n",
    "np.add\n",
    "Addition (e.g., 1 + 1 = 2)\n",
    "-\n",
    "np.subtract\n",
    "Subtraction (e.g., 3 - 2 = 1)\n",
    "-\n",
    "np.negative\n",
    "Unary negation (e.g., -2)\n",
    "*\n",
    "np.multiply\n",
    "Multiplication (e.g., 2 * 3 = 6)\n",
    "/\n",
    "np.divide\n",
    "Division (e.g., 3 / 2 = 1.5)\n",
    "//\n",
    "np.floor_divide Floor division (e.g., 3 // 2 = 1)\n",
    "**\n",
    "np.power\n",
    "Exponentiation (e.g., 2 ** 3 = 8)\n",
    "%\n",
    "np.mod\n",
    "Modulus/remainder (e.g., 9 % 4 = 1)"
   ]
  },
  {
   "cell_type": "markdown",
   "id": "2d863725",
   "metadata": {},
   "source": [
    "##### Trigonometric functions"
   ]
  },
  {
   "cell_type": "markdown",
   "id": "2ab84db4",
   "metadata": {},
   "source": [
    "NumPy provides a large number of useful ufuncs, and some of the most useful for the\n",
    "data scientist are the trigonometric functions. We’ll start by defining an array of\n",
    "angles:"
   ]
  },
  {
   "cell_type": "code",
   "execution_count": 25,
   "id": "79ab8dc3",
   "metadata": {},
   "outputs": [],
   "source": [
    "theta = np.linspace(0, np.pi, 3)"
   ]
  },
  {
   "cell_type": "markdown",
   "id": "e4901ca2",
   "metadata": {},
   "source": [
    "Now we can compute some trigonometric functions on these values:"
   ]
  },
  {
   "cell_type": "code",
   "execution_count": 26,
   "id": "9ab0aaa5",
   "metadata": {},
   "outputs": [
    {
     "name": "stdout",
     "output_type": "stream",
     "text": [
      "theta      =  [0.         1.57079633 3.14159265]\n",
      "sin(theta) =  [0.0000000e+00 1.0000000e+00 1.2246468e-16]\n",
      "cos(theta) =  [ 1.000000e+00  6.123234e-17 -1.000000e+00]\n",
      "tan(theta) =  [ 0.00000000e+00  1.63312394e+16 -1.22464680e-16]\n"
     ]
    }
   ],
   "source": [
    "print(\"theta      = \", theta)\n",
    "print(\"sin(theta) = \", np.sin(theta))\n",
    "print(\"cos(theta) = \", np.cos(theta))\n",
    "print(\"tan(theta) = \", np.tan(theta))"
   ]
  },
  {
   "cell_type": "markdown",
   "id": "7e7f98e1",
   "metadata": {},
   "source": [
    "The values are computed to within machine precision, which is why values that\n",
    "should be zero do not always hit exactly zero. Inverse trigonometric functions are also\n",
    "available:"
   ]
  },
  {
   "cell_type": "code",
   "execution_count": 27,
   "id": "410f434a",
   "metadata": {},
   "outputs": [
    {
     "name": "stdout",
     "output_type": "stream",
     "text": [
      "x         =  [-1, 0, 1]\n",
      "arcsin(x) =  [-1.57079633  0.          1.57079633]\n",
      "arccos(x) =  [3.14159265 1.57079633 0.        ]\n",
      "arctan(x) =  [-0.78539816  0.          0.78539816]\n"
     ]
    }
   ],
   "source": [
    "x = [-1, 0, 1]\n",
    "print(\"x         = \", x)\n",
    "print(\"arcsin(x) = \", np.arcsin(x))\n",
    "print(\"arccos(x) = \", np.arccos(x))\n",
    "print(\"arctan(x) = \", np.arctan(x))"
   ]
  },
  {
   "cell_type": "markdown",
   "id": "93f541f8",
   "metadata": {},
   "source": [
    "##### Exponents and logarithms"
   ]
  },
  {
   "cell_type": "markdown",
   "id": "08643252",
   "metadata": {},
   "source": [
    "Another common type of operation available in a NumPy ufunc are the exponentials:"
   ]
  },
  {
   "cell_type": "code",
   "execution_count": 28,
   "id": "48158e68",
   "metadata": {},
   "outputs": [
    {
     "name": "stdout",
     "output_type": "stream",
     "text": [
      "x     = [1, 2, 3]\n",
      "e^x   = [ 2.71828183  7.3890561  20.08553692]\n",
      "2^x   = [2. 4. 8.]\n",
      "3^x   = [ 3  9 27]\n"
     ]
    }
   ],
   "source": [
    "x = [1, 2, 3]\n",
    "print(\"x     =\", x)\n",
    "print(\"e^x   =\", np.exp(x))\n",
    "print(\"2^x   =\", np.exp2(x))\n",
    "print(\"3^x   =\", np.power(3, x))"
   ]
  },
  {
   "cell_type": "markdown",
   "id": "a2c4b742",
   "metadata": {},
   "source": [
    "The inverse of the exponentials, the logarithms, are also available. The basic np.log\n",
    "gives the natural logarithm; if you prefer to compute the base-2 logarithm or the\n",
    "base-10 logarithm, these are available as well:"
   ]
  },
  {
   "cell_type": "code",
   "execution_count": 29,
   "id": "8d9ec351",
   "metadata": {},
   "outputs": [
    {
     "name": "stdout",
     "output_type": "stream",
     "text": [
      "x        = [1, 2, 4, 10]\n",
      "ln(x)    = [0.         0.69314718 1.38629436 2.30258509]\n",
      "log2(x)  = [0.         1.         2.         3.32192809]\n",
      "log10(x) = [0.         0.30103    0.60205999 1.        ]\n"
     ]
    }
   ],
   "source": [
    " x = [1, 2, 4, 10]\n",
    "print(\"x        =\", x)\n",
    "print(\"ln(x)    =\", np.log(x))\n",
    "print(\"log2(x)  =\", np.log2(x))\n",
    "print(\"log10(x) =\", np.log10(x))"
   ]
  },
  {
   "cell_type": "markdown",
   "id": "25f92131",
   "metadata": {},
   "source": [
    "There are also some specialized versions that are useful for maintaining precision\n",
    "with very small input:"
   ]
  },
  {
   "cell_type": "code",
   "execution_count": 30,
   "id": "633a5d83",
   "metadata": {},
   "outputs": [
    {
     "name": "stdout",
     "output_type": "stream",
     "text": [
      "exp(x) - 1 = [0.         0.0010005  0.01005017 0.10517092]\n",
      "log(1 + x) = [0.         0.0009995  0.00995033 0.09531018]\n"
     ]
    }
   ],
   "source": [
    "x = [0, 0.001, 0.01, 0.1]\n",
    "print(\"exp(x) - 1 =\", np.expm1(x))\n",
    "print(\"log(1 + x) =\", np.log1p(x))"
   ]
  },
  {
   "cell_type": "markdown",
   "id": "0c543a14",
   "metadata": {},
   "source": [
    "When x is very small, these functions give more precise values than if the raw np.log\n",
    "or np.exp were used."
   ]
  },
  {
   "cell_type": "markdown",
   "id": "b08379ba",
   "metadata": {},
   "source": [
    "##### Advanced Ufunc Features"
   ]
  },
  {
   "cell_type": "markdown",
   "id": "5cf37d7f",
   "metadata": {},
   "source": [
    "Many NumPy users make use of ufuncs without ever learning their full set of features.\n",
    "We’ll outline a few specialized features of ufuncs here."
   ]
  },
  {
   "cell_type": "markdown",
   "id": "354a322b",
   "metadata": {},
   "source": [
    "##### Specifying output"
   ]
  },
  {
   "cell_type": "markdown",
   "id": "2a30b11d",
   "metadata": {},
   "source": [
    "For large calculations, it is sometimes useful to be able to specify the array where the\n",
    "result of the calculation will be stored. Rather than creating a temporary array, you\n",
    "can use this to write computation results directly to the memory location where you’d \n",
    "like them to be. For all ufuncs, you can do this using the out argument of the\n",
    "function:"
   ]
  },
  {
   "cell_type": "code",
   "execution_count": 33,
   "id": "046773b3",
   "metadata": {},
   "outputs": [
    {
     "data": {
      "text/plain": [
       "array([ 0, 10, 20, 30, 40, 50, 60, 70, 80, 90])"
      ]
     },
     "execution_count": 33,
     "metadata": {},
     "output_type": "execute_result"
    }
   ],
   "source": [
    "x = np.arange(10)\n",
    "np.multiply(x, 10)"
   ]
  },
  {
   "cell_type": "code",
   "execution_count": 34,
   "id": "cb57d3c5",
   "metadata": {},
   "outputs": [
    {
     "data": {
      "text/plain": [
       "array([10, 11, 12, 13, 14, 15, 16, 17, 18, 19])"
      ]
     },
     "execution_count": 34,
     "metadata": {},
     "output_type": "execute_result"
    }
   ],
   "source": [
    "np.add(x,10)"
   ]
  },
  {
   "cell_type": "code",
   "execution_count": 35,
   "id": "e9813246",
   "metadata": {},
   "outputs": [
    {
     "data": {
      "text/plain": [
       "array([0. , 0.1, 0.2, 0.3, 0.4, 0.5, 0.6, 0.7, 0.8, 0.9])"
      ]
     },
     "execution_count": 35,
     "metadata": {},
     "output_type": "execute_result"
    }
   ],
   "source": [
    "np.divide(x, 10)"
   ]
  },
  {
   "cell_type": "markdown",
   "id": "9c581e16",
   "metadata": {},
   "source": [
    "This can even be used with array views. For example, we can write the results of a\n",
    "computation to every other element of a specified array:"
   ]
  },
  {
   "cell_type": "code",
   "execution_count": 40,
   "id": "ee23da26",
   "metadata": {},
   "outputs": [
    {
     "name": "stdout",
     "output_type": "stream",
     "text": [
      "[ 1.  0.  2.  0.  4.  0.  8.  0. 16.  0.]\n"
     ]
    }
   ],
   "source": [
    "y = np.zeros(10)\n",
    "np.power(2, np.arange(5), out=y[::2])\n",
    "print(y)"
   ]
  },
  {
   "cell_type": "markdown",
   "id": "42079259",
   "metadata": {},
   "source": [
    "##### Aggregates"
   ]
  },
  {
   "cell_type": "markdown",
   "id": "72ebb649",
   "metadata": {},
   "source": [
    "For binary ufuncs, there are some interesting aggregates that can be computed\n",
    "directly from the object. For example, if we’d like to reduce an array with a particular\n",
    "operation, we can use the reduce method of any ufunc. A reduce repeatedly applies a\n",
    "given operation to the elements of an array until only a single result remains. <br>\n",
    "\n",
    "For example, calling reduce on the add ufunc returns the sum of all elements in the\n"
   ]
  },
  {
   "cell_type": "code",
   "execution_count": 42,
   "id": "b612cfd3",
   "metadata": {},
   "outputs": [
    {
     "data": {
      "text/plain": [
       "15"
      ]
     },
     "execution_count": 42,
     "metadata": {},
     "output_type": "execute_result"
    }
   ],
   "source": [
    "x = np.arange(1, 6)\n",
    "np.add.reduce(x)"
   ]
  },
  {
   "cell_type": "code",
   "execution_count": 43,
   "id": "c57de84f",
   "metadata": {},
   "outputs": [
    {
     "data": {
      "text/plain": [
       "120"
      ]
     },
     "execution_count": 43,
     "metadata": {},
     "output_type": "execute_result"
    }
   ],
   "source": [
    "np.multiply.reduce(x)"
   ]
  },
  {
   "cell_type": "code",
   "execution_count": 44,
   "id": "f2727c34",
   "metadata": {},
   "outputs": [
    {
     "data": {
      "text/plain": [
       "array([ 1,  3,  6, 10, 15], dtype=int32)"
      ]
     },
     "execution_count": 44,
     "metadata": {},
     "output_type": "execute_result"
    }
   ],
   "source": [
    "np.add.accumulate(x)"
   ]
  },
  {
   "cell_type": "code",
   "execution_count": 45,
   "id": "990d9b5e",
   "metadata": {},
   "outputs": [
    {
     "data": {
      "text/plain": [
       "array([  1,   2,   6,  24, 120], dtype=int32)"
      ]
     },
     "execution_count": 45,
     "metadata": {},
     "output_type": "execute_result"
    }
   ],
   "source": [
    "np.multiply.accumulate(x)"
   ]
  },
  {
   "cell_type": "markdown",
   "id": "52ac42cb",
   "metadata": {},
   "source": [
    "##### Outer products"
   ]
  },
  {
   "cell_type": "markdown",
   "id": "45952e74",
   "metadata": {},
   "source": [
    "Finally, any ufunc can compute the output of all pairs of two different inputs using\n",
    "the outer method. This allows you, in one line, to do things like create a multiplica‐\n",
    "tion table:"
   ]
  },
  {
   "cell_type": "code",
   "execution_count": 46,
   "id": "af9775d1",
   "metadata": {},
   "outputs": [
    {
     "data": {
      "text/plain": [
       "array([[ 1,  2,  3,  4,  5],\n",
       "       [ 2,  4,  6,  8, 10],\n",
       "       [ 3,  6,  9, 12, 15],\n",
       "       [ 4,  8, 12, 16, 20],\n",
       "       [ 5, 10, 15, 20, 25]])"
      ]
     },
     "execution_count": 46,
     "metadata": {},
     "output_type": "execute_result"
    }
   ],
   "source": [
    "x = np.arange(1, 6)\n",
    "np.multiply.outer(x, x)"
   ]
  },
  {
   "cell_type": "code",
   "execution_count": null,
   "id": "856c5a1d",
   "metadata": {},
   "outputs": [],
   "source": []
  }
 ],
 "metadata": {
  "kernelspec": {
   "display_name": "Python 3 (ipykernel)",
   "language": "python",
   "name": "python3"
  },
  "language_info": {
   "codemirror_mode": {
    "name": "ipython",
    "version": 3
   },
   "file_extension": ".py",
   "mimetype": "text/x-python",
   "name": "python",
   "nbconvert_exporter": "python",
   "pygments_lexer": "ipython3",
   "version": "3.9.7"
  }
 },
 "nbformat": 4,
 "nbformat_minor": 5
}
