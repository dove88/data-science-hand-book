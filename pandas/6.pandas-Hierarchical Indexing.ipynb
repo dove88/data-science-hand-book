{
 "cells": [
  {
   "cell_type": "code",
   "execution_count": 1,
   "id": "2a2c971b",
   "metadata": {},
   "outputs": [],
   "source": [
    "import pandas as pd\n",
    "import numpy as np"
   ]
  },
  {
   "cell_type": "code",
   "execution_count": 2,
   "id": "1d764250",
   "metadata": {},
   "outputs": [
    {
     "name": "stdout",
     "output_type": "stream",
     "text": [
      "1.4.3\n",
      "1.21.2\n"
     ]
    }
   ],
   "source": [
    "print(pd.__version__)\n",
    "print(np.__version__)"
   ]
  },
  {
   "cell_type": "markdown",
   "id": "8be4d3b8",
   "metadata": {},
   "source": [
    "##### points to notify\n",
    "\n",
    "\n",
    "\n",
    "- hierachical indexing\n",
    "- multiply indexed series\n",
    "- multi index as extra dimension\n",
    "- methods of multi index creation\n",
    "- index setting and resetting"
   ]
  },
  {
   "cell_type": "markdown",
   "id": "ad049b0f",
   "metadata": {},
   "source": [
    "###### Hierarchical Indexing"
   ]
  },
  {
   "cell_type": "markdown",
   "id": "425da208",
   "metadata": {},
   "source": [
    "Up to this point we’ve been focused primarily on one-dimensional and twodimensional data, stored in\n",
    "Pandas\n",
    "Series\n",
    "and\n",
    "DataFrame\n",
    "objects,\n",
    "respectively.\n",
    "Often\n",
    "it is useful to go beyond this and store\n",
    "higher-dimensional\n",
    "data—that is,\n",
    "data\n",
    "indexed\n",
    "by more than one or two keys. While\n",
    "Pandas does provide\n",
    "Panel\n",
    "and\n",
    "Panel4D\n",
    "objects\n",
    "that\n",
    "natively handle three-dimensional and\n",
    "four-dimensional\n",
    "data, a far more common\n",
    "pattern in practice is to make use of\n",
    "hierarchical\n",
    "indexing (also known as\n",
    "multi-indexing) to\n",
    "incorporate\n",
    "multiple index\n",
    "levels within\n",
    "a\n",
    "single index. In this\n",
    "way,\n",
    "higher-dimensional\n",
    "data can be\n",
    "compactly\n",
    "represented\n",
    "within the familiar one-dimensional\n",
    "Series and two-dimensional\n",
    "DataFrame\n",
    "objects."
   ]
  },
  {
   "cell_type": "markdown",
   "id": "80ce6afe",
   "metadata": {},
   "source": [
    "In this section, we’ll explore the direct creation of MultiIndex objects; considerations\n",
    "around indexing, slicing, and computing statistics across multiply indexed data; and\n",
    "useful routines for converting between simple and hierarchically indexed representa‐\n",
    "tions of your data."
   ]
  },
  {
   "cell_type": "markdown",
   "id": "ae189ef5",
   "metadata": {},
   "source": [
    "##### A Multiply Indexed Series"
   ]
  },
  {
   "cell_type": "markdown",
   "id": "603f0018",
   "metadata": {},
   "source": [
    "Let’s start by considering how we might represent two-dimensional data within a\n",
    "one-dimensional Series. For concreteness, we will consider a series of data where\n",
    "each point has a character and numerical key."
   ]
  },
  {
   "cell_type": "markdown",
   "id": "02fd7f99",
   "metadata": {},
   "source": [
    "##### The bad way"
   ]
  },
  {
   "cell_type": "markdown",
   "id": "425c16ba",
   "metadata": {},
   "source": [
    "Suppose you would like to track data about states from two different years. Using the\n",
    "Pandas tools we’ve already covered, you might be tempted to simply use Python\n",
    "tuples as keys:"
   ]
  },
  {
   "cell_type": "code",
   "execution_count": 3,
   "id": "bfa0f0f6",
   "metadata": {},
   "outputs": [
    {
     "data": {
      "text/plain": [
       "(California, 2000)    33871648\n",
       "(California, 2010)    37253956\n",
       "(New York, 2000)      18976457\n",
       "(New York, 2010)      19378102\n",
       "(Texas, 2000)         20851820\n",
       "(Texas, 2010)         25145561\n",
       "dtype: int64"
      ]
     },
     "execution_count": 3,
     "metadata": {},
     "output_type": "execute_result"
    }
   ],
   "source": [
    "index = [('California', 2000), ('California', 2010),\n",
    "                ('New York', 2000), ('New York', 2010),\n",
    "                ('Texas', 2000), ('Texas', 2010)]\n",
    "populations = [33871648, 37253956,\n",
    "                      18976457, 19378102,\n",
    "                      20851820, 25145561]\n",
    "pop = pd.Series(populations, index=index)\n",
    "pop"
   ]
  },
  {
   "cell_type": "markdown",
   "id": "f1e1a7d9",
   "metadata": {},
   "source": [
    "With this indexing scheme, you can straightforwardly index or slice the series based\n",
    "on this multiple index:"
   ]
  },
  {
   "cell_type": "code",
   "execution_count": 5,
   "id": "6ec1a2f1",
   "metadata": {},
   "outputs": [
    {
     "data": {
      "text/plain": [
       "(California, 2010)    37253956\n",
       "(New York, 2000)      18976457\n",
       "(New York, 2010)      19378102\n",
       "(Texas, 2000)         20851820\n",
       "dtype: int64"
      ]
     },
     "execution_count": 5,
     "metadata": {},
     "output_type": "execute_result"
    }
   ],
   "source": [
    "pop[('California', 2010):('Texas', 2000)]"
   ]
  },
  {
   "cell_type": "markdown",
   "id": "d8a0bcb2",
   "metadata": {},
   "source": [
    "But the convenience ends there. For example, if you need to select all values from\n",
    "2010, you’ll need to do some messy (and potentially slow) munging to make it\n",
    "happen:"
   ]
  },
  {
   "cell_type": "code",
   "execution_count": 6,
   "id": "acb10f4c",
   "metadata": {},
   "outputs": [
    {
     "data": {
      "text/plain": [
       "(California, 2010)    37253956\n",
       "(New York, 2010)      19378102\n",
       "(Texas, 2010)         25145561\n",
       "dtype: int64"
      ]
     },
     "execution_count": 6,
     "metadata": {},
     "output_type": "execute_result"
    }
   ],
   "source": [
    "pop[[i for i in pop.index if i[1] == 2010]]"
   ]
  },
  {
   "cell_type": "markdown",
   "id": "1f28293d",
   "metadata": {},
   "source": [
    "This produces the desired result, but is not as clean (or as efficient for large datasets)\n",
    "as the slicing syntax we’ve grown to love in Pandas."
   ]
  },
  {
   "cell_type": "markdown",
   "id": "6e7ac254",
   "metadata": {},
   "source": [
    "##### The better way: Pandas MultiIndex"
   ]
  },
  {
   "cell_type": "markdown",
   "id": "9b12c174",
   "metadata": {},
   "source": [
    "Fortunately, Pandas provides a better way. Our tuple-based indexing is essentially a\n",
    "rudimentary multi-index, and the Pandas MultiIndex type gives us the type of opera‐\n",
    "tions we wish to have. We can create a multi-index from the tuples as follows:"
   ]
  },
  {
   "cell_type": "code",
   "execution_count": 7,
   "id": "0b0d602a",
   "metadata": {},
   "outputs": [
    {
     "data": {
      "text/plain": [
       "MultiIndex([('California', 2000),\n",
       "            ('California', 2010),\n",
       "            (  'New York', 2000),\n",
       "            (  'New York', 2010),\n",
       "            (     'Texas', 2000),\n",
       "            (     'Texas', 2010)],\n",
       "           )"
      ]
     },
     "execution_count": 7,
     "metadata": {},
     "output_type": "execute_result"
    }
   ],
   "source": [
    "index = pd.MultiIndex.from_tuples(index)\n",
    "index"
   ]
  },
  {
   "cell_type": "markdown",
   "id": "240362fe",
   "metadata": {},
   "source": [
    "Notice that the MultiIndex contains multiple levels of indexing—in this case, the state\n",
    "names and the years, as well as multiple labels for each data point which encode these\n",
    "levels."
   ]
  },
  {
   "cell_type": "markdown",
   "id": "aea4024f",
   "metadata": {},
   "source": [
    "If we reindex our series with this MultiIndex, we see the hierarchical representation\n",
    "of the data:"
   ]
  },
  {
   "cell_type": "code",
   "execution_count": 8,
   "id": "a07fd648",
   "metadata": {},
   "outputs": [
    {
     "data": {
      "text/plain": [
       "California  2000    33871648\n",
       "            2010    37253956\n",
       "New York    2000    18976457\n",
       "            2010    19378102\n",
       "Texas       2000    20851820\n",
       "            2010    25145561\n",
       "dtype: int64"
      ]
     },
     "execution_count": 8,
     "metadata": {},
     "output_type": "execute_result"
    }
   ],
   "source": [
    "pop = pop.reindex(index)\n",
    "pop"
   ]
  },
  {
   "cell_type": "markdown",
   "id": "f9954416",
   "metadata": {},
   "source": [
    "Here the first two columns of the Series representation show the multiple index val‐\n",
    "ues, while the third column shows the data. Notice that some entries are missing in\n",
    "the first column: in this multi-index representation, any blank entry indicates the\n",
    "same value as the line above it."
   ]
  },
  {
   "cell_type": "markdown",
   "id": "35ebadff",
   "metadata": {},
   "source": [
    "Now to access all data for which the second index is 2010, we can simply use the Pan‐\n",
    "das slicing notation:"
   ]
  },
  {
   "cell_type": "code",
   "execution_count": 9,
   "id": "fd974f8a",
   "metadata": {},
   "outputs": [
    {
     "data": {
      "text/plain": [
       "California    37253956\n",
       "New York      19378102\n",
       "Texas         25145561\n",
       "dtype: int64"
      ]
     },
     "execution_count": 9,
     "metadata": {},
     "output_type": "execute_result"
    }
   ],
   "source": [
    "pop[:, 2010]"
   ]
  },
  {
   "cell_type": "markdown",
   "id": "b02d134f",
   "metadata": {},
   "source": [
    "The result is a singly indexed array with just the keys we’re interested in. This syntax\n",
    "is much more convenient (and the operation is much more efficient!) than the homespun tuple-based\n",
    "multi-indexing solution\n",
    "that we started with.\n",
    "We’ll now further\n",
    "dis‐\n",
    "cuss this sort of indexing\n",
    "operation on hierarchically indexed\n",
    "data."
   ]
  },
  {
   "cell_type": "markdown",
   "id": "bd65425d",
   "metadata": {},
   "source": [
    "##### MultiIndex as extra dimension"
   ]
  },
  {
   "cell_type": "markdown",
   "id": "936918df",
   "metadata": {},
   "source": [
    "You might notice something else here: we could easily have stored the same data\n",
    "using a simple DataFrame with index and column labels. In fact, Pandas is built with\n",
    "this equivalence in mind. The unstack() method will quickly convert a multiplyindexed\n",
    "Series\n",
    "into a\n",
    "conventionally indexed\n",
    "DataFrame:"
   ]
  },
  {
   "cell_type": "code",
   "execution_count": 10,
   "id": "5e63d95d",
   "metadata": {},
   "outputs": [
    {
     "data": {
      "text/html": [
       "<div>\n",
       "<style scoped>\n",
       "    .dataframe tbody tr th:only-of-type {\n",
       "        vertical-align: middle;\n",
       "    }\n",
       "\n",
       "    .dataframe tbody tr th {\n",
       "        vertical-align: top;\n",
       "    }\n",
       "\n",
       "    .dataframe thead th {\n",
       "        text-align: right;\n",
       "    }\n",
       "</style>\n",
       "<table border=\"1\" class=\"dataframe\">\n",
       "  <thead>\n",
       "    <tr style=\"text-align: right;\">\n",
       "      <th></th>\n",
       "      <th>2000</th>\n",
       "      <th>2010</th>\n",
       "    </tr>\n",
       "  </thead>\n",
       "  <tbody>\n",
       "    <tr>\n",
       "      <th>California</th>\n",
       "      <td>33871648</td>\n",
       "      <td>37253956</td>\n",
       "    </tr>\n",
       "    <tr>\n",
       "      <th>New York</th>\n",
       "      <td>18976457</td>\n",
       "      <td>19378102</td>\n",
       "    </tr>\n",
       "    <tr>\n",
       "      <th>Texas</th>\n",
       "      <td>20851820</td>\n",
       "      <td>25145561</td>\n",
       "    </tr>\n",
       "  </tbody>\n",
       "</table>\n",
       "</div>"
      ],
      "text/plain": [
       "                2000      2010\n",
       "California  33871648  37253956\n",
       "New York    18976457  19378102\n",
       "Texas       20851820  25145561"
      ]
     },
     "execution_count": 10,
     "metadata": {},
     "output_type": "execute_result"
    }
   ],
   "source": [
    "pop_df = pop.unstack()\n",
    "pop_df"
   ]
  },
  {
   "cell_type": "markdown",
   "id": "651443cd",
   "metadata": {},
   "source": [
    "Naturally, the stack() method provides the opposite operation:"
   ]
  },
  {
   "cell_type": "code",
   "execution_count": 13,
   "id": "f499c11d",
   "metadata": {},
   "outputs": [
    {
     "data": {
      "text/plain": [
       "California  2000    33871648\n",
       "            2010    37253956\n",
       "New York    2000    18976457\n",
       "            2010    19378102\n",
       "Texas       2000    20851820\n",
       "            2010    25145561\n",
       "dtype: int64"
      ]
     },
     "execution_count": 13,
     "metadata": {},
     "output_type": "execute_result"
    }
   ],
   "source": [
    "pop_df.stack()"
   ]
  },
  {
   "cell_type": "markdown",
   "id": "90c71f94",
   "metadata": {},
   "source": [
    "Seeing this, you might wonder why would we would bother with hierarchical index‐\n",
    "ing at all. The reason is simple: just as we were able to use multi-indexing to represent two-dimensional data within a one-dimensional Series, we can also use it to repre‐\n",
    "sent data of three or more dimensions in a Series or DataFrame. Each extra level in a\n",
    "multi-index represents an extra dimension of data; taking advantage of this property\n",
    "gives us much more flexibility in the types of data we can represent. Concretely, we\n",
    "might want to add another column of demographic data for each state at each year\n",
    "(say, population under 18); with a MultiIndex this is as easy as adding another col‐\n",
    "umn to the DataFrame:\n"
   ]
  },
  {
   "cell_type": "code",
   "execution_count": 14,
   "id": "f1fd6757",
   "metadata": {},
   "outputs": [
    {
     "data": {
      "text/html": [
       "<div>\n",
       "<style scoped>\n",
       "    .dataframe tbody tr th:only-of-type {\n",
       "        vertical-align: middle;\n",
       "    }\n",
       "\n",
       "    .dataframe tbody tr th {\n",
       "        vertical-align: top;\n",
       "    }\n",
       "\n",
       "    .dataframe thead th {\n",
       "        text-align: right;\n",
       "    }\n",
       "</style>\n",
       "<table border=\"1\" class=\"dataframe\">\n",
       "  <thead>\n",
       "    <tr style=\"text-align: right;\">\n",
       "      <th></th>\n",
       "      <th></th>\n",
       "      <th>total</th>\n",
       "      <th>under18</th>\n",
       "    </tr>\n",
       "  </thead>\n",
       "  <tbody>\n",
       "    <tr>\n",
       "      <th rowspan=\"2\" valign=\"top\">California</th>\n",
       "      <th>2000</th>\n",
       "      <td>33871648</td>\n",
       "      <td>9267089</td>\n",
       "    </tr>\n",
       "    <tr>\n",
       "      <th>2010</th>\n",
       "      <td>37253956</td>\n",
       "      <td>9284094</td>\n",
       "    </tr>\n",
       "    <tr>\n",
       "      <th rowspan=\"2\" valign=\"top\">New York</th>\n",
       "      <th>2000</th>\n",
       "      <td>18976457</td>\n",
       "      <td>4687374</td>\n",
       "    </tr>\n",
       "    <tr>\n",
       "      <th>2010</th>\n",
       "      <td>19378102</td>\n",
       "      <td>4318033</td>\n",
       "    </tr>\n",
       "    <tr>\n",
       "      <th rowspan=\"2\" valign=\"top\">Texas</th>\n",
       "      <th>2000</th>\n",
       "      <td>20851820</td>\n",
       "      <td>5906301</td>\n",
       "    </tr>\n",
       "    <tr>\n",
       "      <th>2010</th>\n",
       "      <td>25145561</td>\n",
       "      <td>6879014</td>\n",
       "    </tr>\n",
       "  </tbody>\n",
       "</table>\n",
       "</div>"
      ],
      "text/plain": [
       "                    total  under18\n",
       "California 2000  33871648  9267089\n",
       "           2010  37253956  9284094\n",
       "New York   2000  18976457  4687374\n",
       "           2010  19378102  4318033\n",
       "Texas      2000  20851820  5906301\n",
       "           2010  25145561  6879014"
      ]
     },
     "execution_count": 14,
     "metadata": {},
     "output_type": "execute_result"
    }
   ],
   "source": [
    "pop_df = pd.DataFrame({'total': pop,\n",
    "                        'under18': [9267089, 9284094,\n",
    "                                    4687374, 4318033,\n",
    "                                    5906301, 6879014]})\n",
    "pop_df"
   ]
  },
  {
   "cell_type": "code",
   "execution_count": 17,
   "id": "be91c802",
   "metadata": {},
   "outputs": [],
   "source": [
    "f_u18 = pop_df['under18'] / pop_df['total']"
   ]
  },
  {
   "cell_type": "code",
   "execution_count": 18,
   "id": "846a6ecf",
   "metadata": {},
   "outputs": [
    {
     "data": {
      "text/html": [
       "<div>\n",
       "<style scoped>\n",
       "    .dataframe tbody tr th:only-of-type {\n",
       "        vertical-align: middle;\n",
       "    }\n",
       "\n",
       "    .dataframe tbody tr th {\n",
       "        vertical-align: top;\n",
       "    }\n",
       "\n",
       "    .dataframe thead th {\n",
       "        text-align: right;\n",
       "    }\n",
       "</style>\n",
       "<table border=\"1\" class=\"dataframe\">\n",
       "  <thead>\n",
       "    <tr style=\"text-align: right;\">\n",
       "      <th></th>\n",
       "      <th>2000</th>\n",
       "      <th>2010</th>\n",
       "    </tr>\n",
       "  </thead>\n",
       "  <tbody>\n",
       "    <tr>\n",
       "      <th>California</th>\n",
       "      <td>0.273594</td>\n",
       "      <td>0.249211</td>\n",
       "    </tr>\n",
       "    <tr>\n",
       "      <th>New York</th>\n",
       "      <td>0.247010</td>\n",
       "      <td>0.222831</td>\n",
       "    </tr>\n",
       "    <tr>\n",
       "      <th>Texas</th>\n",
       "      <td>0.283251</td>\n",
       "      <td>0.273568</td>\n",
       "    </tr>\n",
       "  </tbody>\n",
       "</table>\n",
       "</div>"
      ],
      "text/plain": [
       "                2000      2010\n",
       "California  0.273594  0.249211\n",
       "New York    0.247010  0.222831\n",
       "Texas       0.283251  0.273568"
      ]
     },
     "execution_count": 18,
     "metadata": {},
     "output_type": "execute_result"
    }
   ],
   "source": [
    "f_u18.unstack()"
   ]
  },
  {
   "cell_type": "markdown",
   "id": "a0c63060",
   "metadata": {},
   "source": [
    "##### Methods of MultiIndex Creation"
   ]
  },
  {
   "cell_type": "markdown",
   "id": "1da52fed",
   "metadata": {},
   "source": [
    "The most straightforward way to construct a multiply indexed Series or DataFrame\n",
    "is to simply pass a list of two or more index arrays to the constructor. For example:"
   ]
  },
  {
   "cell_type": "code",
   "execution_count": 19,
   "id": "211bc2e2",
   "metadata": {},
   "outputs": [
    {
     "data": {
      "text/html": [
       "<div>\n",
       "<style scoped>\n",
       "    .dataframe tbody tr th:only-of-type {\n",
       "        vertical-align: middle;\n",
       "    }\n",
       "\n",
       "    .dataframe tbody tr th {\n",
       "        vertical-align: top;\n",
       "    }\n",
       "\n",
       "    .dataframe thead th {\n",
       "        text-align: right;\n",
       "    }\n",
       "</style>\n",
       "<table border=\"1\" class=\"dataframe\">\n",
       "  <thead>\n",
       "    <tr style=\"text-align: right;\">\n",
       "      <th></th>\n",
       "      <th></th>\n",
       "      <th>data1</th>\n",
       "      <th>data2</th>\n",
       "    </tr>\n",
       "  </thead>\n",
       "  <tbody>\n",
       "    <tr>\n",
       "      <th rowspan=\"2\" valign=\"top\">a</th>\n",
       "      <th>1</th>\n",
       "      <td>0.292547</td>\n",
       "      <td>0.076809</td>\n",
       "    </tr>\n",
       "    <tr>\n",
       "      <th>2</th>\n",
       "      <td>0.303776</td>\n",
       "      <td>0.388062</td>\n",
       "    </tr>\n",
       "    <tr>\n",
       "      <th rowspan=\"2\" valign=\"top\">b</th>\n",
       "      <th>1</th>\n",
       "      <td>0.666284</td>\n",
       "      <td>0.117722</td>\n",
       "    </tr>\n",
       "    <tr>\n",
       "      <th>2</th>\n",
       "      <td>0.154699</td>\n",
       "      <td>0.527541</td>\n",
       "    </tr>\n",
       "  </tbody>\n",
       "</table>\n",
       "</div>"
      ],
      "text/plain": [
       "        data1     data2\n",
       "a 1  0.292547  0.076809\n",
       "  2  0.303776  0.388062\n",
       "b 1  0.666284  0.117722\n",
       "  2  0.154699  0.527541"
      ]
     },
     "execution_count": 19,
     "metadata": {},
     "output_type": "execute_result"
    }
   ],
   "source": [
    "df = pd.DataFrame(np.random.rand(4, 2),\n",
    "                          index=[['a', 'a', 'b', 'b'], [1, 2, 1, 2]],\n",
    "                          columns=['data1', 'data2'])\n",
    "df"
   ]
  },
  {
   "cell_type": "markdown",
   "id": "90459eb8",
   "metadata": {},
   "source": [
    "The work of creating the MultiIndex is done in the background.\n",
    "Similarly, if you pass a dictionary with appropriate tuples as keys, Pandas will auto‐\n",
    "matically recognize this and use a MultiIndex by default:"
   ]
  },
  {
   "cell_type": "code",
   "execution_count": 21,
   "id": "44c1bd33",
   "metadata": {},
   "outputs": [
    {
     "data": {
      "text/plain": [
       "California  2000    33871648\n",
       "            2010    37253956\n",
       "Texas       2000    20851820\n",
       "            2010    25145561\n",
       "New York    2000    18976457\n",
       "            2010    19378102\n",
       "dtype: int64"
      ]
     },
     "execution_count": 21,
     "metadata": {},
     "output_type": "execute_result"
    }
   ],
   "source": [
    " data = {('California', 2000): 33871648,\n",
    "                ('California', 2010): 37253956,\n",
    "                ('Texas', 2000): 20851820,\n",
    "                ('Texas', 2010): 25145561,\n",
    "                ('New York', 2000): 18976457,\n",
    "                ('New York', 2010): 19378102}\n",
    "pd.Series(data)"
   ]
  },
  {
   "cell_type": "markdown",
   "id": "d9d962c9",
   "metadata": {},
   "source": [
    "Nevertheless, it is sometimes useful to explicitly create a MultiIndex; we’ll see a cou‐\n",
    "ple of these methods here."
   ]
  },
  {
   "cell_type": "markdown",
   "id": "b750977b",
   "metadata": {},
   "source": [
    "##### Explicit MultiIndex constructors"
   ]
  },
  {
   "cell_type": "markdown",
   "id": "82bb4425",
   "metadata": {},
   "source": [
    "For more flexibility in how the index is constructed, you can instead use the class\n",
    "method constructors available in the pd.MultiIndex. For example, as we did before,\n",
    "you can construct the MultiIndex from a simple list of arrays, giving the index values\n",
    "within each level:"
   ]
  },
  {
   "cell_type": "code",
   "execution_count": 22,
   "id": "00986e07",
   "metadata": {},
   "outputs": [
    {
     "data": {
      "text/plain": [
       "MultiIndex([('a', 1),\n",
       "            ('a', 2),\n",
       "            ('b', 1),\n",
       "            ('b', 2)],\n",
       "           )"
      ]
     },
     "execution_count": 22,
     "metadata": {},
     "output_type": "execute_result"
    }
   ],
   "source": [
    "pd.MultiIndex.from_arrays([['a', 'a', 'b', 'b'], [1, 2, 1, 2]])"
   ]
  },
  {
   "cell_type": "markdown",
   "id": "0b9dbb9b",
   "metadata": {},
   "source": [
    "You can construct it from a list of tuples, giving the multiple index values of each\n",
    "point:"
   ]
  },
  {
   "cell_type": "code",
   "execution_count": 23,
   "id": "17b6e6d3",
   "metadata": {},
   "outputs": [
    {
     "data": {
      "text/plain": [
       "MultiIndex([('a', 1),\n",
       "            ('a', 2),\n",
       "            ('b', 1),\n",
       "            ('b', 2)],\n",
       "           )"
      ]
     },
     "execution_count": 23,
     "metadata": {},
     "output_type": "execute_result"
    }
   ],
   "source": [
    "pd.MultiIndex.from_tuples([('a', 1), ('a', 2), ('b', 1), ('b', 2)])"
   ]
  },
  {
   "cell_type": "markdown",
   "id": "3053d2cd",
   "metadata": {},
   "source": [
    "You can even construct it from a Cartesian product of single indices:"
   ]
  },
  {
   "cell_type": "code",
   "execution_count": 24,
   "id": "6b627273",
   "metadata": {},
   "outputs": [
    {
     "data": {
      "text/plain": [
       "MultiIndex([('a', 1),\n",
       "            ('a', 2),\n",
       "            ('b', 1),\n",
       "            ('b', 2)],\n",
       "           )"
      ]
     },
     "execution_count": 24,
     "metadata": {},
     "output_type": "execute_result"
    }
   ],
   "source": [
    "pd.MultiIndex.from_product([['a', 'b'], [1, 2]])"
   ]
  },
  {
   "cell_type": "markdown",
   "id": "1cc2824c",
   "metadata": {},
   "source": [
    "Similarly, you can construct the MultiIndex directly using its internal encoding by\n",
    "passing levels (a list of lists containing available index values for each level) and\n",
    "labels (a list of lists that reference these labels):"
   ]
  },
  {
   "cell_type": "code",
   "execution_count": 29,
   "id": "68787eed",
   "metadata": {},
   "outputs": [
    {
     "data": {
      "text/plain": [
       "MultiIndex([('a', 1),\n",
       "            ('a', 2),\n",
       "            ('b', 1),\n",
       "            ('b', 2)],\n",
       "           )"
      ]
     },
     "execution_count": 29,
     "metadata": {},
     "output_type": "execute_result"
    }
   ],
   "source": [
    " pd.MultiIndex(levels=[['a', 'b'], [1, 2]],\n",
    "                       codes=[[0, 0, 1, 1], [0, 1, 0, 1]])"
   ]
  },
  {
   "cell_type": "markdown",
   "id": "3f47e036",
   "metadata": {},
   "source": [
    "You can pass any of these objects as the index argument when creating a Series or\n",
    "DataFrame, or to the reindex method of an existing Series or DataFrame."
   ]
  },
  {
   "cell_type": "markdown",
   "id": "4545d7cb",
   "metadata": {},
   "source": [
    "##### MultiIndex level names"
   ]
  },
  {
   "cell_type": "markdown",
   "id": "34eb3448",
   "metadata": {},
   "source": [
    "Sometimes it is convenient to name the levels of the MultiIndex. You can accomplish\n",
    "this by passing the names argument to any of the above MultiIndex constructors, or\n",
    "by setting the names attribute of the index after the fact:"
   ]
  },
  {
   "cell_type": "code",
   "execution_count": 31,
   "id": "d6e7de77",
   "metadata": {},
   "outputs": [
    {
     "data": {
      "text/plain": [
       "state       year\n",
       "California  2000    33871648\n",
       "            2010    37253956\n",
       "New York    2000    18976457\n",
       "            2010    19378102\n",
       "Texas       2000    20851820\n",
       "            2010    25145561\n",
       "dtype: int64"
      ]
     },
     "execution_count": 31,
     "metadata": {},
     "output_type": "execute_result"
    }
   ],
   "source": [
    "pop.index.names = ['state', 'year']\n",
    "pop"
   ]
  },
  {
   "cell_type": "markdown",
   "id": "8b0d4640",
   "metadata": {},
   "source": [
    "With more involved datasets, this can be a useful way to keep track of the meaning of\n",
    "various index values."
   ]
  },
  {
   "cell_type": "markdown",
   "id": "b8f15ea9",
   "metadata": {},
   "source": [
    "##### MultiIndex for columns"
   ]
  },
  {
   "cell_type": "markdown",
   "id": "494971e7",
   "metadata": {},
   "source": [
    "In a DataFrame, the rows and columns are completely symmetric, and just as the rows\n",
    "can have multiple levels of indices, the columns can have multiple levels as well. Con‐\n",
    "sider the following, which is a mock-up of some (somewhat realistic) medical data:"
   ]
  },
  {
   "cell_type": "code",
   "execution_count": 34,
   "id": "2c0b6c5e",
   "metadata": {},
   "outputs": [
    {
     "data": {
      "text/html": [
       "<div>\n",
       "<style scoped>\n",
       "    .dataframe tbody tr th:only-of-type {\n",
       "        vertical-align: middle;\n",
       "    }\n",
       "\n",
       "    .dataframe tbody tr th {\n",
       "        vertical-align: top;\n",
       "    }\n",
       "\n",
       "    .dataframe thead tr th {\n",
       "        text-align: left;\n",
       "    }\n",
       "\n",
       "    .dataframe thead tr:last-of-type th {\n",
       "        text-align: right;\n",
       "    }\n",
       "</style>\n",
       "<table border=\"1\" class=\"dataframe\">\n",
       "  <thead>\n",
       "    <tr>\n",
       "      <th></th>\n",
       "      <th>subject</th>\n",
       "      <th colspan=\"2\" halign=\"left\">Bob</th>\n",
       "      <th colspan=\"2\" halign=\"left\">Guido</th>\n",
       "      <th colspan=\"2\" halign=\"left\">Sue</th>\n",
       "    </tr>\n",
       "    <tr>\n",
       "      <th></th>\n",
       "      <th>type</th>\n",
       "      <th>HR</th>\n",
       "      <th>Temp</th>\n",
       "      <th>HR</th>\n",
       "      <th>Temp</th>\n",
       "      <th>HR</th>\n",
       "      <th>Temp</th>\n",
       "    </tr>\n",
       "    <tr>\n",
       "      <th>year</th>\n",
       "      <th>visit</th>\n",
       "      <th></th>\n",
       "      <th></th>\n",
       "      <th></th>\n",
       "      <th></th>\n",
       "      <th></th>\n",
       "      <th></th>\n",
       "    </tr>\n",
       "  </thead>\n",
       "  <tbody>\n",
       "    <tr>\n",
       "      <th rowspan=\"2\" valign=\"top\">2013</th>\n",
       "      <th>1</th>\n",
       "      <td>57.0</td>\n",
       "      <td>36.3</td>\n",
       "      <td>20.0</td>\n",
       "      <td>37.0</td>\n",
       "      <td>39.0</td>\n",
       "      <td>37.8</td>\n",
       "    </tr>\n",
       "    <tr>\n",
       "      <th>2</th>\n",
       "      <td>30.0</td>\n",
       "      <td>36.9</td>\n",
       "      <td>40.0</td>\n",
       "      <td>36.4</td>\n",
       "      <td>28.0</td>\n",
       "      <td>37.3</td>\n",
       "    </tr>\n",
       "    <tr>\n",
       "      <th rowspan=\"2\" valign=\"top\">2014</th>\n",
       "      <th>1</th>\n",
       "      <td>30.0</td>\n",
       "      <td>36.9</td>\n",
       "      <td>33.0</td>\n",
       "      <td>36.0</td>\n",
       "      <td>23.0</td>\n",
       "      <td>35.1</td>\n",
       "    </tr>\n",
       "    <tr>\n",
       "      <th>2</th>\n",
       "      <td>31.0</td>\n",
       "      <td>36.9</td>\n",
       "      <td>35.0</td>\n",
       "      <td>36.2</td>\n",
       "      <td>35.0</td>\n",
       "      <td>37.4</td>\n",
       "    </tr>\n",
       "  </tbody>\n",
       "</table>\n",
       "</div>"
      ],
      "text/plain": [
       "subject      Bob       Guido         Sue      \n",
       "type          HR  Temp    HR  Temp    HR  Temp\n",
       "year visit                                    \n",
       "2013 1      57.0  36.3  20.0  37.0  39.0  37.8\n",
       "     2      30.0  36.9  40.0  36.4  28.0  37.3\n",
       "2014 1      30.0  36.9  33.0  36.0  23.0  35.1\n",
       "     2      31.0  36.9  35.0  36.2  35.0  37.4"
      ]
     },
     "execution_count": 34,
     "metadata": {},
     "output_type": "execute_result"
    }
   ],
   "source": [
    "# hierarchical indices and columns\n",
    "index = pd.MultiIndex.from_product([[2013, 2014], [1, 2]],\n",
    "                                   names=['year', 'visit'])\n",
    "columns = pd.MultiIndex.from_product([['Bob', 'Guido', 'Sue'], ['HR', 'Temp']],\n",
    "                                     names=['subject', 'type'])\n",
    "# mock some data\n",
    "data = np.round(np.random.randn(4, 6), 1)\n",
    "data[:, ::2] *= 10\n",
    "data += 37\n",
    "# create the DataFrame\n",
    "health_data = pd.DataFrame(data, index=index, columns=columns)\n",
    "health_data"
   ]
  },
  {
   "cell_type": "markdown",
   "id": "eaf53816",
   "metadata": {},
   "source": [
    "Here we see where the multi-indexing for both rows and columns can come in very\n",
    "handy. This is fundamentally four-dimensional data, where the dimensions are the\n",
    "subject, the measurement type, the year, and the visit number. With this in place we\n",
    "can, for example, index the top-level column by the person’s name and get a full Data\n",
    "Frame containing just that person’s information:"
   ]
  },
  {
   "cell_type": "code",
   "execution_count": 35,
   "id": "8228452a",
   "metadata": {},
   "outputs": [
    {
     "data": {
      "text/html": [
       "<div>\n",
       "<style scoped>\n",
       "    .dataframe tbody tr th:only-of-type {\n",
       "        vertical-align: middle;\n",
       "    }\n",
       "\n",
       "    .dataframe tbody tr th {\n",
       "        vertical-align: top;\n",
       "    }\n",
       "\n",
       "    .dataframe thead th {\n",
       "        text-align: right;\n",
       "    }\n",
       "</style>\n",
       "<table border=\"1\" class=\"dataframe\">\n",
       "  <thead>\n",
       "    <tr style=\"text-align: right;\">\n",
       "      <th></th>\n",
       "      <th>type</th>\n",
       "      <th>HR</th>\n",
       "      <th>Temp</th>\n",
       "    </tr>\n",
       "    <tr>\n",
       "      <th>year</th>\n",
       "      <th>visit</th>\n",
       "      <th></th>\n",
       "      <th></th>\n",
       "    </tr>\n",
       "  </thead>\n",
       "  <tbody>\n",
       "    <tr>\n",
       "      <th rowspan=\"2\" valign=\"top\">2013</th>\n",
       "      <th>1</th>\n",
       "      <td>20.0</td>\n",
       "      <td>37.0</td>\n",
       "    </tr>\n",
       "    <tr>\n",
       "      <th>2</th>\n",
       "      <td>40.0</td>\n",
       "      <td>36.4</td>\n",
       "    </tr>\n",
       "    <tr>\n",
       "      <th rowspan=\"2\" valign=\"top\">2014</th>\n",
       "      <th>1</th>\n",
       "      <td>33.0</td>\n",
       "      <td>36.0</td>\n",
       "    </tr>\n",
       "    <tr>\n",
       "      <th>2</th>\n",
       "      <td>35.0</td>\n",
       "      <td>36.2</td>\n",
       "    </tr>\n",
       "  </tbody>\n",
       "</table>\n",
       "</div>"
      ],
      "text/plain": [
       "type          HR  Temp\n",
       "year visit            \n",
       "2013 1      20.0  37.0\n",
       "     2      40.0  36.4\n",
       "2014 1      33.0  36.0\n",
       "     2      35.0  36.2"
      ]
     },
     "execution_count": 35,
     "metadata": {},
     "output_type": "execute_result"
    }
   ],
   "source": [
    "health_data['Guido']"
   ]
  },
  {
   "cell_type": "markdown",
   "id": "d89f8578",
   "metadata": {},
   "source": [
    "For complicated records containing multiple labeled measurements across multiple\n",
    "times for many subjects (people, countries, cities, etc.), use of hierarchical rows and\n",
    "columns can be extremely convenient!"
   ]
  },
  {
   "cell_type": "markdown",
   "id": "1921ade6",
   "metadata": {},
   "source": [
    "##### Indexing and Slicing a MultiIndex"
   ]
  },
  {
   "cell_type": "markdown",
   "id": "00e904a4",
   "metadata": {},
   "source": [
    "Indexing and slicing on a MultiIndex is designed to be intuitive, and it helps if you\n",
    "think about the indices as added dimensions. We’ll first look at indexing multiply\n",
    "indexed Series, and then multiply indexed DataFrames."
   ]
  },
  {
   "cell_type": "markdown",
   "id": "9f7e9e8b",
   "metadata": {},
   "source": [
    "##### Multiply indexed Series"
   ]
  },
  {
   "cell_type": "markdown",
   "id": "ca968100",
   "metadata": {},
   "source": [
    "Consider the multiply indexed Series of state populations we saw earlier:"
   ]
  },
  {
   "cell_type": "code",
   "execution_count": 36,
   "id": "1e743c74",
   "metadata": {},
   "outputs": [
    {
     "data": {
      "text/plain": [
       "state       year\n",
       "California  2000    33871648\n",
       "            2010    37253956\n",
       "New York    2000    18976457\n",
       "            2010    19378102\n",
       "Texas       2000    20851820\n",
       "            2010    25145561\n",
       "dtype: int64"
      ]
     },
     "execution_count": 36,
     "metadata": {},
     "output_type": "execute_result"
    }
   ],
   "source": [
    "pop"
   ]
  },
  {
   "cell_type": "markdown",
   "id": "d6bebdf2",
   "metadata": {},
   "source": [
    "We can access single elements by indexing with multiple terms:"
   ]
  },
  {
   "cell_type": "code",
   "execution_count": 37,
   "id": "f5fb9f39",
   "metadata": {},
   "outputs": [
    {
     "data": {
      "text/plain": [
       "33871648"
      ]
     },
     "execution_count": 37,
     "metadata": {},
     "output_type": "execute_result"
    }
   ],
   "source": [
    "pop['California', 2000]"
   ]
  },
  {
   "cell_type": "markdown",
   "id": "b5de7d3f",
   "metadata": {},
   "source": [
    "The MultiIndex also supports partial indexing, or indexing just one of the levels in\n",
    "the index. The result is another Series, with the lower-level indices maintained:"
   ]
  },
  {
   "cell_type": "code",
   "execution_count": 38,
   "id": "d02359da",
   "metadata": {},
   "outputs": [
    {
     "data": {
      "text/plain": [
       "year\n",
       "2000    33871648\n",
       "2010    37253956\n",
       "dtype: int64"
      ]
     },
     "execution_count": 38,
     "metadata": {},
     "output_type": "execute_result"
    }
   ],
   "source": [
    "pop['California']"
   ]
  },
  {
   "cell_type": "markdown",
   "id": "cf4a51b3",
   "metadata": {},
   "source": [
    "With sorted indices, we can perform partial indexing on lower levels by passing an\n",
    "empty slice in the first index:"
   ]
  },
  {
   "cell_type": "code",
   "execution_count": 39,
   "id": "e3687ce9",
   "metadata": {},
   "outputs": [
    {
     "data": {
      "text/plain": [
       "state\n",
       "California    33871648\n",
       "New York      18976457\n",
       "Texas         20851820\n",
       "dtype: int64"
      ]
     },
     "execution_count": 39,
     "metadata": {},
     "output_type": "execute_result"
    }
   ],
   "source": [
    "pop[:, 2000]"
   ]
  },
  {
   "cell_type": "markdown",
   "id": "76491ca7",
   "metadata": {},
   "source": [
    "##### Multiply indexed DataFrames"
   ]
  },
  {
   "cell_type": "markdown",
   "id": "dc9a0592",
   "metadata": {},
   "source": [
    "A multiply indexed DataFrame behaves in a similar manner. Consider our toy medi‐\n",
    "cal DataFrame from before:"
   ]
  },
  {
   "cell_type": "code",
   "execution_count": 40,
   "id": "2c4bea11",
   "metadata": {},
   "outputs": [
    {
     "data": {
      "text/html": [
       "<div>\n",
       "<style scoped>\n",
       "    .dataframe tbody tr th:only-of-type {\n",
       "        vertical-align: middle;\n",
       "    }\n",
       "\n",
       "    .dataframe tbody tr th {\n",
       "        vertical-align: top;\n",
       "    }\n",
       "\n",
       "    .dataframe thead tr th {\n",
       "        text-align: left;\n",
       "    }\n",
       "\n",
       "    .dataframe thead tr:last-of-type th {\n",
       "        text-align: right;\n",
       "    }\n",
       "</style>\n",
       "<table border=\"1\" class=\"dataframe\">\n",
       "  <thead>\n",
       "    <tr>\n",
       "      <th></th>\n",
       "      <th>subject</th>\n",
       "      <th colspan=\"2\" halign=\"left\">Bob</th>\n",
       "      <th colspan=\"2\" halign=\"left\">Guido</th>\n",
       "      <th colspan=\"2\" halign=\"left\">Sue</th>\n",
       "    </tr>\n",
       "    <tr>\n",
       "      <th></th>\n",
       "      <th>type</th>\n",
       "      <th>HR</th>\n",
       "      <th>Temp</th>\n",
       "      <th>HR</th>\n",
       "      <th>Temp</th>\n",
       "      <th>HR</th>\n",
       "      <th>Temp</th>\n",
       "    </tr>\n",
       "    <tr>\n",
       "      <th>year</th>\n",
       "      <th>visit</th>\n",
       "      <th></th>\n",
       "      <th></th>\n",
       "      <th></th>\n",
       "      <th></th>\n",
       "      <th></th>\n",
       "      <th></th>\n",
       "    </tr>\n",
       "  </thead>\n",
       "  <tbody>\n",
       "    <tr>\n",
       "      <th rowspan=\"2\" valign=\"top\">2013</th>\n",
       "      <th>1</th>\n",
       "      <td>57.0</td>\n",
       "      <td>36.3</td>\n",
       "      <td>20.0</td>\n",
       "      <td>37.0</td>\n",
       "      <td>39.0</td>\n",
       "      <td>37.8</td>\n",
       "    </tr>\n",
       "    <tr>\n",
       "      <th>2</th>\n",
       "      <td>30.0</td>\n",
       "      <td>36.9</td>\n",
       "      <td>40.0</td>\n",
       "      <td>36.4</td>\n",
       "      <td>28.0</td>\n",
       "      <td>37.3</td>\n",
       "    </tr>\n",
       "    <tr>\n",
       "      <th rowspan=\"2\" valign=\"top\">2014</th>\n",
       "      <th>1</th>\n",
       "      <td>30.0</td>\n",
       "      <td>36.9</td>\n",
       "      <td>33.0</td>\n",
       "      <td>36.0</td>\n",
       "      <td>23.0</td>\n",
       "      <td>35.1</td>\n",
       "    </tr>\n",
       "    <tr>\n",
       "      <th>2</th>\n",
       "      <td>31.0</td>\n",
       "      <td>36.9</td>\n",
       "      <td>35.0</td>\n",
       "      <td>36.2</td>\n",
       "      <td>35.0</td>\n",
       "      <td>37.4</td>\n",
       "    </tr>\n",
       "  </tbody>\n",
       "</table>\n",
       "</div>"
      ],
      "text/plain": [
       "subject      Bob       Guido         Sue      \n",
       "type          HR  Temp    HR  Temp    HR  Temp\n",
       "year visit                                    \n",
       "2013 1      57.0  36.3  20.0  37.0  39.0  37.8\n",
       "     2      30.0  36.9  40.0  36.4  28.0  37.3\n",
       "2014 1      30.0  36.9  33.0  36.0  23.0  35.1\n",
       "     2      31.0  36.9  35.0  36.2  35.0  37.4"
      ]
     },
     "execution_count": 40,
     "metadata": {},
     "output_type": "execute_result"
    }
   ],
   "source": [
    "health_data"
   ]
  },
  {
   "cell_type": "markdown",
   "id": "9a48991d",
   "metadata": {},
   "source": [
    "Remember that columns are primary in a DataFrame, and the syntax used for multi‐\n",
    "ply indexed Series applies to the columns. For example, we can recover Guido’s heart\n",
    "rate data with a simple operation:"
   ]
  },
  {
   "cell_type": "code",
   "execution_count": 41,
   "id": "89123c38",
   "metadata": {},
   "outputs": [
    {
     "data": {
      "text/plain": [
       "year  visit\n",
       "2013  1        20.0\n",
       "      2        40.0\n",
       "2014  1        33.0\n",
       "      2        35.0\n",
       "Name: (Guido, HR), dtype: float64"
      ]
     },
     "execution_count": 41,
     "metadata": {},
     "output_type": "execute_result"
    }
   ],
   "source": [
    "health_data['Guido', 'HR']"
   ]
  },
  {
   "cell_type": "markdown",
   "id": "8c696f01",
   "metadata": {},
   "source": [
    "##### Rearranging Multi-Indices"
   ]
  },
  {
   "cell_type": "markdown",
   "id": "be13c361",
   "metadata": {},
   "source": [
    "One of the keys to working with multiply indexed data is knowing how to effectively\n",
    "transform the data. There are a number of operations that will preserve all the infor‐\n",
    "mation in the dataset, but rearrange it for the purposes of various computations. We\n",
    "saw a brief example of this in the stack() and unstack() methods, but there are\n",
    "many more ways to finely control the rearrangement of data between hierarchical\n",
    "indices and columns, and we’ll explore them here."
   ]
  },
  {
   "cell_type": "markdown",
   "id": "8829879a",
   "metadata": {},
   "source": [
    "##### Sorted and unsorted indices"
   ]
  },
  {
   "cell_type": "markdown",
   "id": "54eb8e4b",
   "metadata": {},
   "source": [
    "Earlier, we briefly mentioned a caveat, but we should emphasize it more here. Many of\n",
    "the MultiIndex slicing operations will fail if the index is not sorted. Let’s take a look at\n",
    "this here."
   ]
  },
  {
   "cell_type": "markdown",
   "id": "2e9f3212",
   "metadata": {},
   "source": [
    "We’ll start by creating some simple multiply indexed data where the indices are not\n",
    "lexographically sorted:"
   ]
  },
  {
   "cell_type": "code",
   "execution_count": 42,
   "id": "95e8ae57",
   "metadata": {},
   "outputs": [
    {
     "data": {
      "text/plain": [
       "char  int\n",
       "a     1      0.562736\n",
       "      2      0.715643\n",
       "c     1      0.635150\n",
       "      2      0.640536\n",
       "b     1      0.427456\n",
       "      2      0.121056\n",
       "dtype: float64"
      ]
     },
     "execution_count": 42,
     "metadata": {},
     "output_type": "execute_result"
    }
   ],
   "source": [
    "index = pd.MultiIndex.from_product([['a', 'c', 'b'], [1, 2]])\n",
    "data = pd.Series(np.random.rand(6), index=index)\n",
    "data.index.names = ['char', 'int']\n",
    "data"
   ]
  },
  {
   "cell_type": "markdown",
   "id": "4dfa39cb",
   "metadata": {},
   "source": [
    "Although it is not entirely clear from the error message, this is the result of the Multi\n",
    "Index not being sorted. For various reasons, partial slices and other similar opera‐\n",
    "tions require the levels in the MultiIndex to be in sorted (i.e., lexographical) order.\n",
    "Pandas provides a number of convenience routines to perform this type of sorting;\n",
    "examples are the sort_index() and sortlevel() methods of the DataFrame. We’ll\n",
    "use the simplest, sort_index(), here:"
   ]
  },
  {
   "cell_type": "code",
   "execution_count": 43,
   "id": "29075ca6",
   "metadata": {},
   "outputs": [
    {
     "data": {
      "text/plain": [
       "char  int\n",
       "a     1      0.562736\n",
       "      2      0.715643\n",
       "b     1      0.427456\n",
       "      2      0.121056\n",
       "c     1      0.635150\n",
       "      2      0.640536\n",
       "dtype: float64"
      ]
     },
     "execution_count": 43,
     "metadata": {},
     "output_type": "execute_result"
    }
   ],
   "source": [
    "data = data.sort_index()\n",
    "data"
   ]
  },
  {
   "cell_type": "markdown",
   "id": "76b9cb84",
   "metadata": {},
   "source": [
    "##### Index setting and resetting"
   ]
  },
  {
   "cell_type": "markdown",
   "id": "443cc2da",
   "metadata": {},
   "source": [
    "Another way to rearrange hierarchical data is to turn the index labels into columns;\n",
    "this can be accomplished with the reset_index method. Calling this on the popula‐\n",
    "tion dictionary will result in a DataFrame with a state and year column holding the\n",
    "information that was formerly in the index. For clarity, we can optionally specify the\n",
    "name of the data for the column representation:"
   ]
  },
  {
   "cell_type": "code",
   "execution_count": 44,
   "id": "e137f495",
   "metadata": {},
   "outputs": [
    {
     "data": {
      "text/html": [
       "<div>\n",
       "<style scoped>\n",
       "    .dataframe tbody tr th:only-of-type {\n",
       "        vertical-align: middle;\n",
       "    }\n",
       "\n",
       "    .dataframe tbody tr th {\n",
       "        vertical-align: top;\n",
       "    }\n",
       "\n",
       "    .dataframe thead th {\n",
       "        text-align: right;\n",
       "    }\n",
       "</style>\n",
       "<table border=\"1\" class=\"dataframe\">\n",
       "  <thead>\n",
       "    <tr style=\"text-align: right;\">\n",
       "      <th></th>\n",
       "      <th>state</th>\n",
       "      <th>year</th>\n",
       "      <th>population</th>\n",
       "    </tr>\n",
       "  </thead>\n",
       "  <tbody>\n",
       "    <tr>\n",
       "      <th>0</th>\n",
       "      <td>California</td>\n",
       "      <td>2000</td>\n",
       "      <td>33871648</td>\n",
       "    </tr>\n",
       "    <tr>\n",
       "      <th>1</th>\n",
       "      <td>California</td>\n",
       "      <td>2010</td>\n",
       "      <td>37253956</td>\n",
       "    </tr>\n",
       "    <tr>\n",
       "      <th>2</th>\n",
       "      <td>New York</td>\n",
       "      <td>2000</td>\n",
       "      <td>18976457</td>\n",
       "    </tr>\n",
       "    <tr>\n",
       "      <th>3</th>\n",
       "      <td>New York</td>\n",
       "      <td>2010</td>\n",
       "      <td>19378102</td>\n",
       "    </tr>\n",
       "    <tr>\n",
       "      <th>4</th>\n",
       "      <td>Texas</td>\n",
       "      <td>2000</td>\n",
       "      <td>20851820</td>\n",
       "    </tr>\n",
       "    <tr>\n",
       "      <th>5</th>\n",
       "      <td>Texas</td>\n",
       "      <td>2010</td>\n",
       "      <td>25145561</td>\n",
       "    </tr>\n",
       "  </tbody>\n",
       "</table>\n",
       "</div>"
      ],
      "text/plain": [
       "        state  year  population\n",
       "0  California  2000    33871648\n",
       "1  California  2010    37253956\n",
       "2    New York  2000    18976457\n",
       "3    New York  2010    19378102\n",
       "4       Texas  2000    20851820\n",
       "5       Texas  2010    25145561"
      ]
     },
     "execution_count": 44,
     "metadata": {},
     "output_type": "execute_result"
    }
   ],
   "source": [
    "pop_flat = pop.reset_index(name='population')\n",
    "pop_flat"
   ]
  },
  {
   "cell_type": "markdown",
   "id": "d47a4379",
   "metadata": {},
   "source": [
    "##### Data Aggregations on Multi-Indices"
   ]
  },
  {
   "cell_type": "markdown",
   "id": "37559ea0",
   "metadata": {},
   "source": [
    "We’ve previously seen that Pandas has built-in data aggregation methods, such as\n",
    "mean(), sum(), and max(). For hierarchically indexed data, these can be passed a\n",
    "level parameter that controls which subset of the data the aggregate is computed on."
   ]
  },
  {
   "cell_type": "code",
   "execution_count": 46,
   "id": "f86f4c32",
   "metadata": {},
   "outputs": [
    {
     "data": {
      "text/html": [
       "<div>\n",
       "<style scoped>\n",
       "    .dataframe tbody tr th:only-of-type {\n",
       "        vertical-align: middle;\n",
       "    }\n",
       "\n",
       "    .dataframe tbody tr th {\n",
       "        vertical-align: top;\n",
       "    }\n",
       "\n",
       "    .dataframe thead tr th {\n",
       "        text-align: left;\n",
       "    }\n",
       "\n",
       "    .dataframe thead tr:last-of-type th {\n",
       "        text-align: right;\n",
       "    }\n",
       "</style>\n",
       "<table border=\"1\" class=\"dataframe\">\n",
       "  <thead>\n",
       "    <tr>\n",
       "      <th>subject</th>\n",
       "      <th colspan=\"2\" halign=\"left\">Bob</th>\n",
       "      <th colspan=\"2\" halign=\"left\">Guido</th>\n",
       "      <th colspan=\"2\" halign=\"left\">Sue</th>\n",
       "    </tr>\n",
       "    <tr>\n",
       "      <th>type</th>\n",
       "      <th>HR</th>\n",
       "      <th>Temp</th>\n",
       "      <th>HR</th>\n",
       "      <th>Temp</th>\n",
       "      <th>HR</th>\n",
       "      <th>Temp</th>\n",
       "    </tr>\n",
       "    <tr>\n",
       "      <th>year</th>\n",
       "      <th></th>\n",
       "      <th></th>\n",
       "      <th></th>\n",
       "      <th></th>\n",
       "      <th></th>\n",
       "      <th></th>\n",
       "    </tr>\n",
       "  </thead>\n",
       "  <tbody>\n",
       "    <tr>\n",
       "      <th>2013</th>\n",
       "      <td>43.5</td>\n",
       "      <td>36.6</td>\n",
       "      <td>30.0</td>\n",
       "      <td>36.7</td>\n",
       "      <td>33.5</td>\n",
       "      <td>37.55</td>\n",
       "    </tr>\n",
       "    <tr>\n",
       "      <th>2014</th>\n",
       "      <td>30.5</td>\n",
       "      <td>36.9</td>\n",
       "      <td>34.0</td>\n",
       "      <td>36.1</td>\n",
       "      <td>29.0</td>\n",
       "      <td>36.25</td>\n",
       "    </tr>\n",
       "  </tbody>\n",
       "</table>\n",
       "</div>"
      ],
      "text/plain": [
       "subject   Bob       Guido         Sue       \n",
       "type       HR  Temp    HR  Temp    HR   Temp\n",
       "year                                        \n",
       "2013     43.5  36.6  30.0  36.7  33.5  37.55\n",
       "2014     30.5  36.9  34.0  36.1  29.0  36.25"
      ]
     },
     "execution_count": 46,
     "metadata": {},
     "output_type": "execute_result"
    }
   ],
   "source": [
    "data_mean = health_data.groupby(by='year').mean()\n",
    "data_mean"
   ]
  },
  {
   "cell_type": "markdown",
   "id": "947feb5e",
   "metadata": {},
   "source": [
    "By further making use of the axis keyword, we can take the mean among levels on\n",
    "the columns as well:"
   ]
  },
  {
   "cell_type": "code",
   "execution_count": 50,
   "id": "0aa32e56",
   "metadata": {},
   "outputs": [
    {
     "data": {
      "text/html": [
       "<div>\n",
       "<style scoped>\n",
       "    .dataframe tbody tr th:only-of-type {\n",
       "        vertical-align: middle;\n",
       "    }\n",
       "\n",
       "    .dataframe tbody tr th {\n",
       "        vertical-align: top;\n",
       "    }\n",
       "\n",
       "    .dataframe thead th {\n",
       "        text-align: right;\n",
       "    }\n",
       "</style>\n",
       "<table border=\"1\" class=\"dataframe\">\n",
       "  <thead>\n",
       "    <tr style=\"text-align: right;\">\n",
       "      <th></th>\n",
       "      <th>type</th>\n",
       "      <th>HR</th>\n",
       "      <th>Temp</th>\n",
       "    </tr>\n",
       "    <tr>\n",
       "      <th>year</th>\n",
       "      <th>visit</th>\n",
       "      <th></th>\n",
       "      <th></th>\n",
       "    </tr>\n",
       "  </thead>\n",
       "  <tbody>\n",
       "    <tr>\n",
       "      <th rowspan=\"2\" valign=\"top\">2013</th>\n",
       "      <th>1</th>\n",
       "      <td>38.666667</td>\n",
       "      <td>37.033333</td>\n",
       "    </tr>\n",
       "    <tr>\n",
       "      <th>2</th>\n",
       "      <td>32.666667</td>\n",
       "      <td>36.866667</td>\n",
       "    </tr>\n",
       "    <tr>\n",
       "      <th rowspan=\"2\" valign=\"top\">2014</th>\n",
       "      <th>1</th>\n",
       "      <td>28.666667</td>\n",
       "      <td>36.000000</td>\n",
       "    </tr>\n",
       "    <tr>\n",
       "      <th>2</th>\n",
       "      <td>33.666667</td>\n",
       "      <td>36.833333</td>\n",
       "    </tr>\n",
       "  </tbody>\n",
       "</table>\n",
       "</div>"
      ],
      "text/plain": [
       "type               HR       Temp\n",
       "year visit                      \n",
       "2013 1      38.666667  37.033333\n",
       "     2      32.666667  36.866667\n",
       "2014 1      28.666667  36.000000\n",
       "     2      33.666667  36.833333"
      ]
     },
     "execution_count": 50,
     "metadata": {},
     "output_type": "execute_result"
    }
   ],
   "source": [
    "health_data.groupby(by='type', axis=1).mean()"
   ]
  },
  {
   "cell_type": "code",
   "execution_count": null,
   "id": "9c9e9c69",
   "metadata": {},
   "outputs": [],
   "source": []
  }
 ],
 "metadata": {
  "kernelspec": {
   "display_name": "Python 3 (ipykernel)",
   "language": "python",
   "name": "python3"
  },
  "language_info": {
   "codemirror_mode": {
    "name": "ipython",
    "version": 3
   },
   "file_extension": ".py",
   "mimetype": "text/x-python",
   "name": "python",
   "nbconvert_exporter": "python",
   "pygments_lexer": "ipython3",
   "version": "3.9.7"
  }
 },
 "nbformat": 4,
 "nbformat_minor": 5
}
