{
 "cells": [
  {
   "cell_type": "code",
   "execution_count": 1,
   "id": "01540100",
   "metadata": {},
   "outputs": [],
   "source": [
    "import numpy as np"
   ]
  },
  {
   "cell_type": "code",
   "execution_count": 2,
   "id": "65c88624",
   "metadata": {},
   "outputs": [
    {
     "data": {
      "text/plain": [
       "'1.21.2'"
      ]
     },
     "execution_count": 2,
     "metadata": {},
     "output_type": "execute_result"
    }
   ],
   "source": [
    "np.__version__"
   ]
  },
  {
   "cell_type": "markdown",
   "id": "27f05dd5",
   "metadata": {},
   "source": [
    "##### Points to notify\n",
    "\n",
    "\n",
    "- array operations\n",
    "- multidimentional aggregations\n",
    "- aggregation functions"
   ]
  },
  {
   "cell_type": "markdown",
   "id": "285f1268",
   "metadata": {},
   "source": [
    "##### Aggregations: Min, Max, and Everything in Between"
   ]
  },
  {
   "cell_type": "markdown",
   "id": "80816532",
   "metadata": {},
   "source": [
    "Often when you are faced with a large amount of data, a first step is to compute sum‐\n",
    "mary statistics for the data in question. Perhaps the most common summary statistics\n",
    "are the mean and standard deviation, which allow you to summarize the “typical” val‐\n",
    "ues in a dataset, but other aggregates are useful as well (the sum, product, median,\n",
    "minimum and maximum, quantiles, etc.)."
   ]
  },
  {
   "cell_type": "markdown",
   "id": "f87e34c2",
   "metadata": {},
   "source": [
    "NumPy has fast built-in aggregation functions for working on arrays; we’ll discuss\n",
    "and demonstrate some of them here."
   ]
  },
  {
   "cell_type": "markdown",
   "id": "da9873e3",
   "metadata": {},
   "source": [
    "###### Summing the Values in an Array"
   ]
  },
  {
   "cell_type": "code",
   "execution_count": 3,
   "id": "17f3c31a",
   "metadata": {},
   "outputs": [
    {
     "data": {
      "text/plain": [
       "49.98675897615992"
      ]
     },
     "execution_count": 3,
     "metadata": {},
     "output_type": "execute_result"
    }
   ],
   "source": [
    "L = np.random.random(100)\n",
    "np.sum(L)"
   ]
  },
  {
   "cell_type": "markdown",
   "id": "254cdd21",
   "metadata": {},
   "source": [
    "###### Minimum and Maximum"
   ]
  },
  {
   "cell_type": "code",
   "execution_count": 6,
   "id": "ab24f0b9",
   "metadata": {},
   "outputs": [
    {
     "data": {
      "text/plain": [
       "0.002438591670151369"
      ]
     },
     "execution_count": 6,
     "metadata": {},
     "output_type": "execute_result"
    }
   ],
   "source": [
    "np.min(L)\n",
    "L.min()"
   ]
  },
  {
   "cell_type": "code",
   "execution_count": 7,
   "id": "f7b79cf8",
   "metadata": {},
   "outputs": [
    {
     "data": {
      "text/plain": [
       "0.987449086971802"
      ]
     },
     "execution_count": 7,
     "metadata": {},
     "output_type": "execute_result"
    }
   ],
   "source": [
    "np.max(L)\n",
    "L.max()"
   ]
  },
  {
   "cell_type": "markdown",
   "id": "482d0020",
   "metadata": {},
   "source": [
    "##### Multidimensional aggregates"
   ]
  },
  {
   "cell_type": "code",
   "execution_count": 8,
   "id": "a5be3e4c",
   "metadata": {},
   "outputs": [
    {
     "name": "stdout",
     "output_type": "stream",
     "text": [
      "[[0.43112061 0.48390741 0.59099942 0.76012316]\n",
      " [0.47524237 0.69781638 0.62908905 0.327929  ]\n",
      " [0.66237814 0.89652001 0.21629226 0.04141508]]\n"
     ]
    }
   ],
   "source": [
    "M = np.random.random((3, 4))\n",
    "print(M)"
   ]
  },
  {
   "cell_type": "code",
   "execution_count": 10,
   "id": "4bcb899f",
   "metadata": {},
   "outputs": [
    {
     "data": {
      "text/plain": [
       "6.212832884442788"
      ]
     },
     "execution_count": 10,
     "metadata": {},
     "output_type": "execute_result"
    }
   ],
   "source": [
    "M.sum()"
   ]
  },
  {
   "cell_type": "markdown",
   "id": "b7d359f5",
   "metadata": {},
   "source": [
    "The function returns four values, corresponding to the four columns of numbers.\n",
    "Similarly, we can find the maximum value within each row:"
   ]
  },
  {
   "cell_type": "code",
   "execution_count": 11,
   "id": "bb6e458a",
   "metadata": {},
   "outputs": [
    {
     "data": {
      "text/plain": [
       "array([0.43112061, 0.48390741, 0.21629226, 0.04141508])"
      ]
     },
     "execution_count": 11,
     "metadata": {},
     "output_type": "execute_result"
    }
   ],
   "source": [
    "M.min(axis=0)"
   ]
  },
  {
   "cell_type": "code",
   "execution_count": 12,
   "id": "dd7ef5a9",
   "metadata": {},
   "outputs": [
    {
     "data": {
      "text/plain": [
       "array([0.76012316, 0.69781638, 0.89652001])"
      ]
     },
     "execution_count": 12,
     "metadata": {},
     "output_type": "execute_result"
    }
   ],
   "source": [
    "M.max(axis=1)"
   ]
  },
  {
   "cell_type": "markdown",
   "id": "9a56f481",
   "metadata": {},
   "source": [
    "##### Other aggregation functions"
   ]
  },
  {
   "cell_type": "markdown",
   "id": "2ad2e8bb",
   "metadata": {},
   "source": [
    "NumPy provides many other aggregation functions, but we won’t discuss them in\n",
    "detail here. Additionally, most aggregates have a NaN-safe counterpart that computes\n",
    "the result while ignoring missing values,"
   ]
  },
  {
   "cell_type": "code",
   "execution_count": 14,
   "id": "3fbaf540",
   "metadata": {},
   "outputs": [
    {
     "name": "stdout",
     "output_type": "stream",
     "text": [
      "[ 0  1  2  3  4  5  6  7  8  9 10 11 12 13 14 15 16 17 18 19 20 21 22 23\n",
      " 24 25 26 27 28 29 30 31 32 33 34 35 36 37 38 39 40 41 42 43 44 45 46 47\n",
      " 48 49 50 51 52 53 54 55 56 57 58 59 60 61 62 63 64 65 66 67 68 69 70 71\n",
      " 72 73 74 75 76 77 78 79 80 81 82 83 84 85 86 87 88 89 90 91 92 93 94 95\n",
      " 96 97 98 99]\n"
     ]
    }
   ],
   "source": [
    "x = np.arange(100)\n",
    "print(x)"
   ]
  },
  {
   "cell_type": "code",
   "execution_count": 22,
   "id": "fcc4d6e0",
   "metadata": {},
   "outputs": [
    {
     "name": "stdout",
     "output_type": "stream",
     "text": [
      "Sum is  4950\n",
      "Product is  0\n",
      "Mean is  49.5\n",
      "Std is  28.86607004772212\n",
      "Variance is  833.25\n",
      "Min is  0\n",
      "Max is  99\n",
      "argmin is  0\n",
      "argmax is  99\n",
      "median is  49.5\n",
      "percentile is  98.01\n"
     ]
    }
   ],
   "source": [
    "print(\"Sum is \", x.sum())\n",
    "print(\"Product is \", x.prod())\n",
    "print(\"Mean is \", x.mean())\n",
    "print(\"Std is \", x.std())\n",
    "print(\"Variance is \", x.var())\n",
    "print(\"Min is \", x.min())\n",
    "print(\"Max is \", x.max())\n",
    "print(\"argmin is \", x.argmin())\n",
    "print(\"argmax is \", x.argmax())\n",
    "print(\"median is \", np.median(x))\n",
    "print(\"percentile is \", np.percentile(x, 99))"
   ]
  },
  {
   "cell_type": "markdown",
   "id": "6fac0412",
   "metadata": {},
   "source": [
    "##### NaN-safe Version"
   ]
  },
  {
   "cell_type": "markdown",
   "id": "8e28495c",
   "metadata": {},
   "source": [
    "np.nansum <br>\n",
    "np.nanprod <br>\n",
    "np.nanmean <br>\n",
    "np.nanstd <br>\n",
    "np.nanvar <br>\n",
    "np.nanmin <br>\n",
    "np.nanmax <br>\n",
    "np.nanargmin <br>\n",
    "np.nanargmax <br>\n",
    "np.nanmedian <br>\n",
    "np.nanpercentile "
   ]
  },
  {
   "cell_type": "markdown",
   "id": "01633f0b",
   "metadata": {},
   "source": [
    "##### Example"
   ]
  },
  {
   "cell_type": "code",
   "execution_count": null,
   "id": "b77e0de2",
   "metadata": {},
   "outputs": [],
   "source": []
  }
 ],
 "metadata": {
  "kernelspec": {
   "display_name": "Python 3 (ipykernel)",
   "language": "python",
   "name": "python3"
  },
  "language_info": {
   "codemirror_mode": {
    "name": "ipython",
    "version": 3
   },
   "file_extension": ".py",
   "mimetype": "text/x-python",
   "name": "python",
   "nbconvert_exporter": "python",
   "pygments_lexer": "ipython3",
   "version": "3.9.7"
  }
 },
 "nbformat": 4,
 "nbformat_minor": 5
}
