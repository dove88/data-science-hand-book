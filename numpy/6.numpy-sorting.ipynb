{
 "cells": [
  {
   "cell_type": "code",
   "execution_count": 3,
   "id": "2895e71a",
   "metadata": {},
   "outputs": [],
   "source": [
    "import numpy as np"
   ]
  },
  {
   "cell_type": "code",
   "execution_count": 4,
   "id": "ae3ae219",
   "metadata": {},
   "outputs": [
    {
     "data": {
      "text/plain": [
       "'1.21.2'"
      ]
     },
     "execution_count": 4,
     "metadata": {},
     "output_type": "execute_result"
    }
   ],
   "source": [
    "np.__version__"
   ]
  },
  {
   "cell_type": "markdown",
   "id": "d0e6cc40",
   "metadata": {},
   "source": [
    "Up to this point we have been concerned mainly with tools to access and operate on\n",
    "array data with NumPy. This section covers algorithms related to sorting values in\n",
    "NumPy arrays. These algorithms are a favorite topic in introductory computer sci‐\n",
    "ence courses: if you’ve ever taken one, you probably have had dreams (or, depending\n",
    "on your temperament, nightmares) about insertion sorts, selection sorts, merge sorts,\n",
    "quick sorts, bubble sorts, and many, many more. All are means of accomplishing a\n",
    "similar task: sorting the values in a list or array."
   ]
  },
  {
   "cell_type": "markdown",
   "id": "d65ff8c0",
   "metadata": {},
   "source": [
    "##### Fast Sorting in NumPy: np.sort and np.argsort"
   ]
  },
  {
   "cell_type": "markdown",
   "id": "03c053b9",
   "metadata": {},
   "source": [
    "Although Python has built-in sort and sorted functions to work with lists, we won’t\n",
    "discuss them here because NumPy’s np.sort function turns out to be much more efficient and useful for our purposes. By default np.sort uses an  `N log N`,  quick‐sort algorithm, though mergesort and heapsort are also available. For most applica‐tions, the default quicksort is more than sufficient. <br>\n",
    "\n",
    "To return a sorted version of the array without modifying the input, you can use np.sort:"
   ]
  },
  {
   "cell_type": "code",
   "execution_count": 5,
   "id": "8c0a7b9d",
   "metadata": {},
   "outputs": [
    {
     "data": {
      "text/plain": [
       "array([1, 2, 3, 4, 5])"
      ]
     },
     "execution_count": 5,
     "metadata": {},
     "output_type": "execute_result"
    }
   ],
   "source": [
    "x = np.array([2, 1, 4, 3, 5])\n",
    "np.sort(x)"
   ]
  },
  {
   "cell_type": "markdown",
   "id": "b266216a",
   "metadata": {},
   "source": [
    "If you prefer to sort the array in-place, you can instead use the sort method of arrays:"
   ]
  },
  {
   "cell_type": "code",
   "execution_count": 6,
   "id": "3be0ac4a",
   "metadata": {},
   "outputs": [
    {
     "name": "stdout",
     "output_type": "stream",
     "text": [
      "[1 2 3 4 5]\n"
     ]
    }
   ],
   "source": [
    "x.sort()\n",
    "print(x)"
   ]
  },
  {
   "cell_type": "markdown",
   "id": "685ca38f",
   "metadata": {},
   "source": [
    "A related function is argsort, which instead returns the indices of the sorted\n",
    "elements:"
   ]
  },
  {
   "cell_type": "code",
   "execution_count": 7,
   "id": "16956e4d",
   "metadata": {},
   "outputs": [
    {
     "name": "stdout",
     "output_type": "stream",
     "text": [
      "[1 0 3 2 4]\n"
     ]
    }
   ],
   "source": [
    "x = np.array([2, 1, 4, 3, 5])\n",
    "i = np.argsort(x)\n",
    "print(i)\n"
   ]
  },
  {
   "cell_type": "markdown",
   "id": "7aa9f881",
   "metadata": {},
   "source": [
    "The first element of this result gives the index of the smallest element, the second\n",
    "value gives the index of the second smallest, and so on. These indices can then be\n",
    "used (via fancy indexing) to construct the sorted array if desired:"
   ]
  },
  {
   "cell_type": "code",
   "execution_count": 8,
   "id": "c0bd32bc",
   "metadata": {},
   "outputs": [
    {
     "data": {
      "text/plain": [
       "array([1, 2, 3, 4, 5])"
      ]
     },
     "execution_count": 8,
     "metadata": {},
     "output_type": "execute_result"
    }
   ],
   "source": [
    "x[i]"
   ]
  },
  {
   "cell_type": "markdown",
   "id": "7b7c147e",
   "metadata": {},
   "source": [
    "##### Sorting along rows or columns"
   ]
  },
  {
   "cell_type": "markdown",
   "id": "c461dc68",
   "metadata": {},
   "source": [
    "A useful feature of NumPy’s sorting algorithms is the ability to sort along specific\n",
    "rows or columns of a multidimensional array using the axis argument. For example:"
   ]
  },
  {
   "cell_type": "code",
   "execution_count": 9,
   "id": "ec1025bd",
   "metadata": {},
   "outputs": [
    {
     "name": "stdout",
     "output_type": "stream",
     "text": [
      "[[6 3 7 4 6 9]\n",
      " [2 6 7 4 3 7]\n",
      " [7 2 5 4 1 7]\n",
      " [5 1 4 0 9 5]]\n"
     ]
    }
   ],
   "source": [
    "rand = np.random.RandomState(42)\n",
    "X = rand.randint(0, 10, (4, 6))\n",
    "print(X)"
   ]
  },
  {
   "cell_type": "code",
   "execution_count": 10,
   "id": "191c721c",
   "metadata": {},
   "outputs": [
    {
     "data": {
      "text/plain": [
       "array([[2, 1, 4, 0, 1, 5],\n",
       "       [5, 2, 5, 4, 3, 7],\n",
       "       [6, 3, 7, 4, 6, 7],\n",
       "       [7, 6, 7, 4, 9, 9]])"
      ]
     },
     "execution_count": 10,
     "metadata": {},
     "output_type": "execute_result"
    }
   ],
   "source": [
    "np.sort(X, axis=0)"
   ]
  },
  {
   "cell_type": "code",
   "execution_count": 11,
   "id": "0f3a954f",
   "metadata": {},
   "outputs": [
    {
     "data": {
      "text/plain": [
       "array([[3, 4, 6, 6, 7, 9],\n",
       "       [2, 3, 4, 6, 7, 7],\n",
       "       [1, 2, 4, 5, 7, 7],\n",
       "       [0, 1, 4, 5, 5, 9]])"
      ]
     },
     "execution_count": 11,
     "metadata": {},
     "output_type": "execute_result"
    }
   ],
   "source": [
    "np.sort(X, axis=1)"
   ]
  },
  {
   "cell_type": "markdown",
   "id": "e505b100",
   "metadata": {},
   "source": [
    "Keep in mind that this treats each row or column as an independent array, and any\n",
    "relationships between the row or column values will be lost!"
   ]
  },
  {
   "cell_type": "markdown",
   "id": "6a038f05",
   "metadata": {},
   "source": [
    "##### Partial Sorts: Partitioning"
   ]
  },
  {
   "cell_type": "markdown",
   "id": "612179d6",
   "metadata": {},
   "source": [
    "Sometimes we’re not interested in sorting the entire array, but simply want to find the\n",
    "K smallest values in the array. NumPy provides this in the np.partition function.\n",
    "np.partition takes an array and a number K; the result is a new array with the small‐\n",
    "est K values to the left of the partition, and the remaining values to the right, in arbi‐\n",
    "trary order:"
   ]
  },
  {
   "cell_type": "code",
   "execution_count": 12,
   "id": "a4e1c9a3",
   "metadata": {},
   "outputs": [
    {
     "data": {
      "text/plain": [
       "array([2, 1, 3, 4, 6, 5, 7])"
      ]
     },
     "execution_count": 12,
     "metadata": {},
     "output_type": "execute_result"
    }
   ],
   "source": [
    "x = np.array([7, 2, 3, 1, 6, 5, 4])\n",
    "np.partition(x, 3)"
   ]
  },
  {
   "cell_type": "markdown",
   "id": "59787ca1",
   "metadata": {},
   "source": [
    "Note that the first three values in the resulting array are the three smallest in the\n",
    "array, and the remaining array positions contain the remaining values. Within the\n",
    "two partitions, the elements have arbitrary order."
   ]
  },
  {
   "cell_type": "markdown",
   "id": "de140621",
   "metadata": {},
   "source": [
    "Similarly to sorting, we can partition along an arbitrary axis of a multidimensional\n",
    "array:"
   ]
  },
  {
   "cell_type": "code",
   "execution_count": 13,
   "id": "c390b57f",
   "metadata": {},
   "outputs": [
    {
     "data": {
      "text/plain": [
       "array([[3, 4, 6, 7, 6, 9],\n",
       "       [2, 3, 4, 7, 6, 7],\n",
       "       [1, 2, 4, 5, 7, 7],\n",
       "       [0, 1, 4, 5, 9, 5]])"
      ]
     },
     "execution_count": 13,
     "metadata": {},
     "output_type": "execute_result"
    }
   ],
   "source": [
    "np.partition(X, 2, axis=1)"
   ]
  },
  {
   "cell_type": "markdown",
   "id": "967763ce",
   "metadata": {},
   "source": [
    "The result is an array where the first two slots in each row contain the smallest values\n",
    "from that row, with the remaining values filling the remaining slots. <br>\n",
    "\n",
    "Finally, just as there is a np.argsort that computes indices of the sort, there is a\n",
    "np.argpartition that computes indices of the partition. We’ll see this in action in the\n",
    "following section."
   ]
  },
  {
   "cell_type": "markdown",
   "id": "0f0885ad",
   "metadata": {},
   "source": [
    "##### Example: k-Nearest Neighbors"
   ]
  },
  {
   "cell_type": "markdown",
   "id": "69a4d4c7",
   "metadata": {},
   "source": [
    "Let’s quickly see how we might use this argsort function along multiple axes to find\n",
    "the nearest neighbors of each point in a set. We’ll start by creating a random set of 10 \n",
    "points on a two-dimensional plane. Using the standard convention, we’ll arrange\n",
    "these in a 10×2 array:"
   ]
  },
  {
   "cell_type": "code",
   "execution_count": 16,
   "id": "a28e6b1b",
   "metadata": {},
   "outputs": [
    {
     "data": {
      "text/plain": [
       "array([[0.23089383, 0.24102547],\n",
       "       [0.68326352, 0.60999666],\n",
       "       [0.83319491, 0.17336465],\n",
       "       [0.39106061, 0.18223609],\n",
       "       [0.75536141, 0.42515587],\n",
       "       [0.20794166, 0.56770033],\n",
       "       [0.03131329, 0.84228477],\n",
       "       [0.44975413, 0.39515024],\n",
       "       [0.92665887, 0.727272  ],\n",
       "       [0.32654077, 0.57044397]])"
      ]
     },
     "execution_count": 16,
     "metadata": {},
     "output_type": "execute_result"
    }
   ],
   "source": [
    "X = rand.rand(10, 2)\n",
    "X"
   ]
  },
  {
   "cell_type": "code",
   "execution_count": 17,
   "id": "dfe923cf",
   "metadata": {},
   "outputs": [],
   "source": [
    "import matplotlib.pyplot as plt"
   ]
  },
  {
   "cell_type": "code",
   "execution_count": 20,
   "id": "210bc638",
   "metadata": {},
   "outputs": [
    {
     "data": {
      "text/plain": [
       "<matplotlib.collections.PathCollection at 0x25d78bc0970>"
      ]
     },
     "execution_count": 20,
     "metadata": {},
     "output_type": "execute_result"
    },
    {
     "data": {
      "image/png": "[encoded data removed]",
      "text/plain": [
       "<Figure size 432x288 with 1 Axes>"
      ]
     },
     "metadata": {
      "needs_background": "light"
     },
     "output_type": "display_data"
    }
   ],
   "source": [
    "plt.scatter(X[:,0], X[:,1], s=100)"
   ]
  },
  {
   "cell_type": "markdown",
   "id": "3b6fee57",
   "metadata": {},
   "source": [
    "Now we’ll compute the distance between each pair of points. Recall that the squareddistance between two\n",
    "points is the sum of the squared differences in each dimension; using the efficient broadcasting and aggregation\n",
    "routines provided by NumPy, we can compute the matrix of square distances in a sin‐\n",
    "gle line of code:"
   ]
  },
  {
   "cell_type": "code",
   "execution_count": 22,
   "id": "cffedd93",
   "metadata": {},
   "outputs": [],
   "source": [
    " dist_sq = np.sum((X[:,np.newaxis,:] - X[np.newaxis,:,:]) ** 2, axis=-1)"
   ]
  },
  {
   "cell_type": "markdown",
   "id": "edf97b9d",
   "metadata": {},
   "source": [
    "This operation has a lot packed into it, and it might be a bit confusing if you’re unfa‐\n",
    "miliar with NumPy’s broadcasting rules. When you come across code like this, it can\n",
    "be useful to break it down into its component steps:"
   ]
  },
  {
   "cell_type": "code",
   "execution_count": 31,
   "id": "e362daa3",
   "metadata": {},
   "outputs": [
    {
     "data": {
      "text/plain": [
       "(10, 10, 2)"
      ]
     },
     "execution_count": 31,
     "metadata": {},
     "output_type": "execute_result"
    }
   ],
   "source": [
    "differences = X[:, np.newaxis, :] - X[np.newaxis,:,:]\n",
    "differences.shape"
   ]
  },
  {
   "cell_type": "code",
   "execution_count": 35,
   "id": "333bc787",
   "metadata": {},
   "outputs": [
    {
     "data": {
      "text/plain": [
       "(10, 10, 2)"
      ]
     },
     "execution_count": 35,
     "metadata": {},
     "output_type": "execute_result"
    }
   ],
   "source": [
    "sq_difference = differences ** 2\n",
    "sq_difference.shape"
   ]
  },
  {
   "cell_type": "code",
   "execution_count": 38,
   "id": "c4ca2ea9",
   "metadata": {},
   "outputs": [
    {
     "data": {
      "text/plain": [
       "(10, 10)"
      ]
     },
     "execution_count": 38,
     "metadata": {},
     "output_type": "execute_result"
    }
   ],
   "source": [
    "dist_sq = sq_difference.sum(-1)\n",
    "dist_sq.shape"
   ]
  },
  {
   "cell_type": "markdown",
   "id": "a9762624",
   "metadata": {},
   "source": [
    "Just to double-check what we are doing, we should see that the diagonal of this matrix\n",
    "(i.e., the set of distances between each point and itself) is all zero:"
   ]
  },
  {
   "cell_type": "code",
   "execution_count": 39,
   "id": "c2a8a155",
   "metadata": {},
   "outputs": [
    {
     "data": {
      "text/plain": [
       "array([0., 0., 0., 0., 0., 0., 0., 0., 0., 0.])"
      ]
     },
     "execution_count": 39,
     "metadata": {},
     "output_type": "execute_result"
    }
   ],
   "source": [
    "dist_sq.diagonal()"
   ]
  },
  {
   "cell_type": "markdown",
   "id": "4cd8891a",
   "metadata": {},
   "source": [
    "It checks out! With the pairwise square-distances converted, we can now use np.arg\n",
    "sort to sort along each row. The leftmost columns will then give the indices of the\n",
    "nearest neighbors:"
   ]
  },
  {
   "cell_type": "code",
   "execution_count": 41,
   "id": "f0092cef",
   "metadata": {},
   "outputs": [
    {
     "data": {
      "text/plain": [
       "array([[0, 3, 7, 5, 9, 4, 1, 2, 6, 8],\n",
       "       [1, 4, 8, 7, 9, 2, 5, 3, 0, 6],\n",
       "       [2, 4, 3, 7, 1, 8, 0, 9, 5, 6],\n",
       "       [3, 0, 7, 9, 5, 4, 2, 1, 6, 8],\n",
       "       [4, 1, 2, 7, 8, 3, 9, 0, 5, 6],\n",
       "       [5, 9, 7, 6, 0, 3, 1, 4, 8, 2],\n",
       "       [6, 5, 9, 7, 0, 1, 3, 4, 8, 2],\n",
       "       [7, 9, 3, 0, 5, 4, 1, 2, 8, 6],\n",
       "       [8, 1, 4, 2, 7, 9, 5, 3, 0, 6],\n",
       "       [9, 5, 7, 0, 1, 3, 6, 4, 8, 2]], dtype=int64)"
      ]
     },
     "execution_count": 41,
     "metadata": {},
     "output_type": "execute_result"
    }
   ],
   "source": [
    "nearest = np.argsort(dist_sq, axis=1)\n",
    "nearest"
   ]
  },
  {
   "cell_type": "markdown",
   "id": "acbf0c4e",
   "metadata": {},
   "source": [
    "Notice that the first column gives the numbers 0 through 9 in order: this is due to the\n",
    "fact that each point’s closest neighbor is itself, as we would expect. <br>\n",
    "\n",
    "By using a full sort here, we’ve actually done more work than we need to in this case.\n",
    "If we’re simply interested in the nearest k neighbors, all we need is to partition each\n",
    "row so that the smallest k + 1 squared distances come first, with larger distances fill‐\n",
    "ing the remaining positions of the array. We can do this with the np.argpartition\n",
    "function:"
   ]
  },
  {
   "cell_type": "code",
   "execution_count": 43,
   "id": "ac31efb2",
   "metadata": {},
   "outputs": [],
   "source": [
    "K = 2\n",
    "nearest_partition = np.argpartition(dist_sq, K + 1, axis=1)"
   ]
  },
  {
   "cell_type": "markdown",
   "id": "4bf1134d",
   "metadata": {},
   "source": [
    "In order to visualize this network of neighbors, let’s quickly plot the points along with\n",
    "lines representing the connections from each point to its two nearest neighbors\n"
   ]
  },
  {
   "cell_type": "code",
   "execution_count": 53,
   "id": "3a4ecef2",
   "metadata": {},
   "outputs": [
    {
     "data": {
      "image/png": "[encoded data removed]",
      "text/plain": [
       "<Figure size 432x288 with 1 Axes>"
      ]
     },
     "metadata": {
      "needs_background": "light"
     },
     "output_type": "display_data"
    }
   ],
   "source": [
    "plt.scatter(X[:, 0], X[:, 1], s=100)\n",
    "# draw lines from each point to its two nearest neighbors\n",
    "K = 2\n",
    "for i in range(X.shape[0]):\n",
    "    for j in nearest_partition[i, :K+1]:\n",
    "    # plot a line from X[i] to X[j]\n",
    "    # use some zip magic to make it happen:\n",
    "        plt.plot(*zip(X[j], X[i]), color='black')"
   ]
  },
  {
   "cell_type": "code",
   "execution_count": 54,
   "id": "c7b074e5",
   "metadata": {},
   "outputs": [
    {
     "data": {
      "text/plain": [
       "array([1, 4, 8], dtype=int64)"
      ]
     },
     "execution_count": 54,
     "metadata": {},
     "output_type": "execute_result"
    }
   ],
   "source": [
    "nearest_partition[1, :K+1]"
   ]
  },
  {
   "cell_type": "code",
   "execution_count": 55,
   "id": "a3e421e6",
   "metadata": {},
   "outputs": [
    {
     "data": {
      "text/plain": [
       "array([3, 2, 4], dtype=int64)"
      ]
     },
     "execution_count": 55,
     "metadata": {},
     "output_type": "execute_result"
    }
   ],
   "source": [
    "nearest_partition[2, :K+1]"
   ]
  },
  {
   "cell_type": "code",
   "execution_count": 57,
   "id": "84f51c88",
   "metadata": {},
   "outputs": [
    {
     "data": {
      "text/plain": [
       "array([[0, 3, 7, 5, 9, 1, 6, 2, 8, 4],\n",
       "       [1, 4, 8, 7, 9, 5, 6, 3, 2, 0],\n",
       "       [3, 2, 4, 7, 1, 8, 0, 6, 5, 9],\n",
       "       [3, 0, 7, 9, 1, 5, 6, 2, 8, 4],\n",
       "       [1, 2, 4, 7, 3, 8, 9, 6, 5, 0],\n",
       "       [5, 9, 7, 6, 0, 1, 3, 2, 8, 4],\n",
       "       [6, 5, 9, 7, 0, 1, 3, 2, 8, 4],\n",
       "       [3, 9, 7, 0, 1, 5, 6, 2, 8, 4],\n",
       "       [8, 1, 4, 2, 7, 9, 6, 5, 3, 0],\n",
       "       [5, 9, 7, 0, 1, 3, 6, 2, 8, 4]], dtype=int64)"
      ]
     },
     "execution_count": 57,
     "metadata": {},
     "output_type": "execute_result"
    }
   ],
   "source": [
    "np.argpartition(dist_sq, K + 1, axis=1)"
   ]
  },
  {
   "cell_type": "code",
   "execution_count": null,
   "id": "b80c6631",
   "metadata": {},
   "outputs": [],
   "source": []
  },
  {
   "cell_type": "code",
   "execution_count": null,
   "id": "6c2912ac",
   "metadata": {},
   "outputs": [],
   "source": []
  }
 ],
 "metadata": {
  "kernelspec": {
   "display_name": "Python 3 (ipykernel)",
   "language": "python",
   "name": "python3"
  },
  "language_info": {
   "codemirror_mode": {
    "name": "ipython",
    "version": 3
   },
   "file_extension": ".py",
   "mimetype": "text/x-python",
   "name": "python",
   "nbconvert_exporter": "python",
   "pygments_lexer": "ipython3",
   "version": "3.9.7"
  }
 },
 "nbformat": 4,
 "nbformat_minor": 5
}
